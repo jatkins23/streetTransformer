{
 "cells": [
  {
   "cell_type": "code",
   "execution_count": null,
   "id": "448ed458",
   "metadata": {},
   "outputs": [],
   "source": [
    "import os\n",
    "import \n",
    "\n",
    "CAPITAL_RECONSTRUCTION_PATH = 'data/openNYC/Street_and_Highway_Capital_Reconstruction_Projects_-_Intersection_20250721.csv'\n",
    "# sts_hwys_gdf = gpd.read_file(CAPITAL_RECONSTRUCTION_PATH)\n",
    "# sts_hwys_gdf\n",
    "sts_hwys_gdf = gpd.GeoDataFrame(sts_hwys_df, geometry = gpd.points_from_xy(sts_hwys_df['Longitude'], sts_hwys_df['Latitude']))\n",
    "\n",
    "sts_hwys_gdf['ProjectID'].value_counts() # 461 projectIDs\n",
    "sts_hwys_gdf"
   ]
  }
 ],
 "metadata": {
  "language_info": {
   "name": "python"
  }
 },
 "nbformat": 4,
 "nbformat_minor": 5
}
