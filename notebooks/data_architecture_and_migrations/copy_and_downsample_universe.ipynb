{
 "cells": [
  {
   "cell_type": "code",
   "execution_count": 14,
   "id": "f0cda163",
   "metadata": {},
   "outputs": [
    {
     "name": "stdout",
     "output_type": "stream",
     "text": [
      "Done with year: 2006!\n",
      "Done with year: 2008!\n",
      "Done with year: 2010!\n",
      "Done with year: 2012!\n",
      "Done with year: 2014!\n",
      "Done with year: 2016!\n",
      "Done with year: 2018!\n",
      "Done with year: 2020!\n",
      "Done with year: 2022!\n",
      "Done with year: 2024!\n"
     ]
    }
   ],
   "source": [
    "import os\n",
    "from pathlib import Path\n",
    "import shutil\n",
    "import geopandas as gpd\n",
    "import pandas as pd\n",
    "\n",
    "UNIVERSES_DIR = Path('../src/streetTransformer/data/universes/')\n",
    "INPUT_UNIVERSE = UNIVERSES_DIR / 'caprecon_plus_control' \n",
    "OUTPUT_UNIVERSE = UNIVERSES_DIR / 'caprecon_plus_control_downsampled'\n",
    "N_SAMPLES = 200\n",
    "YEARS = list(range(2006, 2025, 2))\n",
    "\n",
    "REQUIRED_IDS = [7571, 8887, 11738, 11800, 12116, 14271, 15283, 15375, 15709, 15852]\n",
    "\n",
    "# Get Locations\n",
    "input_locations_gdf = gpd.read_feather(INPUT_UNIVERSE / 'locations.feather')\n",
    "\n",
    "# Downsample and save\n",
    "output_locations_gdf = pd.concat([input_locations_gdf.sample(N_SAMPLES - len(REQUIRED_IDS)), input_locations_gdf[input_locations_gdf['location_id'].isin(REQUIRED_IDS)]])\n",
    "output_locations_gdf.to_feather(OUTPUT_UNIVERSE / 'locations.feather')\n",
    "\n",
    "# Save IDs\n",
    "output_ids = output_locations_gdf['location_id'].values\n",
    "\n",
    "# Copy Documents\n",
    "shutil.copy2(INPUT_UNIVERSE / 'documents.feather', OUTPUT_UNIVERSE / 'documents.feather')\n",
    "\n",
    "# Copy all features\n",
    "for year in YEARS: \n",
    "    input_dir = INPUT_UNIVERSE / 'features' / str(year)\n",
    "    output_dir = OUTPUT_UNIVERSE / 'features' / str(year)\n",
    "    output_dir.mkdir(parents=True, exist_ok=True)\n",
    "    shutil.copytree(input_dir, output_dir, dirs_exist_ok=True)\n",
    "\n",
    "# Now loop through imagery\n",
    "for year in YEARS:\n",
    "    input_dir = INPUT_UNIVERSE / 'imagery' / str(year)\n",
    "    output_dir = OUTPUT_UNIVERSE / 'imagery' / str(year)\n",
    "    output_dir.mkdir(parents=True, exist_ok=True)\n",
    "    for f in input_dir.iterdir():\n",
    "        if int(f.stem) in output_ids:\n",
    "            shutil.copy2(f, output_dir / f.name)\n",
    "        \n",
    "    print(f'Done with year: {year}!')\n",
    "\n"
   ]
  },
  {
   "cell_type": "code",
   "execution_count": 15,
   "id": "d4e10f32",
   "metadata": {},
   "outputs": [
    {
     "data": {
      "text/plain": [
       "'/Users/jon/Documents/Employment/2025 VIDA Lab/streetTransformer/notebooks/caprecon_plus_control_downsampled.zip'"
      ]
     },
     "execution_count": 15,
     "metadata": {},
     "output_type": "execute_result"
    }
   ],
   "source": [
    "shutil.make_archive(\"caprecon_plus_control_downsampled\", \"zip\", root_dir=OUTPUT_UNIVERSE)"
   ]
  }
 ],
 "metadata": {
  "kernelspec": {
   "display_name": "streettransformer (3.11.7)",
   "language": "python",
   "name": "python3"
  },
  "language_info": {
   "codemirror_mode": {
    "name": "ipython",
    "version": 3
   },
   "file_extension": ".py",
   "mimetype": "text/x-python",
   "name": "python",
   "nbconvert_exporter": "python",
   "pygments_lexer": "ipython3",
   "version": "3.11.7"
  }
 },
 "nbformat": 4,
 "nbformat_minor": 5
}
