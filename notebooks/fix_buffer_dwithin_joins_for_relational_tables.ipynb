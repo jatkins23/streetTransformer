{
 "cells": [
  {
   "cell_type": "code",
   "execution_count": 1,
   "id": "f0a45118",
   "metadata": {},
   "outputs": [],
   "source": [
    "from pathlib import Path\n",
    "import os\n",
    "from dotenv import load_dotenv\n",
    "\n",
    "load_dotenv()\n",
    "\n",
    "DB_PATH = Path(str(os.getenv('DB_PATH')))\n",
    "\n",
    "import geopandas as gpd\n",
    "import pandas as pd\n",
    "\n",
    "document_files = pd.read_parquet(DB_PATH / \"document_files.parquet\")\n",
    "locations = gpd.read_parquet(DB_PATH / \"locations.parquet\")\n",
    "project_total_scopes = pd.read_parquet(DB_PATH / \"project_total_scopes.parquet\")\n",
    "project_safety_scopes = pd.read_parquet(DB_PATH / \"project_safety_scopes.parquet\")\n",
    "project_geos = gpd.read_parquet(DB_PATH / \"project_geos.parquet\")\n",
    "projects = pd.read_parquet(DB_PATH / \"projects.parquet\")\n",
    "location_year_files = pd.read_parquet(DB_PATH / \"location_year_files.parquet\")\n",
    "document_collections = pd.read_parquet(DB_PATH / \"document_collections.parquet\")\n",
    "location_to_project = pd.read_parquet(DB_PATH / \"_location_to_project.parquet\")\n",
    "imgs_to_filesAPI = pd.read_parquet(DB_PATH / '_imgs_to_filesAPI.parquet')\n",
    "docs_to_filesAPI = pd.read_parquet(DB_PATH / '_docs_to_filesAPI.parquet')\n",
    "image_pairs = pd.read_parquet(DB_PATH / 'processed' / 'image_pairs.parquet')\n",
    "document_collection_geocodes = gpd.read_parquet(DB_PATH / 'document_collection_geocodes.parquet')"
   ]
  },
  {
   "cell_type": "markdown",
   "id": "5bb60ab4",
   "metadata": {},
   "source": [
    "# Location to Project"
   ]
  },
  {
   "cell_type": "code",
   "execution_count": 2,
   "id": "965e1954",
   "metadata": {},
   "outputs": [
    {
     "data": {
      "application/vnd.microsoft.datawrangler.viewer.v0+json": {
       "columns": [
        {
         "name": "index",
         "rawType": "int64",
         "type": "integer"
        },
        {
         "name": "location_id",
         "rawType": "int32",
         "type": "integer"
        },
        {
         "name": "citydata_proj_id",
         "rawType": "int64",
         "type": "integer"
        },
        {
         "name": "index_right",
         "rawType": "int64",
         "type": "integer"
        },
        {
         "name": "distance",
         "rawType": "float64",
         "type": "float"
        }
       ],
       "ref": "ca776dfc-3644-400f-b296-def88753dd2b",
       "rows": [
        [
         "0",
         "43609",
         "2836",
         "1935",
         "0.17932474863568282"
        ],
        [
         "1",
         "41675",
         "315",
         "199",
         "177.09952720510796"
        ],
        [
         "1",
         "41675",
         "315",
         "199",
         "0.24951075996219071"
        ],
        [
         "2",
         "37511",
         "2860",
         "1959",
         "0.2925028020643891"
        ],
        [
         "3",
         "54810",
         "1398",
         "973",
         "0.2674541161992215"
        ],
        [
         "3",
         "54810",
         "1398",
         "973",
         "65.61534029651804"
        ],
        [
         "4",
         "41012",
         "3076",
         "2137",
         "0.25418054051018274"
        ],
        [
         "5",
         "23588",
         "1027",
         "794",
         "34.28157942636375"
        ],
        [
         "5",
         "23588",
         "1027",
         "794",
         "0.21839912964237587"
        ],
        [
         "5",
         "23588",
         "1027",
         "794",
         "32.037592987435026"
        ],
        [
         "5",
         "23588",
         "319",
         "203",
         "34.28157942636375"
        ],
        [
         "5",
         "23588",
         "319",
         "203",
         "0.21839912964237587"
        ],
        [
         "5",
         "23588",
         "319",
         "203",
         "32.037592987435026"
        ],
        [
         "6",
         "55452",
         "1735",
         "1162",
         "0.2608862755753573"
        ],
        [
         "7",
         "53436",
         "3153",
         "2195",
         "0.1889993900805109"
        ],
        [
         "8",
         "67109",
         "2202",
         "1561",
         "2745.3586375415357"
        ],
        [
         "8",
         "67109",
         "2202",
         "1561",
         "0.20892878921393668"
        ],
        [
         "8",
         "67109",
         "2202",
         "1561",
         "107.70385681883639"
        ],
        [
         "9",
         "50884",
         "350",
         "234",
         "0.2582800395136724"
        ],
        [
         "9",
         "50884",
         "350",
         "234",
         "62.17996228814905"
        ],
        [
         "10",
         "48899",
         "3186",
         "2228",
         "23.8330263089152"
        ],
        [
         "10",
         "48899",
         "3186",
         "2228",
         "0.1991973236244868"
        ],
        [
         "10",
         "48899",
         "3186",
         "2228",
         "17.102915419017386"
        ],
        [
         "10",
         "48899",
         "213",
         "147",
         "23.8330263089152"
        ],
        [
         "10",
         "48899",
         "213",
         "147",
         "0.1991973236244868"
        ],
        [
         "10",
         "48899",
         "213",
         "147",
         "17.102915419017386"
        ],
        [
         "10",
         "48899",
         "2203",
         "1562",
         "23.8330263089152"
        ],
        [
         "10",
         "48899",
         "2203",
         "1562",
         "0.1991973236244868"
        ],
        [
         "10",
         "48899",
         "2203",
         "1562",
         "17.102915419017386"
        ],
        [
         "11",
         "89514",
         "3010",
         "2071",
         "16640.591702160884"
        ],
        [
         "11",
         "89514",
         "3010",
         "2071",
         "15195.762949230682"
        ],
        [
         "11",
         "89514",
         "3010",
         "2071",
         "1687.789570900419"
        ],
        [
         "11",
         "89514",
         "3010",
         "2071",
         "1706.9216970380476"
        ],
        [
         "11",
         "89514",
         "3010",
         "2071",
         "33.7270007185914"
        ],
        [
         "11",
         "89514",
         "3010",
         "2071",
         "102.4517738080808"
        ],
        [
         "11",
         "89514",
         "3010",
         "2071",
         "11240.767319670129"
        ],
        [
         "12",
         "68979",
         "2853",
         "1952",
         "47.35452439300625"
        ],
        [
         "13",
         "80266",
         "847",
         "623",
         "25.54292176681685"
        ],
        [
         "13",
         "80266",
         "847",
         "623",
         "0.16996209181698405"
        ],
        [
         "13",
         "80266",
         "864",
         "640",
         "25.54292176681685"
        ],
        [
         "13",
         "80266",
         "864",
         "640",
         "0.16996209181698405"
        ],
        [
         "13",
         "80266",
         "845",
         "621",
         "25.54292176681685"
        ],
        [
         "13",
         "80266",
         "845",
         "621",
         "0.16996209181698405"
        ],
        [
         "14",
         "9061517",
         "1074",
         "841",
         "40.269970520800506"
        ],
        [
         "14",
         "9061517",
         "1074",
         "841",
         "46.240961908448554"
        ],
        [
         "14",
         "9061517",
         "1074",
         "841",
         "11.064040139011727"
        ],
        [
         "14",
         "9061517",
         "1074",
         "841",
         "22.062043727924404"
        ],
        [
         "14",
         "9061517",
         "1074",
         "841",
         "39.88415866269214"
        ],
        [
         "14",
         "9061517",
         "1074",
         "841",
         "55.00147229651033"
        ],
        [
         "14",
         "9061517",
         "1074",
         "841",
         "54.50202648395672"
        ]
       ],
       "shape": {
        "columns": 4,
        "rows": 4020
       }
      },
      "text/html": [
       "<div>\n",
       "<style scoped>\n",
       "    .dataframe tbody tr th:only-of-type {\n",
       "        vertical-align: middle;\n",
       "    }\n",
       "\n",
       "    .dataframe tbody tr th {\n",
       "        vertical-align: top;\n",
       "    }\n",
       "\n",
       "    .dataframe thead th {\n",
       "        text-align: right;\n",
       "    }\n",
       "</style>\n",
       "<table border=\"1\" class=\"dataframe\">\n",
       "  <thead>\n",
       "    <tr style=\"text-align: right;\">\n",
       "      <th></th>\n",
       "      <th>location_id</th>\n",
       "      <th>citydata_proj_id</th>\n",
       "      <th>index_right</th>\n",
       "      <th>distance</th>\n",
       "    </tr>\n",
       "  </thead>\n",
       "  <tbody>\n",
       "    <tr>\n",
       "      <th>0</th>\n",
       "      <td>43609</td>\n",
       "      <td>2836</td>\n",
       "      <td>1935</td>\n",
       "      <td>0.179325</td>\n",
       "    </tr>\n",
       "    <tr>\n",
       "      <th>1</th>\n",
       "      <td>41675</td>\n",
       "      <td>315</td>\n",
       "      <td>199</td>\n",
       "      <td>177.099527</td>\n",
       "    </tr>\n",
       "    <tr>\n",
       "      <th>1</th>\n",
       "      <td>41675</td>\n",
       "      <td>315</td>\n",
       "      <td>199</td>\n",
       "      <td>0.249511</td>\n",
       "    </tr>\n",
       "    <tr>\n",
       "      <th>2</th>\n",
       "      <td>37511</td>\n",
       "      <td>2860</td>\n",
       "      <td>1959</td>\n",
       "      <td>0.292503</td>\n",
       "    </tr>\n",
       "    <tr>\n",
       "      <th>3</th>\n",
       "      <td>54810</td>\n",
       "      <td>1398</td>\n",
       "      <td>973</td>\n",
       "      <td>0.267454</td>\n",
       "    </tr>\n",
       "    <tr>\n",
       "      <th>...</th>\n",
       "      <td>...</td>\n",
       "      <td>...</td>\n",
       "      <td>...</td>\n",
       "      <td>...</td>\n",
       "    </tr>\n",
       "    <tr>\n",
       "      <th>1676</th>\n",
       "      <td>36332</td>\n",
       "      <td>2005</td>\n",
       "      <td>1432</td>\n",
       "      <td>0.280786</td>\n",
       "    </tr>\n",
       "    <tr>\n",
       "      <th>1677</th>\n",
       "      <td>9061704</td>\n",
       "      <td>2785</td>\n",
       "      <td>1884</td>\n",
       "      <td>28.946423</td>\n",
       "    </tr>\n",
       "    <tr>\n",
       "      <th>1677</th>\n",
       "      <td>9061704</td>\n",
       "      <td>2785</td>\n",
       "      <td>1884</td>\n",
       "      <td>256.647483</td>\n",
       "    </tr>\n",
       "    <tr>\n",
       "      <th>1677</th>\n",
       "      <td>9061704</td>\n",
       "      <td>86</td>\n",
       "      <td>26</td>\n",
       "      <td>28.946423</td>\n",
       "    </tr>\n",
       "    <tr>\n",
       "      <th>1677</th>\n",
       "      <td>9061704</td>\n",
       "      <td>86</td>\n",
       "      <td>26</td>\n",
       "      <td>256.647483</td>\n",
       "    </tr>\n",
       "  </tbody>\n",
       "</table>\n",
       "<p>4020 rows × 4 columns</p>\n",
       "</div>"
      ],
      "text/plain": [
       "      location_id  citydata_proj_id  index_right    distance\n",
       "0           43609              2836         1935    0.179325\n",
       "1           41675               315          199  177.099527\n",
       "1           41675               315          199    0.249511\n",
       "2           37511              2860         1959    0.292503\n",
       "3           54810              1398          973    0.267454\n",
       "...           ...               ...          ...         ...\n",
       "1676        36332              2005         1432    0.280786\n",
       "1677      9061704              2785         1884   28.946423\n",
       "1677      9061704              2785         1884  256.647483\n",
       "1677      9061704                86           26   28.946423\n",
       "1677      9061704                86           26  256.647483\n",
       "\n",
       "[4020 rows x 4 columns]"
      ]
     },
     "execution_count": 2,
     "metadata": {},
     "output_type": "execute_result"
    }
   ],
   "source": [
    "# location_to_project\n",
    "# locations.merge(\n",
    "#     projects\n",
    "# )\n",
    "locations_p = locations.copy().to_crs('2263')\n",
    "\n",
    "project_geos_p = project_geos.copy().to_crs('2263') # TODO: store crs in config somewhere\n",
    "    \n",
    "# Buffer\n",
    "locations_buffer = locations_p.copy()\n",
    "locations_buffer['location_centroid'] = locations_p.geometry\n",
    "locations_buffer = locations_buffer.set_geometry(locations_buffer.geometry.buffer(100))\n",
    "\n",
    "hits = gpd.sjoin(locations_buffer, project_geos_p, how=\"inner\", predicate=\"intersects\") # gets all projects within 100 feet of location\n",
    "hits\n",
    "\n",
    "joined = hits.merge(\n",
    "    project_geos_p[['citydata_proj_id', 'geometry']],\n",
    "    left_on='index_right', right_index=True,\n",
    "    suffixes = ['', '_project'],\n",
    "    how='inner', indicator=True # Basically all works. Only 1 is right_only, 0 left_only\n",
    ")\n",
    "distance_to_project = joined['location_centroid'].distance(joined['geometry_project']) # pairwise distances\n",
    "\n",
    "# # summarize\n",
    "# location_projects_gdf = hits.rename(columns = {'index_right': 'city_project_id',})\n",
    "joined['distance'] = distance_to_project\n",
    "location_to_project = joined[['location_id','citydata_proj_id','index_right', 'distance']]\n",
    "\n",
    "location_to_project = location_to_project.drop_duplicates()\n",
    "#location_to_project.to_parquet(DB_PATH / '_location_to_project.parquet')\n",
    "location_to_project\n"
   ]
  },
  {
   "cell_type": "markdown",
   "id": "9d368ec4",
   "metadata": {},
   "source": [
    "# Location to Document "
   ]
  },
  {
   "cell_type": "code",
   "execution_count": 26,
   "id": "262fa49f",
   "metadata": {},
   "outputs": [
    {
     "data": {
      "application/vnd.microsoft.datawrangler.viewer.v0+json": {
       "columns": [
        {
         "name": "index",
         "rawType": "int64",
         "type": "integer"
        },
        {
         "name": "relative_path",
         "rawType": "object",
         "type": "string"
        },
        {
         "name": "document_file_id",
         "rawType": "int64",
         "type": "integer"
        }
       ],
       "ref": "e37b83e0-05ec-4c4a-ae27-78998ba3fee6",
       "rows": [
        [
         "0",
         "raw/documents/823--Brooklyn Bridge Gateway: Tillary-Adams Reconstruction/823--0--tillary-adams-reconstruction.pdf",
         "1487"
        ],
        [
         "1",
         "raw/documents/823--Brooklyn Bridge Gateway: Tillary-Adams Reconstruction/823--1--2013-12-17-tillary-reconstruction-bk-cb2.pdf",
         "1488"
        ],
        [
         "2",
         "raw/documents/823--Brooklyn Bridge Gateway: Tillary-Adams Reconstruction/823--2--201109_gateway_tillary_cb2_slides.pdf",
         "1489"
        ],
        [
         "3",
         "raw/documents/823--Brooklyn Bridge Gateway: Tillary-Adams Reconstruction/823--3--tillary_adams_proposal_062609.pdf",
         "1490"
        ],
        [
         "4",
         "raw/documents/823--Brooklyn Bridge Gateway: Tillary-Adams Reconstruction/823--4--tillary_adams_111609.pdf",
         "1491"
        ],
        [
         "5",
         "raw/documents/823--Brooklyn Bridge Gateway: Tillary-Adams Reconstruction/823--5--20100720_tillary_st_type_ii_determination.pdf",
         "1492"
        ],
        [
         "6",
         "raw/documents/823--Brooklyn Bridge Gateway: Tillary-Adams Reconstruction/823--6--20100720_tillary_st_nepa_checklist.pdf",
         "1493"
        ],
        [
         "7",
         "raw/documents/823--Brooklyn Bridge Gateway: Tillary-Adams Reconstruction/823--7--20100726_tillary_wage_certification.pdf",
         "1494"
        ],
        [
         "8",
         "raw/documents/823--Brooklyn Bridge Gateway: Tillary-Adams Reconstruction/823--8--tillary_workshop_summary.pdf",
         "1495"
        ],
        [
         "9",
         "raw/documents/823--Brooklyn Bridge Gateway: Tillary-Adams Reconstruction/823--9--tillaryadams_charette.pdf",
         "1496"
        ],
        [
         "10",
         "raw/documents/823--Brooklyn Bridge Gateway: Tillary-Adams Reconstruction/823--10--adamstillary.pdf",
         "1497"
        ],
        [
         "11",
         "raw/documents/823--Brooklyn Bridge Gateway: Tillary-Adams Reconstruction/823--11--bkbrgaccess.pdf",
         "1498"
        ]
       ],
       "shape": {
        "columns": 2,
        "rows": 12
       }
      },
      "text/html": [
       "<div>\n",
       "<style scoped>\n",
       "    .dataframe tbody tr th:only-of-type {\n",
       "        vertical-align: middle;\n",
       "    }\n",
       "\n",
       "    .dataframe tbody tr th {\n",
       "        vertical-align: top;\n",
       "    }\n",
       "\n",
       "    .dataframe thead th {\n",
       "        text-align: right;\n",
       "    }\n",
       "</style>\n",
       "<table border=\"1\" class=\"dataframe\">\n",
       "  <thead>\n",
       "    <tr style=\"text-align: right;\">\n",
       "      <th></th>\n",
       "      <th>relative_path</th>\n",
       "      <th>document_file_id</th>\n",
       "    </tr>\n",
       "  </thead>\n",
       "  <tbody>\n",
       "    <tr>\n",
       "      <th>0</th>\n",
       "      <td>raw/documents/823--Brooklyn Bridge Gateway: Ti...</td>\n",
       "      <td>1487</td>\n",
       "    </tr>\n",
       "    <tr>\n",
       "      <th>1</th>\n",
       "      <td>raw/documents/823--Brooklyn Bridge Gateway: Ti...</td>\n",
       "      <td>1488</td>\n",
       "    </tr>\n",
       "    <tr>\n",
       "      <th>2</th>\n",
       "      <td>raw/documents/823--Brooklyn Bridge Gateway: Ti...</td>\n",
       "      <td>1489</td>\n",
       "    </tr>\n",
       "    <tr>\n",
       "      <th>3</th>\n",
       "      <td>raw/documents/823--Brooklyn Bridge Gateway: Ti...</td>\n",
       "      <td>1490</td>\n",
       "    </tr>\n",
       "    <tr>\n",
       "      <th>4</th>\n",
       "      <td>raw/documents/823--Brooklyn Bridge Gateway: Ti...</td>\n",
       "      <td>1491</td>\n",
       "    </tr>\n",
       "    <tr>\n",
       "      <th>5</th>\n",
       "      <td>raw/documents/823--Brooklyn Bridge Gateway: Ti...</td>\n",
       "      <td>1492</td>\n",
       "    </tr>\n",
       "    <tr>\n",
       "      <th>6</th>\n",
       "      <td>raw/documents/823--Brooklyn Bridge Gateway: Ti...</td>\n",
       "      <td>1493</td>\n",
       "    </tr>\n",
       "    <tr>\n",
       "      <th>7</th>\n",
       "      <td>raw/documents/823--Brooklyn Bridge Gateway: Ti...</td>\n",
       "      <td>1494</td>\n",
       "    </tr>\n",
       "    <tr>\n",
       "      <th>8</th>\n",
       "      <td>raw/documents/823--Brooklyn Bridge Gateway: Ti...</td>\n",
       "      <td>1495</td>\n",
       "    </tr>\n",
       "    <tr>\n",
       "      <th>9</th>\n",
       "      <td>raw/documents/823--Brooklyn Bridge Gateway: Ti...</td>\n",
       "      <td>1496</td>\n",
       "    </tr>\n",
       "    <tr>\n",
       "      <th>10</th>\n",
       "      <td>raw/documents/823--Brooklyn Bridge Gateway: Ti...</td>\n",
       "      <td>1497</td>\n",
       "    </tr>\n",
       "    <tr>\n",
       "      <th>11</th>\n",
       "      <td>raw/documents/823--Brooklyn Bridge Gateway: Ti...</td>\n",
       "      <td>1498</td>\n",
       "    </tr>\n",
       "  </tbody>\n",
       "</table>\n",
       "</div>"
      ],
      "text/plain": [
       "                                        relative_path  document_file_id\n",
       "0   raw/documents/823--Brooklyn Bridge Gateway: Ti...              1487\n",
       "1   raw/documents/823--Brooklyn Bridge Gateway: Ti...              1488\n",
       "2   raw/documents/823--Brooklyn Bridge Gateway: Ti...              1489\n",
       "3   raw/documents/823--Brooklyn Bridge Gateway: Ti...              1490\n",
       "4   raw/documents/823--Brooklyn Bridge Gateway: Ti...              1491\n",
       "5   raw/documents/823--Brooklyn Bridge Gateway: Ti...              1492\n",
       "6   raw/documents/823--Brooklyn Bridge Gateway: Ti...              1493\n",
       "7   raw/documents/823--Brooklyn Bridge Gateway: Ti...              1494\n",
       "8   raw/documents/823--Brooklyn Bridge Gateway: Ti...              1495\n",
       "9   raw/documents/823--Brooklyn Bridge Gateway: Ti...              1496\n",
       "10  raw/documents/823--Brooklyn Bridge Gateway: Ti...              1497\n",
       "11  raw/documents/823--Brooklyn Bridge Gateway: Ti...              1498"
      ]
     },
     "execution_count": 26,
     "metadata": {},
     "output_type": "execute_result"
    }
   ],
   "source": [
    "locations_buffer = locations_p.copy()\n",
    "locations_buffer['location_centroid'] = locations_p.geometry\n",
    "locations_buffer = locations_buffer.set_geometry(locations_buffer.geometry.buffer(50))\n",
    "locations_buffer.explore()\n",
    "\n",
    "dc_geos_p = document_collection_geocodes.to_crs('2263')\n",
    "\n",
    "hits = gpd.sjoin(locations_buffer, dc_geos_p, how=\"inner\", predicate=\"intersects\") # gets all projects within 50 feet of location\n",
    "\n",
    "#hits[hits['location_id'] == 9046811]\n",
    "locations_buffer[locations_buffer['location_id'] == 9046811]\n",
    "dc_geos_p[dc_geos_p['raw_cross_streets'].str.contains('Tillary Street; Bridge St')]\n",
    "document_collections[document_collections['document_collection_id'] == 823].merge(\n",
    "    document_files,\n",
    "    on = 'document_collection_id'\n",
    ")[['relative_path', 'document_file_id']]\n",
    "#POINT (988385.857 192867.124)\n",
    "#POINT (987369.249 192973.571)\n",
    "#locations_buffer.crs\n",
    "\n",
    "# joined = hits.merge(\n",
    "#     dc_geos_p[['document_collection_id', 'geometry']],\n",
    "#     left_on='index_right', right_index=True,\n",
    "#     suffixes = ['', '_document_collection'],\n",
    "#     how='inner', indicator=True # Basically all works. Only 1 is right_only, 0 left_only\n",
    "# )\n",
    "\n",
    "# distance_to_document = joined['location_centroid'].distance(joined['geometry_document_collection']) # pairwise distances\n",
    "\n",
    "# joined['distance'] = distance_to_document\n",
    "# location_to_document_collection = joined[['location_id','document_collection_id','index_right', 'distance']]\n",
    "\n",
    "# location_to_document_collection = location_to_document_collection.drop_duplicates()\n",
    "# location_to_document_collection.to_parquet(DB_PATH / '_location_to_document_collection2.parquet')\n"
   ]
  }
 ],
 "metadata": {
  "kernelspec": {
   "display_name": "streettransformer (3.11.7)",
   "language": "python",
   "name": "python3"
  },
  "language_info": {
   "codemirror_mode": {
    "name": "ipython",
    "version": 3
   },
   "file_extension": ".py",
   "mimetype": "text/x-python",
   "name": "python",
   "nbconvert_exporter": "python",
   "pygments_lexer": "ipython3",
   "version": "3.11.7"
  }
 },
 "nbformat": 4,
 "nbformat_minor": 5
}
