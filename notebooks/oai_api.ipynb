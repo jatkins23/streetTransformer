{
 "cells": [
  {
   "cell_type": "code",
   "execution_count": null,
   "id": "a61a7c44",
   "metadata": {},
   "outputs": [],
   "source": [
    "from pathlib import Path\n",
    "import os\n",
    "from dotenv import load_dotenv\n",
    "\n",
    "load_dotenv()\n",
    "\n",
    "DB_PATH = Path(str(os.getenv('DB_PATH')))\n",
    "\n",
    "import geopandas as gpd\n",
    "import pandas as pd\n",
    "\n",
    "document_files = pd.read_parquet(DB_PATH / \"document_files.parquet\")\n",
    "locations = gpd.read_parquet(DB_PATH / \"locations.parquet\")\n",
    "project_total_scopes = pd.read_parquet(DB_PATH / \"project_total_scopes.parquet\")\n",
    "project_safety_scopes = pd.read_parquet(DB_PATH / \"project_safety_scopes.parquet\")\n",
    "project_geos = gpd.read_parquet(DB_PATH / \"project_geos.parquet\")\n",
    "projects = pd.read_parquet(DB_PATH / \"projects.parquet\")\n",
    "location_year_files = pd.read_parquet(DB_PATH / \"location_year_files.parquet\")\n",
    "document_collections = pd.read_parquet(DB_PATH / \"document_collections.parquet\")\n",
    "location_to_project = pd.read_parquet(DB_PATH / \"_location_to_project.parquet\")\n",
    "imgs_to_filesAPI = pd.read_parquet(DB_PATH / '_imgs_to_filesAPI.parquet')\n",
    "docs_to_filesAPI = pd.read_parquet(DB_PATH / '_docs_to_filesAPI.parquet')\n",
    "image_pairs = pd.read_parquet(DB_PATH / 'processed' / 'image_pairs.parquet')"
   ]
  },
  {
   "cell_type": "markdown",
   "id": "d39329a3",
   "metadata": {},
   "source": [
    "# Image Change Identifier"
   ]
  },
  {
   "cell_type": "code",
   "execution_count": 19,
   "id": "f45cdd1e",
   "metadata": {},
   "outputs": [],
   "source": [
    "from st_preprocessing.config import DATA_PATH\n",
    "from streettransformer.llms.models.queries import QUERIES\n",
    "\n",
    "queries123_sample = pd.read_parquet(DB_PATH / 'groundtruth' / 'change_identifier_classes.parquet')\n",
    "\n",
    "queries123_sample.drop_duplicates(subset=['location_id','year_start','year_end'])\n",
    "queries123_sample.drop_duplicates()#['#subset=['location_id','year_start','year_end', ])\n",
    "\n",
    "\n",
    "# Ok so like 4 of them have projects with different scopes at the same time :/\n",
    "# image_pairs_oai_export\n",
    "# # image_pairs_oai_export['image_A'] = [DATA_PATH / x for x in image_pairs_oai_export['image_A']]\n",
    "# # image_pairs_oai_export['image_B'] = [DATA_PATH / x for x in image_pairs_oai_export['image_B']]\n",
    "\n",
    "\n",
    "# image_pairs = image_pairs.merge(\n",
    "#     locations[['location_id', 'sample']].rename(columns={'sample': 'sample_source'}),\n",
    "#     left_on='location_id', right_on='location_id',\n",
    "# )\n",
    "queries123_sample_merged = queries123_sample.merge(\n",
    "    image_pairs, \n",
    "    left_on=['location_id', 'year_start','year_end'], right_on=['location_id','year_start','year_end'],\n",
    "    how='left', indicator=True\n",
    ")\n",
    "\n",
    "queries123_sample_merged['_merge'].value_counts() # Good: all 2000\n",
    "with open('../data_oai_files/query123_top1000_sample.csv', 'w') as f:\n",
    "    f.write('item_id,prompt,file_labels\\n')\n",
    "    for row in queries123_sample_merged.head(1000).itertuples():\n",
    "        key         = f'\"{row.location_id}-{row.year_start}-{row.year_end}\"'\n",
    "        query       = '\"' + QUERIES[\"image_change_identifier\"].text() + '\"'\n",
    "        file_labels = f'\"before:{row.imagery_path_start};after:{row.imagery_path_end}\"'\n",
    "        f.write(f'{key},{query},{file_labels}\\n')\n",
    "\n",
    "# # image_pairs_oai_export = pd.DataFrame()\n",
    "# # del image_pairs_oai_export\n",
    "# # #image_pairs['imagery_path_start']"
   ]
  },
  {
   "cell_type": "markdown",
   "id": "f560418e",
   "metadata": {},
   "source": [
    "# Read back in results"
   ]
  },
  {
   "cell_type": "code",
   "execution_count": 85,
   "id": "77be873d",
   "metadata": {},
   "outputs": [
    {
     "data": {
      "text/html": [
       "<style type=\"text/css\">\n",
       "#T_d6559_row0_col0, #T_d6559_row0_col1, #T_d6559_row0_col2 {\n",
       "  background-color: #f7fcf5;\n",
       "  color: #000000;\n",
       "}\n",
       "#T_d6559_row1_col0, #T_d6559_row1_col1, #T_d6559_row1_col2 {\n",
       "  background-color: #00441b;\n",
       "  color: #f1f1f1;\n",
       "}\n",
       "</style>\n",
       "<table id=\"T_d6559\">\n",
       "  <thead>\n",
       "    <tr>\n",
       "      <th class=\"index_name level0\" >change_identifier_safety</th>\n",
       "      <th id=\"T_d6559_level0_col0\" class=\"col_heading level0 col0\" >Change Between</th>\n",
       "      <th id=\"T_d6559_level0_col1\" class=\"col_heading level0 col1\" >Change Out of Range</th>\n",
       "      <th id=\"T_d6559_level0_col2\" class=\"col_heading level0 col2\" >No Change</th>\n",
       "    </tr>\n",
       "    <tr>\n",
       "      <th class=\"index_name level0\" >change_detected</th>\n",
       "      <th class=\"blank col0\" >&nbsp;</th>\n",
       "      <th class=\"blank col1\" >&nbsp;</th>\n",
       "      <th class=\"blank col2\" >&nbsp;</th>\n",
       "    </tr>\n",
       "  </thead>\n",
       "  <tbody>\n",
       "    <tr>\n",
       "      <th id=\"T_d6559_level0_row0\" class=\"row_heading level0 row0\" >Change Not Detected</th>\n",
       "      <td id=\"T_d6559_row0_col0\" class=\"data row0 col0\" >3.2%</td>\n",
       "      <td id=\"T_d6559_row0_col1\" class=\"data row0 col1\" >6.0%</td>\n",
       "      <td id=\"T_d6559_row0_col2\" class=\"data row0 col2\" >3.4%</td>\n",
       "    </tr>\n",
       "    <tr>\n",
       "      <th id=\"T_d6559_level0_row1\" class=\"row_heading level0 row1\" >Change Detected</th>\n",
       "      <td id=\"T_d6559_row1_col0\" class=\"data row1 col0\" >96.8%</td>\n",
       "      <td id=\"T_d6559_row1_col1\" class=\"data row1 col1\" >94.0%</td>\n",
       "      <td id=\"T_d6559_row1_col2\" class=\"data row1 col2\" >96.6%</td>\n",
       "    </tr>\n",
       "  </tbody>\n",
       "</table>\n"
      ],
      "text/plain": [
       "<pandas.io.formats.style.Styler at 0x129c30c50>"
      ]
     },
     "execution_count": 85,
     "metadata": {},
     "output_type": "execute_result"
    }
   ],
   "source": [
    "import json\n",
    "change_identifier_top100_output = pd.read_json('../data_oai_files/query1_top1000_output-4o.csv',lines=True)\n",
    "DB_PATH\n",
    "\n",
    "ID_COLS = ['location_id', 'year_start', 'year_end']\n",
    "RESULTS_COLS = ['change_detected','confidence','features']\n",
    "change_identifier_top100_output[ID_COLS] = change_identifier_top100_output['item_id'].str.split('-', expand=True)\n",
    "change_identifier_top100_output['location_id'] = change_identifier_top100_output['location_id'].astype(int)\n",
    "\n",
    "#validation_df = change_identifier_top100_output[['location_id', 'year_start', 'year_end']].copy()\n",
    "#validation_df\n",
    "\n",
    "change_identifier_top100_output[RESULTS_COLS] = change_identifier_top100_output['output_text'].apply(pd.Series)[['change_detected','confidence','features']]\n",
    "validation_df = change_identifier_top100_output[ID_COLS + RESULTS_COLS]\n",
    "\n",
    "(\n",
    "    validation_df.merge(\n",
    "        queries123_sample,\n",
    "        left_on = ID_COLS, right_on=ID_COLS\n",
    "    ).groupby('change_identifier_safety')['change_detected']\n",
    "    .value_counts(normalize=True)\n",
    "    .unstack()\n",
    "    .rename(columns={True: 'Change Detected', False: 'Change Not Detected'})\n",
    "    .T\n",
    "    .style\n",
    "        .background_gradient(cmap='Greens')\n",
    "        .format('{:.1%}')\n",
    ")"
   ]
  }
 ],
 "metadata": {
  "kernelspec": {
   "display_name": "streettransformer (3.11.7)",
   "language": "python",
   "name": "python3"
  },
  "language_info": {
   "codemirror_mode": {
    "name": "ipython",
    "version": 3
   },
   "file_extension": ".py",
   "mimetype": "text/x-python",
   "name": "python",
   "nbconvert_exporter": "python",
   "pygments_lexer": "ipython3",
   "version": "3.11.7"
  }
 },
 "nbformat": 4,
 "nbformat_minor": 5
}
