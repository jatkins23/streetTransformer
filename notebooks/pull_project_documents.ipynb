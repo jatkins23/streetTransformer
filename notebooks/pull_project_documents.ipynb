{
 "cells": [
  {
   "cell_type": "code",
   "execution_count": 4,
   "id": "d783a125",
   "metadata": {},
   "outputs": [
    {
     "name": "stdout",
     "output_type": "stream",
     "text": [
      "\t2007: (18, 5)!\n",
      "\t2008: (23, 5)!\n",
      "\t2009: (14, 5)!\n",
      "\t2010: (32, 5)!\n",
      "\t2011: (31, 5)!\n",
      "\t2012: (40, 5)!\n",
      "\t2013: (46, 5)!\n",
      "\t2014: (51, 5)!\n",
      "\t2015: (47, 5)!\n",
      "\t2016: (71, 5)!\n",
      "\t2017: (45, 5)!\n",
      "\t2018: (63, 5)!\n",
      "\t2019: (66, 5)!\n",
      "\t2020: (49, 5)!\n",
      "\t2021: (56, 5)!\n",
      "\t2022: (35, 5)!\n",
      "\t2023: (60, 5)!\n",
      "\t2024: (42, 5)!\n",
      "\t2025: (152, 5)!\n"
     ]
    }
   ],
   "source": [
    "import requests\n",
    "from bs4 import BeautifulSoup\n",
    "import pandas as pd\n",
    "\n",
    "def gather_project_documents(year, url):\n",
    "    data = []    \n",
    "\n",
    "    response = requests.get(url)\n",
    "    response.raise_for_status()\n",
    "\n",
    "    soup = BeautifulSoup(response.text, \"html.parser\")\n",
    "\n",
    "    if year >= 2014:\n",
    "        projects = soup.find_all(\"div\", class_=\"cproject\")\n",
    "    else:\n",
    "        projects = soup.find_all(\"article\")\n",
    "\n",
    "    for proj in projects:\n",
    "        h3 = proj.find(\"h3\")\n",
    "        if not h3:\n",
    "            continue\n",
    "        project_name = h3.get_text(strip=True)\n",
    "\n",
    "        # Find all links inside descendants with class=\"arr\"\n",
    "        arr_containers = proj.find_all(class_=\"arr\")\n",
    "        links = []\n",
    "        for container in arr_containers:\n",
    "            for a in container.find_all(\"a\", href=True):\n",
    "                links.append(a[\"href\"])\n",
    "\n",
    "        # Find the closest preceding <h2>\n",
    "        section_h2 = None\n",
    "        for prev in proj.find_all_previous():\n",
    "            if prev.name == \"h2\":\n",
    "                section_h2 = prev.get_text(strip=True)\n",
    "                break\n",
    "\n",
    "        data.append({\n",
    "            \"year\": year,\n",
    "            \"borough\": section_h2,\n",
    "            \"name\": project_name,\n",
    "            \"document_links\": links,\n",
    "            \"source_url\": url\n",
    "        })\n",
    "        \n",
    "    return pd.DataFrame(data)\n",
    "\n",
    "\n",
    "data_dict = {}\n",
    "\n",
    "URL_TEMPLATE = \"https://www.nyc.gov/html/dot/html/about/{final_part}.shtml\"\n",
    "\n",
    "for year in range(2007,2026):\n",
    "    if year == 2025:\n",
    "        final_part = 'current-projects'\n",
    "    else:\n",
    "        final_part = f'projects-{year}'\n",
    "    \n",
    "    url = URL_TEMPLATE.format(final_part=final_part)\n",
    "\n",
    "    try:\n",
    "        year_data = gather_project_documents(year, url)\n",
    "        data_dict[str(year)] = year_data\n",
    "        print(f'\\t{year}: {year_data.shape}!')\n",
    "    except Exception as e:\n",
    "        print(f'\\t{year}: {e}')\n",
    "    \n"
   ]
  },
  {
   "cell_type": "code",
   "execution_count": null,
   "id": "ccfd3fd1",
   "metadata": {},
   "outputs": [],
   "source": [
    "#pd.concat(data_dict)\n",
    "[(k, v.shape) for k, v in data_dict.items()]\n",
    "projects_df = pd.concat(data_dict, ignore_index=True) # 941 projects\n",
    "#projects_df[['year','name']].value_counts()\n",
    "projects_df['document_links'].explode() # 1,813 documents\n",
    "\n",
    "projects_df.to_csv('../data/project_documents/projects_df.csv')\n",
    "\n"
   ]
  },
  {
   "cell_type": "code",
   "execution_count": null,
   "id": "18e5b858",
   "metadata": {},
   "outputs": [
    {
     "name": "stdout",
     "output_type": "stream",
     "text": [
      "Proj: 849: 6 Docs Written!\n",
      "Proj: 850: 2 Docs Written!\n",
      "Proj: 851: 1 Doc Written!\n",
      "Proj: 852: 1 Doc Written!\n",
      "Proj: 853: 1 Doc Written!\n",
      "Proj: 854: 17 Docs Written!\n",
      "Proj: 855: 2 Docs Written!\n",
      "Proj: 856: 6 Docs Written!\n",
      "Proj: 857: 2 Docs Written!\n",
      "Proj: 858: 1 Doc Written!\n",
      "Proj: 859: 8 Docs Written!\n",
      "Proj: 860: 6 Docs Written!\n",
      "Proj: 861: 2 Docs Written!\n",
      "Proj: 862: 1 Doc Written!\n",
      "Proj: 863: 1 Doc Written!\n",
      "Proj: 864: 2 Docs Written!\n",
      "Proj: 865: 2 Docs Written!\n",
      "Proj: 866: 2 Docs Written!\n",
      "Proj: 867: 6 Docs Written!\n",
      "Proj: 868: 1 Doc Written!\n",
      "Proj: 869: 1 Doc Written!\n",
      "Proj: 870: 1 Doc Written!\n",
      "Proj: 871: 3 Docs Written!\n",
      "Proj: 872: 1 Doc Written!\n",
      "Proj: 873: 10 Docs Written!\n",
      "Proj: 874: 1 Doc Written!\n",
      "Proj: 875: 3 Docs Written!\n",
      "Proj: 876: 1 Doc Written!\n",
      "Proj: 877: 2 Docs Written!\n",
      "Proj: 878: 2 Docs Written!\n",
      "Proj: 879: 1 Doc Written!\n",
      "Proj: 880: 1 Doc Written!\n",
      "Proj: 881: 2 Docs Written!\n",
      "Proj: 882: 1 Doc Written!\n",
      "Proj: 883: 1 Doc Written!\n",
      "Proj: 884: 1 Doc Written!\n",
      "Proj: 885: 1 Doc Written!\n",
      "Proj: 886: 1 Doc Written!\n",
      "Proj: 887: 1 Doc Written!\n",
      "Proj: 888: 1 Doc Written!\n",
      "Proj: 889: 2 Docs Written!\n",
      "Proj: 890: 3 Docs Written!\n",
      "Proj: 891: 2 Docs Written!\n",
      "Proj: 892: 2 Docs Written!\n",
      "Proj: 893: 1 Doc Written!\n",
      "Proj: 894: 4 Docs Written!\n",
      "Proj: 895: 1 Doc Written!\n",
      "Proj: 896: 1 Doc Written!\n",
      "Proj: 897: 3 Docs Written!\n",
      "Proj: 898: 3 Docs Written!\n",
      "Proj: 899: 1 Doc Written!\n",
      "Proj: 900: 1 Doc Written!\n",
      "Proj: 901: 5 Docs Written!\n",
      "Proj: 902: 1 Doc Written!\n",
      "Proj: 903: 2 Docs Written!\n",
      "Proj: 904: 2 Docs Written!\n",
      "Proj: 905: 15 Docs Written!\n",
      "Proj: 906: 1 Doc Written!\n",
      "Proj: 907: 2 Docs Written!\n",
      "Proj: 908: 1 Doc Written!\n",
      "Proj: 909: 1 Doc Written!\n",
      "Proj: 910: 3 Docs Written!\n",
      "Proj: 911: 1 Doc Written!\n",
      "Proj: 912: 2 Docs Written!\n",
      "Proj: 913: 4 Docs Written!\n",
      "Proj: 914: 1 Doc Written!\n",
      "Proj: 915: 2 Docs Written!\n",
      "Proj: 916: 2 Docs Written!\n",
      "Proj: 917: 3 Docs Written!\n",
      "Proj: 918: 3 Docs Written!\n",
      "Proj: 919: 9 Docs Written!\n",
      "Proj: 920: 1 Doc Written!\n",
      "Proj: 921: 2 Docs Written!\n",
      "Proj: 922: 1 Doc Written!\n",
      "Proj: 923: 1 Doc Written!\n",
      "Proj: 924: 1 Doc Written!\n",
      "Proj: 925: 2 Docs Written!\n",
      "Proj: 926: 7 Docs Written!\n",
      "Proj: 927: 1 Doc Written!\n",
      "Proj: 928: 1 Doc Written!\n",
      "Proj: 929: 1 Doc Written!\n",
      "Proj: 930: 3 Docs Written!\n",
      "Proj: 931: 4 Docs Written!\n",
      "Proj: 932: 13 Docs Written!\n",
      "Proj: 933: 1 Doc Written!\n",
      "Proj: 934: 1 Doc Written!\n",
      "Proj: 935: 4 Docs Written!\n",
      "Proj: 936: 4 Docs Written!\n",
      "Proj: 937: 2 Docs Written!\n",
      "Proj: 938: 2 Docs Written!\n",
      "Proj: 939: 3 Docs Written!\n",
      "Proj: 940: 1 Doc Written!\n"
     ]
    },
    {
     "data": {
      "application/vnd.microsoft.datawrangler.viewer.v0+json": {
       "columns": [
        {
         "name": "index",
         "rawType": "int64",
         "type": "integer"
        },
        {
         "name": "0",
         "rawType": "object",
         "type": "unknown"
        }
       ],
       "ref": "f216486b-d099-4eab-8ef6-52db7dd7a015",
       "rows": [
        [
         "849",
         null
        ],
        [
         "850",
         null
        ],
        [
         "851",
         null
        ],
        [
         "852",
         null
        ],
        [
         "853",
         null
        ],
        [
         "854",
         null
        ],
        [
         "855",
         null
        ],
        [
         "856",
         null
        ],
        [
         "857",
         null
        ],
        [
         "858",
         null
        ],
        [
         "859",
         null
        ],
        [
         "860",
         null
        ],
        [
         "861",
         null
        ],
        [
         "862",
         null
        ],
        [
         "863",
         null
        ],
        [
         "864",
         null
        ],
        [
         "865",
         null
        ],
        [
         "866",
         null
        ],
        [
         "867",
         null
        ],
        [
         "868",
         null
        ],
        [
         "869",
         null
        ],
        [
         "870",
         null
        ],
        [
         "871",
         null
        ],
        [
         "872",
         null
        ],
        [
         "873",
         null
        ],
        [
         "874",
         null
        ],
        [
         "875",
         null
        ],
        [
         "876",
         null
        ],
        [
         "877",
         null
        ],
        [
         "878",
         null
        ],
        [
         "879",
         null
        ],
        [
         "880",
         null
        ],
        [
         "881",
         null
        ],
        [
         "882",
         null
        ],
        [
         "883",
         null
        ],
        [
         "884",
         null
        ],
        [
         "885",
         null
        ],
        [
         "886",
         null
        ],
        [
         "887",
         null
        ],
        [
         "888",
         null
        ],
        [
         "889",
         null
        ],
        [
         "890",
         null
        ],
        [
         "891",
         null
        ],
        [
         "892",
         null
        ],
        [
         "893",
         null
        ],
        [
         "894",
         null
        ],
        [
         "895",
         null
        ],
        [
         "896",
         null
        ],
        [
         "897",
         null
        ],
        [
         "898",
         null
        ]
       ],
       "shape": {
        "columns": 1,
        "rows": 92
       }
      },
      "text/plain": [
       "849    None\n",
       "850    None\n",
       "851    None\n",
       "852    None\n",
       "853    None\n",
       "       ... \n",
       "936    None\n",
       "937    None\n",
       "938    None\n",
       "939    None\n",
       "940    None\n",
       "Length: 92, dtype: object"
      ]
     },
     "execution_count": 125,
     "metadata": {},
     "output_type": "execute_result"
    }
   ],
   "source": [
    "# Now actually download the documents\n",
    "projects_df.to_records()\n",
    "\n",
    "import os\n",
    "\n",
    "def download_pdf_docs(rec, base_path='../data/project_documents/'):\n",
    "    idx = rec.name\n",
    "    name = rec['name'].replace('/', '--')\n",
    "    doc_urls = rec['document_links']\n",
    "    #if os.path.exists(base_path):\n",
    "\n",
    "    # Create a new folder for it if it doesn't exist\n",
    "    proj_dirname = f'{idx}--{name}'\n",
    "    proj_dirpath = os.path.join(base_path, proj_dirname)\n",
    "    if not os.path.exists(proj_dirpath):\n",
    "        os.mkdir(proj_dirpath)\n",
    "\n",
    "    i = 0\n",
    "    while i < len(doc_urls):\n",
    "        docname = f\"{idx}--{i}--{doc_urls[i].split('/')[-1]}\"\n",
    "        \n",
    "        # download the documents\n",
    "        try:\n",
    "            r = requests.get(doc_urls[i])\n",
    "            r.raise_for_status()\n",
    "            with open(os.path.join(proj_dirpath, docname), 'wb') as f:\n",
    "                f.write(r.content)\n",
    "        except Exception as e:\n",
    "            print(f'\\tFailed to download {idx}: {doc_urls[i]}: {e}')\n",
    "\n",
    "        i=i+1\n",
    "\n",
    "    print(f\"Proj: {idx}: {i} Doc{'s' if i != 1 else ''} Written!\")\n",
    "\n",
    "#download_pdf_docs(projects_df.iloc[0])\n",
    "#projects_df.iloc[849:].apply(download_pdf_docs, axis=1)\n",
    "#projects_df.apply(download_pdf_docs, axis=1)"
   ]
  }
 ],
 "metadata": {
  "kernelspec": {
   "display_name": ".venv",
   "language": "python",
   "name": "python3"
  },
  "language_info": {
   "codemirror_mode": {
    "name": "ipython",
    "version": 3
   },
   "file_extension": ".py",
   "mimetype": "text/x-python",
   "name": "python",
   "nbconvert_exporter": "python",
   "pygments_lexer": "ipython3",
   "version": "3.13.5"
  }
 },
 "nbformat": 4,
 "nbformat_minor": 5
}
