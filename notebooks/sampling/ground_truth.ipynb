{
 "cells": [
  {
   "cell_type": "markdown",
   "id": "4ff28b34",
   "metadata": {},
   "source": [
    "# Import and Load \"Database\" into memory"
   ]
  },
  {
   "cell_type": "code",
   "execution_count": 2,
   "id": "e0513a00",
   "metadata": {},
   "outputs": [],
   "source": [
    "from pathlib import Path\n",
    "import os\n",
    "from dotenv import load_dotenv\n",
    "\n",
    "load_dotenv()\n",
    "\n",
    "DB_PATH = Path(str(os.getenv('DB_PATH')))\n",
    "\n",
    "import numpy as np\n",
    "import pandas as pd\n",
    "import geopandas as gpd\n",
    "\n",
    "document_files = pd.read_parquet(DB_PATH / \"document_files.parquet\")\n",
    "locations = gpd.read_parquet(DB_PATH / \"locations.parquet\")\n",
    "project_total_scopes = pd.read_parquet(DB_PATH / \"project_total_scopes.parquet\")\n",
    "project_safety_scopes = pd.read_parquet(DB_PATH / \"project_safety_scopes.parquet\")\n",
    "project_geos = gpd.read_parquet(DB_PATH / \"project_geos.parquet\")\n",
    "projects = pd.read_parquet(DB_PATH / \"projects.parquet\")\n",
    "location_year_files = pd.read_parquet(DB_PATH / \"location_year_files.parquet\")\n",
    "document_collections = pd.read_parquet(DB_PATH / \"document_collections.parquet\")\n",
    "location_to_project = pd.read_parquet(DB_PATH / \"_location_to_project.parquet\")\n",
    "imgs_to_filesAPI = pd.read_parquet(DB_PATH / '_imgs_to_filesAPI.parquet')\n",
    "docs_to_filesAPI = pd.read_parquet(DB_PATH / '_docs_to_filesAPI.parquet')\n",
    "image_pairs = pd.read_parquet(DB_PATH / 'processed' / 'image_pairs.parquet')"
   ]
  },
  {
   "cell_type": "markdown",
   "id": "837604e9",
   "metadata": {},
   "source": [
    "# Image Change Identifier"
   ]
  },
  {
   "cell_type": "code",
   "execution_count": 64,
   "id": "9c11e045",
   "metadata": {},
   "outputs": [
    {
     "data": {
      "application/vnd.microsoft.datawrangler.viewer.v0+json": {
       "columns": [
        {
         "name": "proj_year",
         "rawType": "float64",
         "type": "float"
        },
        {
         "name": "count",
         "rawType": "int64",
         "type": "integer"
        }
       ],
       "ref": "6144b574-a281-4683-a1e7-84cc728db4fc",
       "rows": [
        [
         null,
         "2966"
        ],
        [
         "2005.0",
         "370"
        ],
        [
         "2015.0",
         "200"
        ],
        [
         "2019.0",
         "80"
        ],
        [
         "2009.0",
         "10"
        ],
        [
         "2013.0",
         "10"
        ]
       ],
       "shape": {
        "columns": 1,
        "rows": 6
       }
      },
      "text/plain": [
       "proj_year\n",
       "NaN       2966\n",
       "2005.0     370\n",
       "2015.0     200\n",
       "2019.0      80\n",
       "2009.0      10\n",
       "2013.0      10\n",
       "Name: count, dtype: int64"
      ]
     },
     "execution_count": 64,
     "metadata": {},
     "output_type": "execute_result"
    }
   ],
   "source": [
    "image_pairs.merge(\n",
    "    location_to_project,\n",
    "    how='left',\n",
    "    left_on='location_id', right_on='location_id',\n",
    "    indicator=True\n",
    ")['_merge'].value_counts() # so 2986 don't go to a project. That is less than I thought?\n",
    "\n",
    "# Let's check on here\n",
    "locations.merge(\n",
    "    location_to_project,\n",
    "    how='left',\n",
    "    left_on='location_id', right_on='location_id',\n",
    "    indicator=True\n",
    ")['_merge'].value_counts() # ok 299/2000. I guess its cause there are a lot of duplicates in `location_to_project`\n",
    "\n",
    "# Now back to the merge\n",
    "merged_imgpairs_to_projects = image_pairs.merge(\n",
    "    location_to_project,\n",
    "    how='left',\n",
    "    left_on='location_id', right_on='location_id'\n",
    ").merge(\n",
    "    projects,\n",
    "    how='left',\n",
    "    left_on='citydata_proj_id', right_on='citydata_proj_id'\n",
    ")\n",
    "\n",
    "# Mask - features\n",
    "has_safety = merged_imgpairs_to_projects['safety_scope'].notna()\n",
    "has_total = merged_imgpairs_to_projects['total_scope'].notna()\n",
    "\n",
    "# Masks - Proj_year between start and end years\n",
    "proj_before_end = merged_imgpairs_to_projects['proj_year'] < merged_imgpairs_to_projects['year_end'].astype(int)\n",
    "proj_after_start = merged_imgpairs_to_projects['proj_year'] > merged_imgpairs_to_projects['year_start'].astype(int)\n",
    "\n",
    "# Mask - Remove those where we can't tell because the project year == end or start\n",
    "proj_equals_end = merged_imgpairs_to_projects['proj_year'] == merged_imgpairs_to_projects['year_end'].astype(int)\n",
    "proj_equals_start = merged_imgpairs_to_projects['proj_year'] == merged_imgpairs_to_projects['year_start'].astype(int)\n",
    "\n",
    "# Mask - missing\n",
    "year_missing = merged_imgpairs_to_projects['proj_year'].isna()\n",
    "\n",
    "# Total_scope Class\n",
    "merged_imgpairs_to_projects.loc[has_total & proj_before_end & proj_after_start, 'change_identifier_total'] = 'Change Between'\n",
    "merged_imgpairs_to_projects.loc[has_total & (~proj_before_end | ~proj_after_start), 'change_identifier_total'] = 'Change Out of Range'\n",
    "merged_imgpairs_to_projects.loc[has_total & (proj_equals_start | proj_equals_end), 'change_identifier_total'] = 'Change On Year'\n",
    "merged_imgpairs_to_projects.loc[~has_total | year_missing, 'change_identifier_total'] = 'No Change'\n",
    "\n",
    "# Total_scope Class\n",
    "merged_imgpairs_to_projects.loc[has_safety & proj_before_end & proj_after_start, 'change_identifier_safety'] = 'Change Between'\n",
    "merged_imgpairs_to_projects.loc[has_safety & (~proj_before_end | ~proj_after_start), 'change_identifier_safety'] = 'Change Out of Range'\n",
    "merged_imgpairs_to_projects.loc[has_safety & (proj_equals_start | proj_equals_end), 'change_identifier_safety'] = 'Change On Year'\n",
    "merged_imgpairs_to_projects.loc[~has_safety | year_missing, 'change_identifier_safety'] = 'No Change'\n",
    "\n",
    "\n",
    "#merged_imgpairs_to_projects[['location_id', 'year_start','year_end','image_change']]\n",
    "merged_imgpairs_to_projects['safety_scope'].isna().sum() # Ok so 9k/20k have no safety scope. GOOD to know\n",
    "merged_imgpairs_to_projects['total_scope'].isna().sum() # 3k have no scope\n",
    "\n",
    "merged_imgpairs_to_projects[merged_imgpairs_to_projects['total_scope'].isna()]['proj_year'].value_counts(dropna=False) # Ok so the vast majority of them are straight up missing but some aren't\n",
    "\n",
    "# We can determine class by the sample or by the results\n"
   ]
  },
  {
   "cell_type": "code",
   "execution_count": null,
   "id": "dd92cf4d",
   "metadata": {},
   "outputs": [
    {
     "data": {
      "application/vnd.microsoft.datawrangler.viewer.v0+json": {
       "columns": [
        {
         "name": "sample_source",
         "rawType": "object",
         "type": "string"
        },
        {
         "name": "count",
         "rawType": "int64",
         "type": "integer"
        }
       ],
       "ref": "15d7ef68-c20c-4ac2-9538-1a791dc99681",
       "rows": [
        [
         "Safety",
         "24580"
        ],
        [
         "noSafety",
         "11470"
        ],
        [
         "postIntervention",
         "4004"
        ],
        [
         "none",
         "3076"
        ]
       ],
       "shape": {
        "columns": 1,
        "rows": 4
       }
      },
      "text/plain": [
       "sample_source\n",
       "Safety              24580\n",
       "noSafety            11470\n",
       "postIntervention     4004\n",
       "none                 3076\n",
       "Name: count, dtype: int64"
      ]
     },
     "execution_count": 20,
     "metadata": {},
     "output_type": "execute_result"
    }
   ],
   "source": [
    "merged_imgpairs_to_projects\n",
    "sample = pd.read_csv('../data_oai_files/samples/image_pairs.csv')\n",
    "ID_COLS = ['location_id', 'year_start', 'year_end']\n",
    "sample[ID_COLS] = sample['item_id'].str.split('-', expand=True)\n",
    "sample['location_id'] = sample['location_id'].astype(int)\n",
    "\n",
    "# sample.merge(\n",
    "#     locations,\n",
    "#     on='location_id'\n",
    "# )['sample_source'].value_counts()\n",
    "\n",
    "# merged_imgpairs_to_projects.merge(\n",
    "#     locations,\n",
    "#     on='location_id'\n",
    "# )['sample_source'].value_counts()"
   ]
  },
  {
   "cell_type": "code",
   "execution_count": 60,
   "id": "91cbb3d2",
   "metadata": {},
   "outputs": [
    {
     "data": {
      "application/vnd.microsoft.datawrangler.viewer.v0+json": {
       "columns": [
        {
         "name": "change_identifier_safety",
         "rawType": "object",
         "type": "string"
        },
        {
         "name": "count",
         "rawType": "int64",
         "type": "integer"
        }
       ],
       "ref": "e6910173-75eb-448b-9535-1c7466a224fa",
       "rows": [
        [
         "No Change",
         "17726"
        ],
        [
         "Change Between",
         "12094"
        ],
        [
         "Change Out of Range",
         "11918"
        ],
        [
         "Change On Year",
         "1392"
        ]
       ],
       "shape": {
        "columns": 1,
        "rows": 4
       }
      },
      "text/plain": [
       "change_identifier_safety\n",
       "No Change              17726\n",
       "Change Between         12094\n",
       "Change Out of Range    11918\n",
       "Change On Year          1392\n",
       "Name: count, dtype: int64"
      ]
     },
     "execution_count": 60,
     "metadata": {},
     "output_type": "execute_result"
    }
   ],
   "source": [
    "merged_imgpairs_to_projects['change_identifier_safety'].value_counts()\n",
    "\n",
    "#merged_imgpairs_to_projects['change_identifier_total'].value_counts()"
   ]
  },
  {
   "cell_type": "code",
   "execution_count": null,
   "id": "6f269207",
   "metadata": {},
   "outputs": [
    {
     "data": {
      "application/vnd.microsoft.datawrangler.viewer.v0+json": {
       "columns": [
        {
         "name": "sample_source",
         "rawType": "object",
         "type": "string"
        },
        {
         "name": "count",
         "rawType": "int64",
         "type": "integer"
        }
       ],
       "ref": "4a7c6dd0-d42e-4a9d-be49-c8fe41e105f6",
       "rows": [
        [
         "Safety",
         "830"
        ],
        [
         "noSafety",
         "88"
        ],
        [
         "none",
         "53"
        ],
        [
         "postIntervention",
         "29"
        ]
       ],
       "shape": {
        "columns": 1,
        "rows": 4
       }
      },
      "text/plain": [
       "sample_source\n",
       "Safety              830\n",
       "noSafety             88\n",
       "none                 53\n",
       "postIntervention     29\n",
       "Name: count, dtype: int64"
      ]
     },
     "execution_count": 36,
     "metadata": {},
     "output_type": "execute_result"
    }
   ],
   "source": [
    "#merged_imgpairs_to_projects.drop(['imagery_path_start','imagery_path_end','uri_start','uri_end','file_name_start','file_name_end','index_right','projID_dontuse','ProjTitle','LeadAgency',''])\n",
    "\n",
    "gt_df = merged_imgpairs_to_projects[['location_id','year_start', 'year_end','citydata_proj_id', 'proj_year','change_identifier_total','change_identifier_safety', 'total_scope','safety_scope']]\n",
    "gt_df_deduped = gt_df.drop_duplicates(['location_id','year_start', 'year_end','citydata_proj_id', 'proj_year','change_identifier_total','change_identifier_safety'])\n",
    "\n",
    "# Create Safety_scope_plus - just add Sidewalks\n",
    "total_scop_expl = gt_df_deduped['total_scope'].explode() #['safety_scope_plus']\n",
    "total_scop_expl_nona = total_scop_expl.where(~total_scop_expl.isin(['Partial Reconstruction', 'Curb to Curb Reconstruction', 'Resurfacing'])).dropna()\n",
    "total_scop_expl_nona_grpd = total_scop_expl_nona.groupby(level=0).agg(list).rename('safety_scope_plus')\n",
    "gt_df_deduped = pd.concat([gt_df_deduped, total_scop_expl_nona_grpd],axis=1, join='inner')\n",
    "\n",
    "#gt_df_deduped.to_parquet(DB_PATH / 'groundtruth' / 'location_pair_change_identifier.parquet')\n",
    "\n",
    "# gt_df_deduped.merge(\n",
    "#     locations,\n",
    "#     on='location_id',\n",
    "# ).drop_duplicates(subset=['location_id','sample_source','change_identifier_total'])[['sample_source', 'change_identifier_total']].value_counts().unstack()\n",
    "\n",
    "sample.drop_duplicates(subset=['location_id']).merge(\n",
    "    locations,\n",
    "    on='location_id'\n",
    ")['sample_source'].value_counts()"
   ]
  },
  {
   "cell_type": "code",
   "execution_count": null,
   "id": "2a72eeff",
   "metadata": {},
   "outputs": [
    {
     "data": {
      "text/html": [
       "<div>\n",
       "<style scoped>\n",
       "    .dataframe tbody tr th:only-of-type {\n",
       "        vertical-align: middle;\n",
       "    }\n",
       "\n",
       "    .dataframe tbody tr th {\n",
       "        vertical-align: top;\n",
       "    }\n",
       "\n",
       "    .dataframe thead th {\n",
       "        text-align: right;\n",
       "    }\n",
       "</style>\n",
       "<table border=\"1\" class=\"dataframe\">\n",
       "  <thead>\n",
       "    <tr style=\"text-align: right;\">\n",
       "      <th></th>\n",
       "      <th>location_id</th>\n",
       "      <th>crossstreets</th>\n",
       "      <th>geometry</th>\n",
       "      <th>sample_source</th>\n",
       "      <th>citydata_proj_id</th>\n",
       "      <th>index_right</th>\n",
       "      <th>distance</th>\n",
       "      <th>loc_to_proj</th>\n",
       "      <th>projID_dontuse</th>\n",
       "      <th>ProjTitle</th>\n",
       "      <th>LeadAgency</th>\n",
       "      <th>ProjectType</th>\n",
       "      <th>ProjectStatus</th>\n",
       "      <th>proj_year</th>\n",
       "      <th>safety_scope</th>\n",
       "      <th>total_scope</th>\n",
       "      <th>l2p_to_proj</th>\n",
       "    </tr>\n",
       "  </thead>\n",
       "  <tbody>\n",
       "    <tr>\n",
       "      <th>0</th>\n",
       "      <td>43609</td>\n",
       "      <td>[W 182 ST, WADSWORTH AVE]</td>\n",
       "      <td>POINT (-73.93454 40.85042)</td>\n",
       "      <td>Safety</td>\n",
       "      <td>2836.0</td>\n",
       "      <td>1935.0</td>\n",
       "      <td>0.179325</td>\n",
       "      <td>both</td>\n",
       "      <td>3082.0</td>\n",
       "      <td>Safe Routes to Schools</td>\n",
       "      <td>DOT</td>\n",
       "      <td>CAPITAL RECONSTRUCTION</td>\n",
       "      <td>Completed Project</td>\n",
       "      <td>2015.0</td>\n",
       "      <td>[Raised Median, Bus Bulb, Curb Extensions]</td>\n",
       "      <td>[Partial Reconstruction, Raised Median, Bus Bu...</td>\n",
       "      <td>both</td>\n",
       "    </tr>\n",
       "    <tr>\n",
       "      <th>1</th>\n",
       "      <td>41675</td>\n",
       "      <td>[30 AVE, 29 ST]</td>\n",
       "      <td>POINT (-73.92298 40.76764)</td>\n",
       "      <td>Safety</td>\n",
       "      <td>315.0</td>\n",
       "      <td>199.0</td>\n",
       "      <td>177.099527</td>\n",
       "      <td>both</td>\n",
       "      <td>868.0</td>\n",
       "      <td>School Safety</td>\n",
       "      <td>DOT</td>\n",
       "      <td>CAPITAL RECONSTRUCTION</td>\n",
       "      <td>Completed Project</td>\n",
       "      <td>2016.0</td>\n",
       "      <td>[Median Tip Extension, Bus Bulb, Curb Extensions]</td>\n",
       "      <td>[Partial Reconstruction, Median Tip Extension,...</td>\n",
       "      <td>both</td>\n",
       "    </tr>\n",
       "    <tr>\n",
       "      <th>2</th>\n",
       "      <td>41675</td>\n",
       "      <td>[30 AVE, 29 ST]</td>\n",
       "      <td>POINT (-73.92298 40.76764)</td>\n",
       "      <td>Safety</td>\n",
       "      <td>315.0</td>\n",
       "      <td>199.0</td>\n",
       "      <td>0.249511</td>\n",
       "      <td>both</td>\n",
       "      <td>868.0</td>\n",
       "      <td>School Safety</td>\n",
       "      <td>DOT</td>\n",
       "      <td>CAPITAL RECONSTRUCTION</td>\n",
       "      <td>Completed Project</td>\n",
       "      <td>2016.0</td>\n",
       "      <td>[Median Tip Extension, Bus Bulb, Curb Extensions]</td>\n",
       "      <td>[Partial Reconstruction, Median Tip Extension,...</td>\n",
       "      <td>both</td>\n",
       "    </tr>\n",
       "    <tr>\n",
       "      <th>3</th>\n",
       "      <td>37511</td>\n",
       "      <td>[182 PL, 89 AVE]</td>\n",
       "      <td>POINT (-73.77928 40.71225)</td>\n",
       "      <td>Safety</td>\n",
       "      <td>2860.0</td>\n",
       "      <td>1959.0</td>\n",
       "      <td>0.292503</td>\n",
       "      <td>both</td>\n",
       "      <td>3083.0</td>\n",
       "      <td>Safe Routes to Schools</td>\n",
       "      <td>DOT</td>\n",
       "      <td>CAPITAL RECONSTRUCTION</td>\n",
       "      <td>Completed Project</td>\n",
       "      <td>2013.0</td>\n",
       "      <td>[Median Tip Extension, Curb Extensions]</td>\n",
       "      <td>[Partial Reconstruction, Median Tip Extension,...</td>\n",
       "      <td>both</td>\n",
       "    </tr>\n",
       "    <tr>\n",
       "      <th>4</th>\n",
       "      <td>54810</td>\n",
       "      <td>[71 RD, 136 ST]</td>\n",
       "      <td>POINT (-73.82715 40.72605)</td>\n",
       "      <td>Safety</td>\n",
       "      <td>1398.0</td>\n",
       "      <td>973.0</td>\n",
       "      <td>0.267454</td>\n",
       "      <td>both</td>\n",
       "      <td>1233.0</td>\n",
       "      <td>Pedestrian Safety Non-Federal</td>\n",
       "      <td>DOT</td>\n",
       "      <td>CAPITAL RECONSTRUCTION</td>\n",
       "      <td>Completed Project</td>\n",
       "      <td>2013.0</td>\n",
       "      <td>[Bus Bulb, Curb Extensions]</td>\n",
       "      <td>[Bus Bulb, Curb Extensions]</td>\n",
       "      <td>both</td>\n",
       "    </tr>\n",
       "    <tr>\n",
       "      <th>...</th>\n",
       "      <td>...</td>\n",
       "      <td>...</td>\n",
       "      <td>...</td>\n",
       "      <td>...</td>\n",
       "      <td>...</td>\n",
       "      <td>...</td>\n",
       "      <td>...</td>\n",
       "      <td>...</td>\n",
       "      <td>...</td>\n",
       "      <td>...</td>\n",
       "      <td>...</td>\n",
       "      <td>...</td>\n",
       "      <td>...</td>\n",
       "      <td>...</td>\n",
       "      <td>...</td>\n",
       "      <td>...</td>\n",
       "      <td>...</td>\n",
       "    </tr>\n",
       "    <tr>\n",
       "      <th>4312</th>\n",
       "      <td>36332</td>\n",
       "      <td>[ROCKAWAY BLVD, 149 ST]</td>\n",
       "      <td>POINT (-73.78902 40.67316)</td>\n",
       "      <td>postIntervention</td>\n",
       "      <td>2005.0</td>\n",
       "      <td>1432.0</td>\n",
       "      <td>0.280786</td>\n",
       "      <td>both</td>\n",
       "      <td>1352.0</td>\n",
       "      <td>Sutter Avenue, etc Phase II</td>\n",
       "      <td>DOT</td>\n",
       "      <td>CAPITAL RECONSTRUCTION</td>\n",
       "      <td>Completed Project</td>\n",
       "      <td>2005.0</td>\n",
       "      <td>None</td>\n",
       "      <td>[Curb to Curb Reconstruction, Sidewalks]</td>\n",
       "      <td>both</td>\n",
       "    </tr>\n",
       "    <tr>\n",
       "      <th>4313</th>\n",
       "      <td>9061704</td>\n",
       "      <td>[STEINWAY ST]</td>\n",
       "      <td>POINT (-73.91031 40.76937)</td>\n",
       "      <td>postIntervention</td>\n",
       "      <td>2785.0</td>\n",
       "      <td>1884.0</td>\n",
       "      <td>28.946423</td>\n",
       "      <td>both</td>\n",
       "      <td>3068.0</td>\n",
       "      <td>Steinway ST BR 2-23061 GCP 2-23061-0</td>\n",
       "      <td>DOT</td>\n",
       "      <td>CAPITAL RECONSTRUCTION</td>\n",
       "      <td>Completed Project</td>\n",
       "      <td>2002.0</td>\n",
       "      <td>None</td>\n",
       "      <td>[Curb to Curb Reconstruction, Sidewalks]</td>\n",
       "      <td>both</td>\n",
       "    </tr>\n",
       "    <tr>\n",
       "      <th>4314</th>\n",
       "      <td>9061704</td>\n",
       "      <td>[STEINWAY ST]</td>\n",
       "      <td>POINT (-73.91031 40.76937)</td>\n",
       "      <td>postIntervention</td>\n",
       "      <td>2785.0</td>\n",
       "      <td>1884.0</td>\n",
       "      <td>256.647483</td>\n",
       "      <td>both</td>\n",
       "      <td>3068.0</td>\n",
       "      <td>Steinway ST BR 2-23061 GCP 2-23061-0</td>\n",
       "      <td>DOT</td>\n",
       "      <td>CAPITAL RECONSTRUCTION</td>\n",
       "      <td>Completed Project</td>\n",
       "      <td>2002.0</td>\n",
       "      <td>None</td>\n",
       "      <td>[Curb to Curb Reconstruction, Sidewalks]</td>\n",
       "      <td>both</td>\n",
       "    </tr>\n",
       "    <tr>\n",
       "      <th>4315</th>\n",
       "      <td>9061704</td>\n",
       "      <td>[STEINWAY ST]</td>\n",
       "      <td>POINT (-73.91031 40.76937)</td>\n",
       "      <td>postIntervention</td>\n",
       "      <td>86.0</td>\n",
       "      <td>26.0</td>\n",
       "      <td>28.946423</td>\n",
       "      <td>both</td>\n",
       "      <td>667.0</td>\n",
       "      <td>STEINWAY ST BR 2-23060 BQE SB</td>\n",
       "      <td>DOT</td>\n",
       "      <td>CAPITAL RECONSTRUCTION</td>\n",
       "      <td>Completed Project</td>\n",
       "      <td>2002.0</td>\n",
       "      <td>None</td>\n",
       "      <td>[Curb to Curb Reconstruction, Sidewalks]</td>\n",
       "      <td>both</td>\n",
       "    </tr>\n",
       "    <tr>\n",
       "      <th>4316</th>\n",
       "      <td>9061704</td>\n",
       "      <td>[STEINWAY ST]</td>\n",
       "      <td>POINT (-73.91031 40.76937)</td>\n",
       "      <td>postIntervention</td>\n",
       "      <td>86.0</td>\n",
       "      <td>26.0</td>\n",
       "      <td>256.647483</td>\n",
       "      <td>both</td>\n",
       "      <td>667.0</td>\n",
       "      <td>STEINWAY ST BR 2-23060 BQE SB</td>\n",
       "      <td>DOT</td>\n",
       "      <td>CAPITAL RECONSTRUCTION</td>\n",
       "      <td>Completed Project</td>\n",
       "      <td>2002.0</td>\n",
       "      <td>None</td>\n",
       "      <td>[Curb to Curb Reconstruction, Sidewalks]</td>\n",
       "      <td>both</td>\n",
       "    </tr>\n",
       "  </tbody>\n",
       "</table>\n",
       "<p>4317 rows × 17 columns</p>\n",
       "</div>"
      ],
      "text/plain": [
       "      location_id               crossstreets                    geometry  \\\n",
       "0           43609  [W 182 ST, WADSWORTH AVE]  POINT (-73.93454 40.85042)   \n",
       "1           41675            [30 AVE, 29 ST]  POINT (-73.92298 40.76764)   \n",
       "2           41675            [30 AVE, 29 ST]  POINT (-73.92298 40.76764)   \n",
       "3           37511           [182 PL, 89 AVE]  POINT (-73.77928 40.71225)   \n",
       "4           54810            [71 RD, 136 ST]  POINT (-73.82715 40.72605)   \n",
       "...           ...                        ...                         ...   \n",
       "4312        36332    [ROCKAWAY BLVD, 149 ST]  POINT (-73.78902 40.67316)   \n",
       "4313      9061704              [STEINWAY ST]  POINT (-73.91031 40.76937)   \n",
       "4314      9061704              [STEINWAY ST]  POINT (-73.91031 40.76937)   \n",
       "4315      9061704              [STEINWAY ST]  POINT (-73.91031 40.76937)   \n",
       "4316      9061704              [STEINWAY ST]  POINT (-73.91031 40.76937)   \n",
       "\n",
       "         sample_source  citydata_proj_id  index_right    distance loc_to_proj  \\\n",
       "0               Safety            2836.0       1935.0    0.179325        both   \n",
       "1               Safety             315.0        199.0  177.099527        both   \n",
       "2               Safety             315.0        199.0    0.249511        both   \n",
       "3               Safety            2860.0       1959.0    0.292503        both   \n",
       "4               Safety            1398.0        973.0    0.267454        both   \n",
       "...                ...               ...          ...         ...         ...   \n",
       "4312  postIntervention            2005.0       1432.0    0.280786        both   \n",
       "4313  postIntervention            2785.0       1884.0   28.946423        both   \n",
       "4314  postIntervention            2785.0       1884.0  256.647483        both   \n",
       "4315  postIntervention              86.0         26.0   28.946423        both   \n",
       "4316  postIntervention              86.0         26.0  256.647483        both   \n",
       "\n",
       "      projID_dontuse                             ProjTitle LeadAgency  \\\n",
       "0             3082.0                Safe Routes to Schools        DOT   \n",
       "1              868.0                         School Safety        DOT   \n",
       "2              868.0                         School Safety        DOT   \n",
       "3             3083.0                Safe Routes to Schools        DOT   \n",
       "4             1233.0         Pedestrian Safety Non-Federal        DOT   \n",
       "...              ...                                   ...        ...   \n",
       "4312          1352.0           Sutter Avenue, etc Phase II        DOT   \n",
       "4313          3068.0  Steinway ST BR 2-23061 GCP 2-23061-0        DOT   \n",
       "4314          3068.0  Steinway ST BR 2-23061 GCP 2-23061-0        DOT   \n",
       "4315           667.0         STEINWAY ST BR 2-23060 BQE SB        DOT   \n",
       "4316           667.0         STEINWAY ST BR 2-23060 BQE SB        DOT   \n",
       "\n",
       "                 ProjectType      ProjectStatus  proj_year  \\\n",
       "0     CAPITAL RECONSTRUCTION  Completed Project     2015.0   \n",
       "1     CAPITAL RECONSTRUCTION  Completed Project     2016.0   \n",
       "2     CAPITAL RECONSTRUCTION  Completed Project     2016.0   \n",
       "3     CAPITAL RECONSTRUCTION  Completed Project     2013.0   \n",
       "4     CAPITAL RECONSTRUCTION  Completed Project     2013.0   \n",
       "...                      ...                ...        ...   \n",
       "4312  CAPITAL RECONSTRUCTION  Completed Project     2005.0   \n",
       "4313  CAPITAL RECONSTRUCTION  Completed Project     2002.0   \n",
       "4314  CAPITAL RECONSTRUCTION  Completed Project     2002.0   \n",
       "4315  CAPITAL RECONSTRUCTION  Completed Project     2002.0   \n",
       "4316  CAPITAL RECONSTRUCTION  Completed Project     2002.0   \n",
       "\n",
       "                                           safety_scope  \\\n",
       "0            [Raised Median, Bus Bulb, Curb Extensions]   \n",
       "1     [Median Tip Extension, Bus Bulb, Curb Extensions]   \n",
       "2     [Median Tip Extension, Bus Bulb, Curb Extensions]   \n",
       "3               [Median Tip Extension, Curb Extensions]   \n",
       "4                           [Bus Bulb, Curb Extensions]   \n",
       "...                                                 ...   \n",
       "4312                                               None   \n",
       "4313                                               None   \n",
       "4314                                               None   \n",
       "4315                                               None   \n",
       "4316                                               None   \n",
       "\n",
       "                                            total_scope l2p_to_proj  \n",
       "0     [Partial Reconstruction, Raised Median, Bus Bu...        both  \n",
       "1     [Partial Reconstruction, Median Tip Extension,...        both  \n",
       "2     [Partial Reconstruction, Median Tip Extension,...        both  \n",
       "3     [Partial Reconstruction, Median Tip Extension,...        both  \n",
       "4                           [Bus Bulb, Curb Extensions]        both  \n",
       "...                                                 ...         ...  \n",
       "4312           [Curb to Curb Reconstruction, Sidewalks]        both  \n",
       "4313           [Curb to Curb Reconstruction, Sidewalks]        both  \n",
       "4314           [Curb to Curb Reconstruction, Sidewalks]        both  \n",
       "4315           [Curb to Curb Reconstruction, Sidewalks]        both  \n",
       "4316           [Curb to Curb Reconstruction, Sidewalks]        both  \n",
       "\n",
       "[4317 rows x 17 columns]"
      ]
     },
     "execution_count": 54,
     "metadata": {},
     "output_type": "execute_result"
    }
   ],
   "source": [
    "locations.merge(\n",
    "    location_to_project,\n",
    "    on = 'location_id',\n",
    "    how='left', indicator='loc_to_proj'\n",
    "#)['sample_source'].value_counts() # 308 none, 404, postintervention\n",
    "#).drop_duplicates(subset=['location_id','sample_source'])['sample_source'].value_counts() # 300 none, 132 postintervention\n",
    "#)['loc_to_proj'].value_counts() #4020, 297\n",
    ").merge(\n",
    "    projects,\n",
    "    on='citydata_proj_id',\n",
    "    how='left', indicator='l2p_to_proj'\n",
    "#)[['loc_to_proj','l2p_to_proj']].value_counts().unstack() # 4020l, 297\n",
    ")[]"
   ]
  },
  {
   "cell_type": "code",
   "execution_count": null,
   "id": "88af6092",
   "metadata": {},
   "outputs": [
    {
     "data": {
      "text/html": [
       "<style type=\"text/css\">\n",
       "#T_f0daa_row0_col0 {\n",
       "  background-color: #cfecc9;\n",
       "  color: #000000;\n",
       "}\n",
       "#T_f0daa_row0_col1, #T_f0daa_row0_col3, #T_f0daa_row1_col3, #T_f0daa_row2_col3, #T_f0daa_row3_col2, #T_f0daa_row3_col3, #T_f0daa_row4_col3, #T_f0daa_row5_col3, #T_f0daa_row6_col1, #T_f0daa_row6_col3, #T_f0daa_row7_col3, #T_f0daa_row8_col3, #T_f0daa_row9_col0, #T_f0daa_row9_col3 {\n",
       "  background-color: #f7fcf5;\n",
       "  color: #000000;\n",
       "}\n",
       "#T_f0daa_row0_col2 {\n",
       "  background-color: #137d39;\n",
       "  color: #f1f1f1;\n",
       "}\n",
       "#T_f0daa_row1_col0 {\n",
       "  background-color: #a8dca2;\n",
       "  color: #000000;\n",
       "}\n",
       "#T_f0daa_row1_col1, #T_f0daa_row8_col1 {\n",
       "  background-color: #339c52;\n",
       "  color: #f1f1f1;\n",
       "}\n",
       "#T_f0daa_row1_col2 {\n",
       "  background-color: #63bc6e;\n",
       "  color: #f1f1f1;\n",
       "}\n",
       "#T_f0daa_row2_col0 {\n",
       "  background-color: #006529;\n",
       "  color: #f1f1f1;\n",
       "}\n",
       "#T_f0daa_row2_col1, #T_f0daa_row9_col1 {\n",
       "  background-color: #d1edcb;\n",
       "  color: #000000;\n",
       "}\n",
       "#T_f0daa_row2_col2 {\n",
       "  background-color: #eff9ec;\n",
       "  color: #000000;\n",
       "}\n",
       "#T_f0daa_row3_col0, #T_f0daa_row7_col1, #T_f0daa_row9_col2 {\n",
       "  background-color: #00441b;\n",
       "  color: #f1f1f1;\n",
       "}\n",
       "#T_f0daa_row3_col1 {\n",
       "  background-color: #000000;\n",
       "  color: #f1f1f1;\n",
       "}\n",
       "#T_f0daa_row4_col0 {\n",
       "  background-color: #eef8ea;\n",
       "  color: #000000;\n",
       "}\n",
       "#T_f0daa_row4_col1 {\n",
       "  background-color: #157f3b;\n",
       "  color: #f1f1f1;\n",
       "}\n",
       "#T_f0daa_row4_col2 {\n",
       "  background-color: #0c7735;\n",
       "  color: #f1f1f1;\n",
       "}\n",
       "#T_f0daa_row5_col0 {\n",
       "  background-color: #4bb062;\n",
       "  color: #f1f1f1;\n",
       "}\n",
       "#T_f0daa_row5_col1 {\n",
       "  background-color: #b2e0ac;\n",
       "  color: #000000;\n",
       "}\n",
       "#T_f0daa_row5_col2 {\n",
       "  background-color: #aadda4;\n",
       "  color: #000000;\n",
       "}\n",
       "#T_f0daa_row6_col0 {\n",
       "  background-color: #2d954d;\n",
       "  color: #f1f1f1;\n",
       "}\n",
       "#T_f0daa_row6_col2 {\n",
       "  background-color: #bbe4b4;\n",
       "  color: #000000;\n",
       "}\n",
       "#T_f0daa_row7_col0 {\n",
       "  background-color: #a9dca3;\n",
       "  color: #000000;\n",
       "}\n",
       "#T_f0daa_row7_col2 {\n",
       "  background-color: #78c679;\n",
       "  color: #000000;\n",
       "}\n",
       "#T_f0daa_row8_col0 {\n",
       "  background-color: #83cb82;\n",
       "  color: #000000;\n",
       "}\n",
       "#T_f0daa_row8_col2 {\n",
       "  background-color: #8bcf89;\n",
       "  color: #000000;\n",
       "}\n",
       "</style>\n",
       "<table id=\"T_f0daa\">\n",
       "  <thead>\n",
       "    <tr>\n",
       "      <th class=\"blank\" >&nbsp;</th>\n",
       "      <th class=\"index_name level0\" >change_identifier_total</th>\n",
       "      <th id=\"T_f0daa_level0_col0\" class=\"col_heading level0 col0\" >Change Between</th>\n",
       "      <th id=\"T_f0daa_level0_col1\" class=\"col_heading level0 col1\" >Change On Year</th>\n",
       "      <th id=\"T_f0daa_level0_col2\" class=\"col_heading level0 col2\" >Change Out of Range</th>\n",
       "      <th id=\"T_f0daa_level0_col3\" class=\"col_heading level0 col3\" >No Change</th>\n",
       "    </tr>\n",
       "    <tr>\n",
       "      <th class=\"index_name level0\" >year_start</th>\n",
       "      <th class=\"index_name level1\" >year_end</th>\n",
       "      <th class=\"blank col0\" >&nbsp;</th>\n",
       "      <th class=\"blank col1\" >&nbsp;</th>\n",
       "      <th class=\"blank col2\" >&nbsp;</th>\n",
       "      <th class=\"blank col3\" >&nbsp;</th>\n",
       "    </tr>\n",
       "  </thead>\n",
       "  <tbody>\n",
       "    <tr>\n",
       "      <th id=\"T_f0daa_level0_row0\" class=\"row_heading level0 row0\" rowspan=\"4\">2006</th>\n",
       "      <th id=\"T_f0daa_level1_row0\" class=\"row_heading level1 row0\" >2012</th>\n",
       "      <td id=\"T_f0daa_row0_col0\" class=\"data row0 col0\" >21.5%</td>\n",
       "      <td id=\"T_f0daa_row0_col1\" class=\"data row0 col1\" >1.4%</td>\n",
       "      <td id=\"T_f0daa_row0_col2\" class=\"data row0 col2\" >68.7%</td>\n",
       "      <td id=\"T_f0daa_row0_col3\" class=\"data row0 col3\" >8.4%</td>\n",
       "    </tr>\n",
       "    <tr>\n",
       "      <th id=\"T_f0daa_level1_row1\" class=\"row_heading level1 row1\" >2014</th>\n",
       "      <td id=\"T_f0daa_row1_col0\" class=\"data row1 col0\" >32.2%</td>\n",
       "      <td id=\"T_f0daa_row1_col1\" class=\"data row1 col1\" >10.2%</td>\n",
       "      <td id=\"T_f0daa_row1_col2\" class=\"data row1 col2\" >49.1%</td>\n",
       "      <td id=\"T_f0daa_row1_col3\" class=\"data row1 col3\" >8.4%</td>\n",
       "    </tr>\n",
       "    <tr>\n",
       "      <th id=\"T_f0daa_level1_row2\" class=\"row_heading level1 row2\" >2018</th>\n",
       "      <td id=\"T_f0daa_row2_col0\" class=\"data row2 col0\" >74.5%</td>\n",
       "      <td id=\"T_f0daa_row2_col1\" class=\"data row2 col1\" >4.1%</td>\n",
       "      <td id=\"T_f0daa_row2_col2\" class=\"data row2 col2\" >13.0%</td>\n",
       "      <td id=\"T_f0daa_row2_col3\" class=\"data row2 col3\" >8.4%</td>\n",
       "    </tr>\n",
       "    <tr>\n",
       "      <th id=\"T_f0daa_level1_row3\" class=\"row_heading level1 row3\" >2024</th>\n",
       "      <td id=\"T_f0daa_row3_col0\" class=\"data row3 col0\" >82.7%</td>\n",
       "      <td id=\"T_f0daa_row3_col1\" class=\"data row3 col1\" >nan%</td>\n",
       "      <td id=\"T_f0daa_row3_col2\" class=\"data row3 col2\" >8.8%</td>\n",
       "      <td id=\"T_f0daa_row3_col3\" class=\"data row3 col3\" >8.4%</td>\n",
       "    </tr>\n",
       "    <tr>\n",
       "      <th id=\"T_f0daa_level0_row4\" class=\"row_heading level0 row4\" rowspan=\"3\">2012</th>\n",
       "      <th id=\"T_f0daa_level1_row4\" class=\"row_heading level1 row4\" >2014</th>\n",
       "      <td id=\"T_f0daa_row4_col0\" class=\"data row4 col0\" >9.3%</td>\n",
       "      <td id=\"T_f0daa_row4_col1\" class=\"data row4 col1\" >11.7%</td>\n",
       "      <td id=\"T_f0daa_row4_col2\" class=\"data row4 col2\" >70.6%</td>\n",
       "      <td id=\"T_f0daa_row4_col3\" class=\"data row4 col3\" >8.4%</td>\n",
       "    </tr>\n",
       "    <tr>\n",
       "      <th id=\"T_f0daa_level1_row5\" class=\"row_heading level1 row5\" >2018</th>\n",
       "      <td id=\"T_f0daa_row5_col0\" class=\"data row5 col0\" >51.5%</td>\n",
       "      <td id=\"T_f0daa_row5_col1\" class=\"data row5 col1\" >5.5%</td>\n",
       "      <td id=\"T_f0daa_row5_col2\" class=\"data row5 col2\" >34.5%</td>\n",
       "      <td id=\"T_f0daa_row5_col3\" class=\"data row5 col3\" >8.4%</td>\n",
       "    </tr>\n",
       "    <tr>\n",
       "      <th id=\"T_f0daa_level1_row6\" class=\"row_heading level1 row6\" >2024</th>\n",
       "      <td id=\"T_f0daa_row6_col0\" class=\"data row6 col0\" >59.8%</td>\n",
       "      <td id=\"T_f0daa_row6_col1\" class=\"data row6 col1\" >1.4%</td>\n",
       "      <td id=\"T_f0daa_row6_col2\" class=\"data row6 col2\" >30.3%</td>\n",
       "      <td id=\"T_f0daa_row6_col3\" class=\"data row6 col3\" >8.4%</td>\n",
       "    </tr>\n",
       "    <tr>\n",
       "      <th id=\"T_f0daa_level0_row7\" class=\"row_heading level0 row7\" rowspan=\"2\">2014</th>\n",
       "      <th id=\"T_f0daa_level1_row7\" class=\"row_heading level1 row7\" >2018</th>\n",
       "      <td id=\"T_f0daa_row7_col0\" class=\"data row7 col0\" >31.9%</td>\n",
       "      <td id=\"T_f0daa_row7_col1\" class=\"data row7 col1\" >14.3%</td>\n",
       "      <td id=\"T_f0daa_row7_col2\" class=\"data row7 col2\" >45.3%</td>\n",
       "      <td id=\"T_f0daa_row7_col3\" class=\"data row7 col3\" >8.4%</td>\n",
       "    </tr>\n",
       "    <tr>\n",
       "      <th id=\"T_f0daa_level1_row8\" class=\"row_heading level1 row8\" >2024</th>\n",
       "      <td id=\"T_f0daa_row8_col0\" class=\"data row8 col0\" >40.3%</td>\n",
       "      <td id=\"T_f0daa_row8_col1\" class=\"data row8 col1\" >10.2%</td>\n",
       "      <td id=\"T_f0daa_row8_col2\" class=\"data row8 col2\" >41.1%</td>\n",
       "      <td id=\"T_f0daa_row8_col3\" class=\"data row8 col3\" >8.4%</td>\n",
       "    </tr>\n",
       "    <tr>\n",
       "      <th id=\"T_f0daa_level0_row9\" class=\"row_heading level0 row9\" >2018</th>\n",
       "      <th id=\"T_f0daa_level1_row9\" class=\"row_heading level1 row9\" >2024</th>\n",
       "      <td id=\"T_f0daa_row9_col0\" class=\"data row9 col0\" >4.4%</td>\n",
       "      <td id=\"T_f0daa_row9_col1\" class=\"data row9 col1\" >4.1%</td>\n",
       "      <td id=\"T_f0daa_row9_col2\" class=\"data row9 col2\" >83.1%</td>\n",
       "      <td id=\"T_f0daa_row9_col3\" class=\"data row9 col3\" >8.4%</td>\n",
       "    </tr>\n",
       "  </tbody>\n",
       "</table>\n"
      ],
      "text/plain": [
       "<pandas.io.formats.style.Styler at 0x13d7aea90>"
      ]
     },
     "execution_count": 63,
     "metadata": {},
     "output_type": "execute_result"
    }
   ],
   "source": [
    "(\n",
    "    merged_imgpairs_to_projects.merge(\n",
    "    #merged_imgpairs_to_projects.merge(\n",
    "        locations[['location_id','sample_source']],\n",
    "        left_on='location_id', right_on='location_id',\n",
    "        how = 'left'\n",
    "    ).groupby('sample_source')['change_identifier_safety'].value_counts()\n",
    "    .unstack()\n",
    "    .style\n",
    "        .background_gradient(cmap='Greens')\n",
    "        #.format('{:.1%}')\n",
    "        .format('{:1}')\n",
    ") # Looks Good on both total and safety. \n",
    "# the two look similar but way more noSafety having Change with total rather than safety as expected\n",
    "# 'None' is all No Change as hoped\n",
    "# 'postIntervention' has some Change Between, I assume because of redos\n",
    "\n",
    "(\n",
    "    merged_imgpairs_to_projects\n",
    "    .groupby(['year_start','year_end'])['change_identifier_total']\n",
    "    .value_counts(normalize=True)\n",
    "    .unstack()\n",
    "    .apply(np.round, decimals=3)\n",
    "    .style\n",
    "        .background_gradient(cmap='Greens')\n",
    "        .format('{:.1%}')\n",
    ") # Looks great!\n",
    "\n",
    "(\n",
    "    merged_imgpairs_to_projects\n",
    "    .groupby(['year_start','year_end'])['change_identifier_safety']\n",
    "    .value_counts(normalize=True)\n",
    "    .unstack()\n",
    "    .apply(np.round, decimals=3)\n",
    "    .style\n",
    "        .background_gradient(cmap='Blues')\n",
    "        .format('{:.1%}')\n",
    ") # Same!"
   ]
  },
  {
   "cell_type": "markdown",
   "id": "295f4012",
   "metadata": {},
   "source": [
    "### Sampling"
   ]
  },
  {
   "cell_type": "code",
   "execution_count": 203,
   "id": "da549105",
   "metadata": {},
   "outputs": [
    {
     "data": {
      "application/vnd.microsoft.datawrangler.viewer.v0+json": {
       "columns": [
        {
         "name": "location_id",
         "rawType": "int32",
         "type": "integer"
        },
        {
         "name": "count",
         "rawType": "int64",
         "type": "integer"
        }
       ],
       "ref": "cfd04754-466b-4586-a859-5a58e66bceac",
       "rows": [
        [
         "19022",
         "8"
        ],
        [
         "16112",
         "7"
        ],
        [
         "15733",
         "7"
        ],
        [
         "90258",
         "7"
        ],
        [
         "27885",
         "7"
        ],
        [
         "38708",
         "7"
        ],
        [
         "42993",
         "7"
        ],
        [
         "88365",
         "6"
        ],
        [
         "54343",
         "6"
        ],
        [
         "80338",
         "6"
        ],
        [
         "9055913",
         "6"
        ],
        [
         "21726",
         "6"
        ],
        [
         "80048",
         "6"
        ],
        [
         "90273",
         "6"
        ],
        [
         "102198",
         "6"
        ],
        [
         "19294",
         "6"
        ],
        [
         "9038452",
         "6"
        ],
        [
         "78237",
         "6"
        ],
        [
         "18623",
         "6"
        ],
        [
         "92621",
         "5"
        ],
        [
         "18442",
         "5"
        ],
        [
         "15849",
         "5"
        ],
        [
         "90668",
         "5"
        ],
        [
         "9002652",
         "5"
        ],
        [
         "18627",
         "5"
        ],
        [
         "92196",
         "5"
        ],
        [
         "80139",
         "5"
        ],
        [
         "23700",
         "5"
        ],
        [
         "18628",
         "5"
        ],
        [
         "90257",
         "5"
        ],
        [
         "13888",
         "5"
        ],
        [
         "9056121",
         "5"
        ],
        [
         "35336",
         "5"
        ],
        [
         "26844",
         "5"
        ],
        [
         "53658",
         "5"
        ],
        [
         "27889",
         "5"
        ],
        [
         "80847",
         "5"
        ],
        [
         "48890",
         "5"
        ],
        [
         "9060390",
         "5"
        ],
        [
         "53818",
         "5"
        ],
        [
         "80265",
         "5"
        ],
        [
         "90717",
         "5"
        ],
        [
         "9062701",
         "5"
        ],
        [
         "79318",
         "5"
        ],
        [
         "102197",
         "5"
        ],
        [
         "36417",
         "4"
        ],
        [
         "27044",
         "4"
        ],
        [
         "68528",
         "4"
        ],
        [
         "9042165",
         "4"
        ],
        [
         "48899",
         "4"
        ]
       ],
       "shape": {
        "columns": 1,
        "rows": 1015
       }
      },
      "text/plain": [
       "location_id\n",
       "19022      8\n",
       "16112      7\n",
       "15733      7\n",
       "90258      7\n",
       "27885      7\n",
       "          ..\n",
       "83954      1\n",
       "35393      1\n",
       "9006972    1\n",
       "20695      1\n",
       "78199      1\n",
       "Name: count, Length: 1015, dtype: int64"
      ]
     },
     "execution_count": 203,
     "metadata": {},
     "output_type": "execute_result"
    }
   ],
   "source": [
    "# So I can't use sample for my classifier because I need the specific (l_id, before, after) pairs\n",
    "# But I can use it for a shortcut to downsample beforehand\n",
    "#locations['sample'].isin(['Safety', 'postIntervention', 'noSafety'])\n",
    "\n",
    "# So for sampling:\n",
    "# Let's first grab some from the Safety subset\n",
    "\n",
    "# let's just sample from the tagged merged pairs \n",
    "# - we'll ignore change on Year (for simplicity)\n",
    "# - but oversample from Change between and remove\n",
    "merged_imgpairs_to_projects['change_identifier_safety'].value_counts() # so like half No Change and ~25% Change Between\n",
    "#merged_imgpairs_to_projects['change_identifier_total'].value_counts() # Now like 40% No Change. almost 40% Change Between\n",
    "\n",
    "# Let's just grab 750 pairs for Change Between for safety\n",
    "# 150 for No Change\n",
    "# 100 for Change Outside Range\n",
    "\n",
    "# # Hmm I actually want some of the same locations.\n",
    "SAMPLE_N_SIZE = 2000\n",
    "CLASS_N_PROPORTION = {\n",
    "    'Change Between': .75,\n",
    "    'Change Out of Range': .1,\n",
    "    'No Change': .15,\n",
    "    'Change On Year': 0 # Ignore\n",
    "}\n",
    "\n",
    "CLASS_COL = 'change_identifier_safety'\n",
    "class_samples = {}\n",
    "\n",
    "ID_COLS = ['location_id', 'year_start', 'year_end', CLASS_COL, 'change_identifier_total']\n",
    "for c in CLASS_N_PROPORTION:\n",
    "    class_samples[c] = merged_imgpairs_to_projects[merged_imgpairs_to_projects[CLASS_COL] == c].sample(int(SAMPLE_N_SIZE * CLASS_N_PROPORTION[c]))\n",
    "\n",
    "change_identifier_classes = pd.concat(class_samples, ignore_index=True)[ID_COLS]\n",
    "change_identifier_classes = change_identifier_classes.sample(SAMPLE_N_SIZE)\n",
    "\n",
    "\n",
    "change_identifier_classes['location_id'].value_counts()"
   ]
  },
  {
   "cell_type": "code",
   "execution_count": null,
   "id": "bd7bc53c",
   "metadata": {},
   "outputs": [
    {
     "ename": "NameError",
     "evalue": "name 'change_identifier_classes' is not defined",
     "output_type": "error",
     "traceback": [
      "\u001b[0;31m---------------------------------------------------------------------------\u001b[0m",
      "\u001b[0;31mNameError\u001b[0m                                 Traceback (most recent call last)",
      "Cell \u001b[0;32mIn[61], line 1\u001b[0m\n\u001b[0;32m----> 1\u001b[0m \u001b[43mchange_identifier_classes\u001b[49m\n",
      "\u001b[0;31mNameError\u001b[0m: name 'change_identifier_classes' is not defined"
     ]
    }
   ],
   "source": []
  },
  {
   "cell_type": "code",
   "execution_count": null,
   "id": "ee4cb268",
   "metadata": {},
   "outputs": [],
   "source": [
    "#change_identifier_classes.to_parquet(DB_PATH / 'groundtruth' / 'change_identifier_classes.parquet')"
   ]
  },
  {
   "cell_type": "code",
   "execution_count": null,
   "id": "ec623a53",
   "metadata": {},
   "outputs": [],
   "source": []
  },
  {
   "cell_type": "code",
   "execution_count": 134,
   "id": "dddb233d",
   "metadata": {},
   "outputs": [
    {
     "data": {
      "application/vnd.microsoft.datawrangler.viewer.v0+json": {
       "columns": [
        {
         "name": "project_range",
         "rawType": "object",
         "type": "string"
        },
        {
         "name": "count",
         "rawType": "int64",
         "type": "integer"
        }
       ],
       "ref": "6827a457-4f66-48cb-ab78-16890a438357",
       "rows": [
        [
         "Between",
         "1068"
        ],
        [
         "Outside",
         "247"
        ],
        [
         "None",
         "52"
        ],
        [
         "On Year",
         "38"
        ]
       ],
       "shape": {
        "columns": 1,
        "rows": 4
       }
      },
      "text/plain": [
       "project_range\n",
       "Between    1068\n",
       "Outside     247\n",
       "None         52\n",
       "On Year      38\n",
       "Name: count, dtype: int64"
      ]
     },
     "execution_count": 134,
     "metadata": {},
     "output_type": "execute_result"
    }
   ],
   "source": [
    "# Ok so lets just load in the results and see what happens\n",
    "from dataclasses import fields\n",
    "from streettransformer.alignment.validate import set_up_validation_dataframe, ChangeIdentifierKey, ChangeIdentifierOutput\n",
    "OAI_RESULTS = Path('../data_oai_files/results')\n",
    "response_df = pd.read_json(OAI_RESULTS / 'identifier-image-4o.csv', lines=True)\n",
    "results_df = response_df['output_text'].apply(pd.Series)\n",
    "results_cols = [f.name for f in fields(ChangeIdentifierOutput)]\n",
    "\n",
    "id_cols = [f.name for f in fields(ChangeIdentifierKey)]\n",
    "\n",
    "unified_response_df = pd.concat([\n",
    "    response_df['item_id'].str.split('-', expand=True).set_axis(id_cols, axis=1),\n",
    "    response_df['model'],\n",
    "    results_df[results_cols]\n",
    "], axis=1, join='inner')\n",
    "unified_response_df['location_id'] = unified_response_df['location_id'].astype(int)\n",
    "\n",
    "\n",
    "\n",
    "joined_to_GT = unified_response_df.merge(\n",
    "    location_to_project,\n",
    "    on = 'location_id',\n",
    "    how='left'\n",
    ").merge(\n",
    "    projects,\n",
    "    on = 'citydata_proj_id',\n",
    "    how='left'\n",
    ").drop_duplicates(subset=['location_id', 'year_start','year_end', 'citydata_proj_id'])\n",
    "\n",
    "\n",
    "# Class for Total Change\n",
    "\n",
    "# Change Between\n",
    "mask_after_start = joined_to_GT['year_start'].astype(int) < joined_to_GT['proj_year']\n",
    "mask_before_end = joined_to_GT['year_end'].astype(int) > joined_to_GT['proj_year']\n",
    "joined_to_GT.loc[(mask_after_start & mask_before_end), 'project_range'] = 'Between'\n",
    "\n",
    "# No Change\n",
    "mask_no_change = joined_to_GT['proj_year'].isna()\n",
    "joined_to_GT.loc[mask_no_change, 'project_range'] = 'None'\n",
    "\n",
    "# Change On Year\n",
    "mask_change_year_start = joined_to_GT['year_start'].astype('int') == joined_to_GT['proj_year']\n",
    "mask_change_year_end = joined_to_GT['year_end'].astype('int') == joined_to_GT['proj_year']\n",
    "joined_to_GT.loc[(mask_change_year_start | mask_change_year_end), 'project_range'] = 'On Year'\n",
    "\n",
    "# Change Out of Range\n",
    "mask_before_start = joined_to_GT['year_start'].astype('int') > joined_to_GT['proj_year']\n",
    "mask_after_end = joined_to_GT['year_end'].astype('int') < joined_to_GT['proj_year']\n",
    "joined_to_GT.loc[(mask_before_start | mask_after_end), 'project_range'] = 'Outside'\n",
    "\n",
    "#results_df[results_cols\n",
    "joined_to_GT['project_range'].value_counts()\n"
   ]
  },
  {
   "cell_type": "code",
   "execution_count": 155,
   "id": "a395c5a7",
   "metadata": {},
   "outputs": [
    {
     "name": "stderr",
     "output_type": "stream",
     "text": [
      "/var/folders/t8/dm9l8xy95mv0d_75b2m8r5nw0000gn/T/ipykernel_56128/3781798326.py:17: FutureWarning: Setting an item of incompatible dtype is deprecated and will raise an error in a future version of pandas. Value 'nan' has dtype incompatible with bool, please explicitly cast to a compatible dtype first.\n",
      "  joined_to_GT.loc[(mask_change_defined & mask_on_year), 'class'] = None\n"
     ]
    }
   ],
   "source": [
    "import numpy as np\n",
    "joined_to_GT[joined_to_GT['safety_scope'].isna()]['total_scope'].value_counts()\n",
    "\n",
    "\n",
    "# Pos class definition:\n",
    "mask_safety_scope = joined_to_GT['safety_scope'].notna()\n",
    "mask_sidewalk = 'Sidewalks' in joined_to_GT['total_scope']\n",
    "mask_sidewalk_plaza = 'Plaza/Ped Space Enhancement' in joined_to_GT['total_scope']\n",
    "\n",
    "mask_change_defined = (mask_safety_scope | mask_sidewalk | mask_sidewalk_plaza)\n",
    "\n",
    "joined_to_GT['class'] = False\n",
    "mask_between = (joined_to_GT['project_range'] == 'Between')\n",
    "mask_on_year = (joined_to_GT['project_range'] == 'On Year')\n",
    "\n",
    "joined_to_GT.loc[(mask_change_defined & mask_between), 'class'] = True\n",
    "joined_to_GT.loc[(mask_change_defined & mask_on_year), 'class'] = None\n",
    "# joined_to_GT[mask_change_defined & (joined_to_GT['project_range'] == 'On Year'), 'class'] = None\n",
    "# #joined_to_GT[mask_change_defined & (joined_to_GT['project_range'] == 'Outside'), 'class'] = False\n",
    "# #joined_to_GT[mask_change_defined & (joined_to_GT['project_range'] == 'None'), 'class'] = False"
   ]
  },
  {
   "cell_type": "code",
   "execution_count": null,
   "id": "e79c9984",
   "metadata": {},
   "outputs": [
    {
     "data": {
      "application/vnd.microsoft.datawrangler.viewer.v0+json": {
       "columns": [
        {
         "name": "class",
         "rawType": "object",
         "type": "unknown"
        },
        {
         "name": "count",
         "rawType": "int64",
         "type": "integer"
        }
       ],
       "ref": "d92362e8-7f8c-4f9d-95d1-0a2f60d73b3d",
       "rows": [
        [
         "True",
         "983"
        ],
        [
         "False",
         "406"
        ]
       ],
       "shape": {
        "columns": 1,
        "rows": 2
       }
      },
      "text/plain": [
       "class\n",
       "True     983\n",
       "False    406\n",
       "Name: count, dtype: int64"
      ]
     },
     "execution_count": 157,
     "metadata": {},
     "output_type": "execute_result"
    }
   ],
   "source": [
    "joined_to_GT['class'].value_counts()\n",
    "\n",
    "joined_to_GT"
   ]
  },
  {
   "cell_type": "code",
   "execution_count": null,
   "id": "cc8412a0",
   "metadata": {},
   "outputs": [],
   "source": [
    "joined_to_GT[['location_id', 'year_start','year_end', 'class']].drop_duplicates()\n",
    "\n",
    "#joined_to_GT.groupby(['location_id', 'year_start','year_end'])['class'].agg(sum)\n",
    "change_classifier_class = joined_to_GT.groupby(['location_id', 'year_start','year_end'])['class'].agg('any')\n",
    "change_classifier_class.to_csv(DB_PATH / 'groundtruth' / 'change_classifier_class.csv')\n"
   ]
  },
  {
   "cell_type": "markdown",
   "id": "579563d2",
   "metadata": {},
   "source": [
    "# Now again for Identifier"
   ]
  },
  {
   "cell_type": "code",
   "execution_count": null,
   "id": "579fc18a",
   "metadata": {},
   "outputs": [],
   "source": [
    "total_scop_expl = joined_to_GT[ID_COLS + ['total_scope', 'project_range']].explode('total_scope')\n",
    "INVALID_SCOPES = ['Partial Reconstruction', 'Curb to Curb Reconstruction', 'Resurfacing']\n",
    "total_scop_valid = total_scop_expl[~total_scop_expl['total_scope'].isin(INVALID_SCOPES)]\n",
    "total_scop_valid # 5,928 --> 4,419\n",
    "\n",
    "mask_between = (total_scop_valid['project_range'] == 'Between')\n",
    "mask_on_year = (total_scop_valid['project_range'] == 'On Year')\n",
    "\n",
    "#total_scop_valid_deduped = total_scop_valid.drop_duplicates()\n",
    "#total_scop_valid['total_scope_list'] = total_scop_valid.groupby(level=0)['total_scope'].agg(list)\n",
    "\n",
    "total_scop_valid.groupby(ID_COLS + ['project_range'])['total_scope'].agg(lambda x: list(set(x))).reset_index()\n",
    "ignore_on_year = total_scop_valid[~mask_on_year].groupby(ID_COLS + ['project_range'])['total_scope'].agg(lambda x: list(set(x))).reset_index()\n",
    "# Just remove on year\n",
    "\n",
    "ignore_on_year[ignore_on_year.duplicated(subset=ID_COLS)] # all duplicated are Outside\n",
    "\n",
    "mask_between = ignore_on_year['project_range'] == 'Between'\n",
    "ignore_on_year.loc[mask_between, 'correct_tags'] = ignore_on_year.loc[mask_between, 'total_scope']\n",
    "#ignore_on_year.loc[~mask_between, 'correct_tags'] = np.array([[] for _ in range((~mask_between).sum())])\n",
    "#ignore_on_year['correct_tags'].fillna(value\n",
    "ignore_on_year['correct_tags']=ignore_on_year['correct_tags'].apply(lambda x: x if isinstance(x, list) else [])\n",
    "\n",
    "#ignore_on_year.drop_duplicates(subset=['location_id', 'year_start','year_end','project_range'])\n",
    "feature_tagger_GT = ignore_on_year.sort_values('project_range').drop_duplicates(subset=ID_COLS).sort_index().drop('total_scope', axis=1)\n",
    "\n",
    "feature_tagger_GT.to_parquet(DB_PATH / 'groundtruth/change_identifier.parquet')\n",
    "\n",
    "# If project_range == None, --> None\n"
   ]
  },
  {
   "cell_type": "code",
   "execution_count": null,
   "id": "59d870bf",
   "metadata": {},
   "outputs": [],
   "source": [
    "# ## Now need to redo for change not including Just Resurfacing\n",
    "# #merged_imgpairs_to_projects.drop(['imagery_path_start','imagery_path_end','uri_start','uri_end','file_name_start','file_name_end','index_right','projID_dontuse','ProjTitle','LeadAgency',''])\n",
    "\n",
    "# gt_df = merged_imgpairs_to_projects[['location_id','year_start', 'year_end','citydata_proj_id', 'proj_year','change_identifier_total','change_identifier_safety', 'total_scope','safety_scope']]\n",
    "# gt_df_deduped = gt_df.drop_duplicates(['location_id','year_start', 'year_end','citydata_proj_id', 'proj_year','change_identifier_total','change_identifier_safety'])\n",
    "\n",
    "# # Create Safety_scope_plus - just add Sidewalks\n",
    "# total_scop_expl = gt_df_deduped['total_scope'].explode() #['safety_scope_plus']\n",
    "# total_scop_expl_nona = total_scop_expl.where(~total_scop_expl.isin(['Partial Reconstruction', 'Curb to Curb Reconstruction', 'Resurfacing'])).dropna()\n",
    "# total_scop_expl_nona_grpd = total_scop_expl_nona.groupby(level=0).agg(list).rename('safety_scope_plus')\n",
    "# gt_df_deduped = pd.concat([gt_df_deduped, total_scop_expl_nona_grpd],axis=1, join='inner')\n"
   ]
  },
  {
   "cell_type": "code",
   "execution_count": 311,
   "id": "b3ef64a6",
   "metadata": {},
   "outputs": [],
   "source": [
    "import math\n",
    "projects_copy = projects.copy()\n",
    "projects_copy['proj_year'] = projects_copy['proj_year'].fillna(0).astype(int).astype(str).replace('0', pd.NA)\n",
    "\n",
    "location_to_proj_year = locations.merge(\n",
    "    location_to_project,\n",
    "    on = 'location_id',\n",
    "    how = 'left'\n",
    ").merge(\n",
    "    projects_copy,\n",
    "    on = 'citydata_proj_id',\n",
    "    how = 'left'\n",
    ").groupby('location_id')['proj_year'].agg(lambda x: list(set(x)))#.value_counts()\n",
    "\n",
    "\n"
   ]
  },
  {
   "cell_type": "code",
   "execution_count": 314,
   "id": "ebbe4cd7",
   "metadata": {},
   "outputs": [],
   "source": [
    "location_to_proj_year.reset_index().to_parquet('../db/groundtruth/dater.parquet')"
   ]
  },
  {
   "cell_type": "code",
   "execution_count": null,
   "id": "8203cbd5",
   "metadata": {},
   "outputs": [
    {
     "data": {
      "application/vnd.microsoft.datawrangler.viewer.v0+json": {
       "columns": [
        {
         "name": "location_id",
         "rawType": "int32",
         "type": "integer"
        },
        {
         "name": "proj_year",
         "rawType": "object",
         "type": "unknown"
        }
       ],
       "ref": "840f09ef-8c9a-4617-8055-62d791946fc6",
       "rows": [
        [
         "72",
         "[nan]"
        ],
        [
         "604",
         "[nan]"
        ],
        [
         "1514",
         "[nan]"
        ],
        [
         "2258",
         "['2012']"
        ],
        [
         "2299",
         "[nan]"
        ],
        [
         "2574",
         "[nan]"
        ],
        [
         "3047",
         "[nan]"
        ],
        [
         "3893",
         "[nan]"
        ],
        [
         "4317",
         "['2012']"
        ],
        [
         "4449",
         "['2012']"
        ],
        [
         "4495",
         "['2012']"
        ],
        [
         "4738",
         "[nan]"
        ],
        [
         "4831",
         "[nan]"
        ],
        [
         "4917",
         "[nan]"
        ],
        [
         "5080",
         "[nan]"
        ],
        [
         "5175",
         "['2012']"
        ],
        [
         "5256",
         "['2012']"
        ],
        [
         "5741",
         "[nan]"
        ],
        [
         "6053",
         "['2014']"
        ],
        [
         "6057",
         "['2014']"
        ],
        [
         "6231",
         "[nan]"
        ],
        [
         "6273",
         "[nan]"
        ],
        [
         "6976",
         "[nan]"
        ],
        [
         "7374",
         "['2013']"
        ],
        [
         "7977",
         "['2005']"
        ],
        [
         "8101",
         "[nan]"
        ],
        [
         "8108",
         "[nan]"
        ],
        [
         "8391",
         "[nan]"
        ],
        [
         "8559",
         "['2014']"
        ],
        [
         "8567",
         "['2014']"
        ],
        [
         "8568",
         "['2014']"
        ],
        [
         "8619",
         "['2014']"
        ],
        [
         "8694",
         "['2014']"
        ],
        [
         "8787",
         "[nan]"
        ],
        [
         "9102",
         "[nan]"
        ],
        [
         "9324",
         "['2014']"
        ],
        [
         "9471",
         "[nan]"
        ],
        [
         "9667",
         "['2018']"
        ],
        [
         "9720",
         "['2016']"
        ],
        [
         "9774",
         "[nan]"
        ],
        [
         "9794",
         "['2016']"
        ],
        [
         "9865",
         "['2016']"
        ],
        [
         "9871",
         "['2016']"
        ],
        [
         "9919",
         "['2016']"
        ],
        [
         "9933",
         "['2016']"
        ],
        [
         "9935",
         "['2016']"
        ],
        [
         "9987",
         "['2016']"
        ],
        [
         "10807",
         "[nan]"
        ],
        [
         "11373",
         "[nan]"
        ],
        [
         "11415",
         "['2007']"
        ]
       ],
       "shape": {
        "columns": 1,
        "rows": 1678
       }
      },
      "text/plain": [
       "location_id\n",
       "72          [nan]\n",
       "604         [nan]\n",
       "1514        [nan]\n",
       "2258       [2012]\n",
       "2299        [nan]\n",
       "            ...  \n",
       "9066196    [2014]\n",
       "9066199    [2014]\n",
       "9066221    [2019]\n",
       "9066224    [2019]\n",
       "9066225    [2019]\n",
       "Name: proj_year, Length: 1678, dtype: object"
      ]
     },
     "execution_count": 315,
     "metadata": {},
     "output_type": "execute_result"
    }
   ],
   "source": []
  }
 ],
 "metadata": {
  "kernelspec": {
   "display_name": "streettransformer (3.11.7)",
   "language": "python",
   "name": "python3"
  },
  "language_info": {
   "codemirror_mode": {
    "name": "ipython",
    "version": 3
   },
   "file_extension": ".py",
   "mimetype": "text/x-python",
   "name": "python",
   "nbconvert_exporter": "python",
   "pygments_lexer": "ipython3",
   "version": "3.11.7"
  }
 },
 "nbformat": 4,
 "nbformat_minor": 5
}
