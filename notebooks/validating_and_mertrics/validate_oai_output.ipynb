{
 "cells": [
  {
   "cell_type": "code",
   "execution_count": 1,
   "id": "9d43915d",
   "metadata": {},
   "outputs": [],
   "source": [
    "from pathlib import Path\n",
    "import os\n",
    "from dotenv import load_dotenv\n",
    "import json\n",
    "\n",
    "import pandas as pd\n",
    "import geopandas as gpd\n",
    "\n",
    "from dataclasses import dataclass, fields\n",
    "\n",
    "from streettransformer.alignment.validate import set_up_validation_dataframe\n",
    "from streettransformer.llms.queries import QueryOutput, ChangeIdentifierOutput\n",
    "\n",
    "load_dotenv()\n",
    "OUTPUT_PATH = Path('../data_oai_files/results')\n",
    "DB_PATH = Path(str(os.getenv('DB_PATH')))\n"
   ]
  },
  {
   "cell_type": "markdown",
   "id": "3505c529",
   "metadata": {},
   "source": [
    "# Load in 'database'"
   ]
  },
  {
   "cell_type": "code",
   "execution_count": 2,
   "id": "0ebfc2f7",
   "metadata": {},
   "outputs": [],
   "source": [
    "document_files = pd.read_parquet(DB_PATH / \"document_files.parquet\")\n",
    "locations = gpd.read_parquet(DB_PATH / \"locations.parquet\")\n",
    "project_total_scopes = pd.read_parquet(DB_PATH / \"project_total_scopes.parquet\")\n",
    "project_safety_scopes = pd.read_parquet(DB_PATH / \"project_safety_scopes.parquet\")\n",
    "project_geos = gpd.read_parquet(DB_PATH / \"project_geos.parquet\")\n",
    "projects = pd.read_parquet(DB_PATH / \"projects.parquet\")\n",
    "location_year_files = pd.read_parquet(DB_PATH / \"location_year_files.parquet\")\n",
    "document_collections = pd.read_parquet(DB_PATH / \"document_collections.parquet\")\n",
    "location_to_project = pd.read_parquet(DB_PATH / \"_location_to_project.parquet\")\n",
    "location_to_document_collection = pd.read_parquet(DB_PATH / \"_location_to_document_collection.parquet\")\n",
    "imgs_to_filesAPI = pd.read_parquet(DB_PATH / '_imgs_to_filesAPI.parquet')\n",
    "docs_to_filesAPI = pd.read_parquet(DB_PATH / '_docs_to_filesAPI.parquet')\n",
    "image_pairs = pd.read_parquet(DB_PATH / 'processed' / 'image_pairs.parquet')\n"
   ]
  },
  {
   "cell_type": "markdown",
   "id": "c1dd5cf0",
   "metadata": {},
   "source": [
    "# Classifier"
   ]
  },
  {
   "cell_type": "code",
   "execution_count": 20,
   "id": "d2f17a84",
   "metadata": {},
   "outputs": [
    {
     "data": {
      "text/html": [
       "<style type=\"text/css\">\n",
       "#T_3ee0c_row0_col1 {\n",
       "  background-color: #00441b;\n",
       "  color: #f1f1f1;\n",
       "}\n",
       "#T_3ee0c_row1_col1 {\n",
       "  background-color: #f7fcf5;\n",
       "  color: #000000;\n",
       "}\n",
       "#T_3ee0c_row2_col1 {\n",
       "  background-color: #258d47;\n",
       "  color: #f1f1f1;\n",
       "}\n",
       "#T_3ee0c_row3_col1 {\n",
       "  background-color: #b8e3b2;\n",
       "  color: #000000;\n",
       "}\n",
       "</style>\n",
       "<table id=\"T_3ee0c\">\n",
       "  <thead>\n",
       "    <tr>\n",
       "      <th class=\"blank level0\" >&nbsp;</th>\n",
       "      <th id=\"T_3ee0c_level0_col0\" class=\"col_heading level0 col0\" >count</th>\n",
       "      <th id=\"T_3ee0c_level0_col1\" class=\"col_heading level0 col1\" >pos_share</th>\n",
       "    </tr>\n",
       "    <tr>\n",
       "      <th class=\"index_name level0\" >change_identifier_total</th>\n",
       "      <th class=\"blank col0\" >&nbsp;</th>\n",
       "      <th class=\"blank col1\" >&nbsp;</th>\n",
       "    </tr>\n",
       "  </thead>\n",
       "  <tbody>\n",
       "    <tr>\n",
       "      <th id=\"T_3ee0c_level0_row0\" class=\"row_heading level0 row0\" >Change Between</th>\n",
       "      <td id=\"T_3ee0c_row0_col0\" class=\"data row0 col0\" >670</td>\n",
       "      <td id=\"T_3ee0c_row0_col1\" class=\"data row0 col1\" >0.883582</td>\n",
       "    </tr>\n",
       "    <tr>\n",
       "      <th id=\"T_3ee0c_level0_row1\" class=\"row_heading level0 row1\" >Change On Year</th>\n",
       "      <td id=\"T_3ee0c_row1_col0\" class=\"data row1 col0\" >9</td>\n",
       "      <td id=\"T_3ee0c_row1_col1\" class=\"data row1 col1\" >0.555556</td>\n",
       "    </tr>\n",
       "    <tr>\n",
       "      <th id=\"T_3ee0c_level0_row2\" class=\"row_heading level0 row2\" >Change Out of Range</th>\n",
       "      <td id=\"T_3ee0c_row2_col0\" class=\"data row2 col0\" >134</td>\n",
       "      <td id=\"T_3ee0c_row2_col1\" class=\"data row2 col1\" >0.798507</td>\n",
       "    </tr>\n",
       "    <tr>\n",
       "      <th id=\"T_3ee0c_level0_row3\" class=\"row_heading level0 row3\" >No Change</th>\n",
       "      <td id=\"T_3ee0c_row3_col0\" class=\"data row3 col0\" >49</td>\n",
       "      <td id=\"T_3ee0c_row3_col1\" class=\"data row3 col1\" >0.653061</td>\n",
       "    </tr>\n",
       "  </tbody>\n",
       "</table>\n"
      ],
      "text/plain": [
       "<pandas.io.formats.style.Styler at 0x16b38d610>"
      ]
     },
     "execution_count": 20,
     "metadata": {},
     "output_type": "execute_result"
    }
   ],
   "source": [
    "\n",
    "output_df = pd.read_json(OUTPUT_PATH / 'image_identifier-4o.csv', lines=True)\n",
    "\n",
    "ground_truth_df = pd.read_parquet(DB_PATH /'groundtruth/change_identifier_classes.parquet')\n",
    "ground_truth_df\n",
    "\n",
    "RESPONSE_COLUMNS = ['change_detected', 'features','confidence']\n",
    "INDEX_COLUMNS    = ['location_id', 'year_start', 'year_end']\n",
    "results_df = output_df['output_text'].apply(pd.Series)\n",
    "\n",
    "validate_df = pd.concat([\n",
    "    output_df['item_id'].str.split('-', expand=True).set_axis(INDEX_COLUMNS, axis=1),\n",
    "    output_df[['model']], \n",
    "    results_df[RESPONSE_COLUMNS]\n",
    "], axis=1, join='inner')\n",
    "validate_df['location_id'] = validate_df['location_id'].astype(int)\n",
    "\n",
    "validate_df.merge(\n",
    "    ground_truth_df,\n",
    "    on = INDEX_COLUMNS\n",
    ").groupby(['change_identifier_total'])['change_detected'].agg(['count','mean']).rename(columns={'mean':'pos_share'}).style.background_gradient(cmap='Greens', subset='pos_share')#.value_counts(normalize=True).unstack().T#[[True, False]]\n",
    "##addtnl_results\n",
    "#classified_df[COLUMNS]\n",
    "#results_df[results_df['item_id'].str.split('-', expand=True)"
   ]
  },
  {
   "cell_type": "markdown",
   "id": "d79802ad",
   "metadata": {},
   "source": [
    "# Identifier"
   ]
  },
  {
   "cell_type": "code",
   "execution_count": null,
   "id": "82088183",
   "metadata": {},
   "outputs": [],
   "source": [
    "# First need to build ground truth\n",
    "# locations.merge(\n",
    "#     location_to_project,\n",
    "#     on = 'location_id',\n",
    "#     how='left'\n",
    "# ).merge(\n",
    "#     project_total_scopes.groupby('citydata_proj_id')['total_scope'].agg(list),\n",
    "#     how='left',\n",
    "#     on = 'citydata_proj_id'  \n",
    "# ).merge(\n",
    "#     project_safety_scopes.groupby('citydata_proj_id')['safety_scope'].agg(list),\n",
    "#     how='left',\n",
    "#     on = 'citydata_proj_id'  \n",
    "# ).drop(['index_right','geometry', 'crossstreets'],axis=1).to_parquet(DB_PATH / 'groundtruth' / 'location_to_scopes.parquet')#['citydata_proj_id'].isna().sum() # 297 don't have projects at all\n",
    "\n",
    "pd.read_parquet(DB_PATH / '')\n",
    "\n",
    "# # project_total_scopes\n",
    "# # project_safety_scopes\n",
    "\n",
    "#project_safety_scopes.rename(columns={'SafetyScope': 'safety_scope'}).to_parquet(DB_PATH / 'project_safety_scopes.parquet')"
   ]
  },
  {
   "cell_type": "code",
   "execution_count": null,
   "id": "b96afff5",
   "metadata": {},
   "outputs": [
    {
     "data": {
      "application/vnd.microsoft.datawrangler.viewer.v0+json": {
       "columns": [
        {
         "name": "index",
         "rawType": "int64",
         "type": "integer"
        },
        {
         "name": "location_id",
         "rawType": "int32",
         "type": "integer"
        },
        {
         "name": "sample_source",
         "rawType": "object",
         "type": "string"
        },
        {
         "name": "citydata_proj_id",
         "rawType": "float64",
         "type": "float"
        },
        {
         "name": "distance",
         "rawType": "float64",
         "type": "float"
        },
        {
         "name": "total_scope",
         "rawType": "object",
         "type": "unknown"
        },
        {
         "name": "safety_scope",
         "rawType": "object",
         "type": "unknown"
        }
       ],
       "ref": "f3aca7b5-d818-4ccd-8a03-e519b0321a30",
       "rows": [
        [
         "0",
         "43609",
         "Safety",
         "2836.0",
         "0.17932474863568282",
         "['Partial Reconstruction' 'Raised Median' 'Bus Bulb' 'Curb Extensions']",
         "['Raised Median' 'Bus Bulb' 'Curb Extensions']"
        ],
        [
         "1",
         "41675",
         "Safety",
         "315.0",
         "177.09952720510796",
         "['Partial Reconstruction' 'Median Tip Extension' 'Bus Bulb'\n 'Curb Extensions']",
         "['Median Tip Extension' 'Bus Bulb' 'Curb Extensions']"
        ],
        [
         "2",
         "41675",
         "Safety",
         "315.0",
         "0.24951075996219071",
         "['Partial Reconstruction' 'Median Tip Extension' 'Bus Bulb'\n 'Curb Extensions']",
         "['Median Tip Extension' 'Bus Bulb' 'Curb Extensions']"
        ],
        [
         "3",
         "37511",
         "Safety",
         "2860.0",
         "0.2925028020643891",
         "['Partial Reconstruction' 'Median Tip Extension' 'Curb Extensions']",
         "['Median Tip Extension' 'Curb Extensions']"
        ],
        [
         "4",
         "54810",
         "Safety",
         "1398.0",
         "0.2674541161992215",
         "['Bus Bulb' 'Curb Extensions']",
         "['Bus Bulb' 'Curb Extensions']"
        ],
        [
         "5",
         "54810",
         "Safety",
         "1398.0",
         "65.61534029651804",
         "['Bus Bulb' 'Curb Extensions']",
         "['Bus Bulb' 'Curb Extensions']"
        ],
        [
         "6",
         "41012",
         "Safety",
         "3076.0",
         "0.25418054051018274",
         "['Partial Reconstruction' 'Resurfacing' 'Lane Removal or Road Narrowing'\n 'Curb Extensions' 'Plaza/Ped Space Enhancement']",
         "['Lane Removal or Road Narrowing' 'Curb Extensions']"
        ],
        [
         "7",
         "23588",
         "Safety",
         "1027.0",
         "34.28157942636375",
         "['Resurfacing' 'Bus Bulb' 'Curb Extensions' 'Bike/GW Enhancement'\n 'Plaza/Ped Space Enhancement']",
         "['Bus Bulb' 'Curb Extensions' 'Bike/GW Enhancement']"
        ],
        [
         "8",
         "23588",
         "Safety",
         "1027.0",
         "0.21839912964237587",
         "['Resurfacing' 'Bus Bulb' 'Curb Extensions' 'Bike/GW Enhancement'\n 'Plaza/Ped Space Enhancement']",
         "['Bus Bulb' 'Curb Extensions' 'Bike/GW Enhancement']"
        ],
        [
         "9",
         "23588",
         "Safety",
         "1027.0",
         "32.037592987435026",
         "['Resurfacing' 'Bus Bulb' 'Curb Extensions' 'Bike/GW Enhancement'\n 'Plaza/Ped Space Enhancement']",
         "['Bus Bulb' 'Curb Extensions' 'Bike/GW Enhancement']"
        ],
        [
         "10",
         "23588",
         "Safety",
         "319.0",
         "34.28157942636375",
         "['Partial Reconstruction' 'Median Tip Extension' 'Bus Bulb'\n 'Curb Extensions']",
         "['Median Tip Extension' 'Bus Bulb' 'Curb Extensions']"
        ],
        [
         "11",
         "23588",
         "Safety",
         "319.0",
         "0.21839912964237587",
         "['Partial Reconstruction' 'Median Tip Extension' 'Bus Bulb'\n 'Curb Extensions']",
         "['Median Tip Extension' 'Bus Bulb' 'Curb Extensions']"
        ],
        [
         "12",
         "23588",
         "Safety",
         "319.0",
         "32.037592987435026",
         "['Partial Reconstruction' 'Median Tip Extension' 'Bus Bulb'\n 'Curb Extensions']",
         "['Median Tip Extension' 'Bus Bulb' 'Curb Extensions']"
        ],
        [
         "13",
         "55452",
         "Safety",
         "1735.0",
         "0.2608862755753573",
         "['Curb to Curb Reconstruction' 'Sidewalks' 'Partial Reconstruction'\n 'New or Expanded Median/Pedestrian Refuge Island' 'Raised Median']",
         "['New or Expanded Median/Pedestrian Refuge Island' 'Raised Median']"
        ],
        [
         "14",
         "53436",
         "Safety",
         "3153.0",
         "0.1889993900805109",
         "['Curb to Curb Reconstruction' 'Sidewalks'\n 'Lane Removal or Road Narrowing' 'Bike/GW Enhancement']",
         "['Lane Removal or Road Narrowing' 'Bike/GW Enhancement']"
        ],
        [
         "15",
         "67109",
         "Safety",
         "2202.0",
         "2745.3586375415357",
         "['Partial Reconstruction'\n 'New or Expanded Median/Pedestrian Refuge Island'\n 'Plaza/Ped Space Enhancement']",
         "['New or Expanded Median/Pedestrian Refuge Island']"
        ],
        [
         "16",
         "67109",
         "Safety",
         "2202.0",
         "0.20892878921393668",
         "['Partial Reconstruction'\n 'New or Expanded Median/Pedestrian Refuge Island'\n 'Plaza/Ped Space Enhancement']",
         "['New or Expanded Median/Pedestrian Refuge Island']"
        ],
        [
         "17",
         "67109",
         "Safety",
         "2202.0",
         "107.70385681883639",
         "['Partial Reconstruction'\n 'New or Expanded Median/Pedestrian Refuge Island'\n 'Plaza/Ped Space Enhancement']",
         "['New or Expanded Median/Pedestrian Refuge Island']"
        ],
        [
         "18",
         "50884",
         "Safety",
         "350.0",
         "0.2582800395136724",
         "['Partial Reconstruction'\n 'New or Expanded Median/Pedestrian Refuge Island' 'Raised Median'\n 'Median Tip Extension' 'Curb Extensions']",
         "['New or Expanded Median/Pedestrian Refuge Island' 'Raised Median'\n 'Median Tip Extension' 'Curb Extensions']"
        ],
        [
         "19",
         "50884",
         "Safety",
         "350.0",
         "62.17996228814905",
         "['Partial Reconstruction'\n 'New or Expanded Median/Pedestrian Refuge Island' 'Raised Median'\n 'Median Tip Extension' 'Curb Extensions']",
         "['New or Expanded Median/Pedestrian Refuge Island' 'Raised Median'\n 'Median Tip Extension' 'Curb Extensions']"
        ],
        [
         "20",
         "48899",
         "Safety",
         "3186.0",
         "23.8330263089152",
         "['Curb to Curb Reconstruction' 'Sidewalks']",
         null
        ],
        [
         "21",
         "48899",
         "Safety",
         "3186.0",
         "0.1991973236244868",
         "['Curb to Curb Reconstruction' 'Sidewalks']",
         null
        ],
        [
         "22",
         "48899",
         "Safety",
         "3186.0",
         "17.102915419017386",
         "['Curb to Curb Reconstruction' 'Sidewalks']",
         null
        ],
        [
         "23",
         "48899",
         "Safety",
         "213.0",
         "23.8330263089152",
         "['Sidewalks' 'Curb Extensions']",
         "['Curb Extensions']"
        ],
        [
         "24",
         "48899",
         "Safety",
         "213.0",
         "0.1991973236244868",
         "['Sidewalks' 'Curb Extensions']",
         "['Curb Extensions']"
        ],
        [
         "25",
         "48899",
         "Safety",
         "213.0",
         "17.102915419017386",
         "['Sidewalks' 'Curb Extensions']",
         "['Curb Extensions']"
        ],
        [
         "26",
         "48899",
         "Safety",
         "2203.0",
         "23.8330263089152",
         "['Partial Reconstruction'\n 'New or Expanded Median/Pedestrian Refuge Island'\n 'Plaza/Ped Space Enhancement']",
         "['New or Expanded Median/Pedestrian Refuge Island']"
        ],
        [
         "27",
         "48899",
         "Safety",
         "2203.0",
         "0.1991973236244868",
         "['Partial Reconstruction'\n 'New or Expanded Median/Pedestrian Refuge Island'\n 'Plaza/Ped Space Enhancement']",
         "['New or Expanded Median/Pedestrian Refuge Island']"
        ],
        [
         "28",
         "48899",
         "Safety",
         "2203.0",
         "17.102915419017386",
         "['Partial Reconstruction'\n 'New or Expanded Median/Pedestrian Refuge Island'\n 'Plaza/Ped Space Enhancement']",
         "['New or Expanded Median/Pedestrian Refuge Island']"
        ],
        [
         "29",
         "89514",
         "Safety",
         "3010.0",
         "16640.591702160884",
         "['Curb to Curb Reconstruction' 'Sidewalks'\n 'New or Expanded Median/Pedestrian Refuge Island' 'Median Tip Extension'\n 'Lane Removal or Road Narrowing' 'Bike/GW Enhancement'\n 'Plaza/Ped Space Enhancement']",
         "['New or Expanded Median/Pedestrian Refuge Island' 'Median Tip Extension'\n 'Lane Removal or Road Narrowing' 'Bike/GW Enhancement']"
        ],
        [
         "30",
         "89514",
         "Safety",
         "3010.0",
         "15195.762949230682",
         "['Curb to Curb Reconstruction' 'Sidewalks'\n 'New or Expanded Median/Pedestrian Refuge Island' 'Median Tip Extension'\n 'Lane Removal or Road Narrowing' 'Bike/GW Enhancement'\n 'Plaza/Ped Space Enhancement']",
         "['New or Expanded Median/Pedestrian Refuge Island' 'Median Tip Extension'\n 'Lane Removal or Road Narrowing' 'Bike/GW Enhancement']"
        ],
        [
         "31",
         "89514",
         "Safety",
         "3010.0",
         "1687.789570900419",
         "['Curb to Curb Reconstruction' 'Sidewalks'\n 'New or Expanded Median/Pedestrian Refuge Island' 'Median Tip Extension'\n 'Lane Removal or Road Narrowing' 'Bike/GW Enhancement'\n 'Plaza/Ped Space Enhancement']",
         "['New or Expanded Median/Pedestrian Refuge Island' 'Median Tip Extension'\n 'Lane Removal or Road Narrowing' 'Bike/GW Enhancement']"
        ],
        [
         "32",
         "89514",
         "Safety",
         "3010.0",
         "1706.9216970380476",
         "['Curb to Curb Reconstruction' 'Sidewalks'\n 'New or Expanded Median/Pedestrian Refuge Island' 'Median Tip Extension'\n 'Lane Removal or Road Narrowing' 'Bike/GW Enhancement'\n 'Plaza/Ped Space Enhancement']",
         "['New or Expanded Median/Pedestrian Refuge Island' 'Median Tip Extension'\n 'Lane Removal or Road Narrowing' 'Bike/GW Enhancement']"
        ],
        [
         "33",
         "89514",
         "Safety",
         "3010.0",
         "33.7270007185914",
         "['Curb to Curb Reconstruction' 'Sidewalks'\n 'New or Expanded Median/Pedestrian Refuge Island' 'Median Tip Extension'\n 'Lane Removal or Road Narrowing' 'Bike/GW Enhancement'\n 'Plaza/Ped Space Enhancement']",
         "['New or Expanded Median/Pedestrian Refuge Island' 'Median Tip Extension'\n 'Lane Removal or Road Narrowing' 'Bike/GW Enhancement']"
        ],
        [
         "34",
         "89514",
         "Safety",
         "3010.0",
         "102.4517738080808",
         "['Curb to Curb Reconstruction' 'Sidewalks'\n 'New or Expanded Median/Pedestrian Refuge Island' 'Median Tip Extension'\n 'Lane Removal or Road Narrowing' 'Bike/GW Enhancement'\n 'Plaza/Ped Space Enhancement']",
         "['New or Expanded Median/Pedestrian Refuge Island' 'Median Tip Extension'\n 'Lane Removal or Road Narrowing' 'Bike/GW Enhancement']"
        ],
        [
         "35",
         "89514",
         "Safety",
         "3010.0",
         "11240.767319670129",
         "['Curb to Curb Reconstruction' 'Sidewalks'\n 'New or Expanded Median/Pedestrian Refuge Island' 'Median Tip Extension'\n 'Lane Removal or Road Narrowing' 'Bike/GW Enhancement'\n 'Plaza/Ped Space Enhancement']",
         "['New or Expanded Median/Pedestrian Refuge Island' 'Median Tip Extension'\n 'Lane Removal or Road Narrowing' 'Bike/GW Enhancement']"
        ],
        [
         "36",
         "68979",
         "Safety",
         "2853.0",
         "47.35452439300625",
         "['Partial Reconstruction' 'Raised Median' 'Bus Bulb' 'Curb Extensions']",
         "['Raised Median' 'Bus Bulb' 'Curb Extensions']"
        ],
        [
         "37",
         "80266",
         "Safety",
         "847.0",
         "25.54292176681685",
         "['Curb to Curb Reconstruction' 'Sidewalks'\n 'New or Expanded Median/Pedestrian Refuge Island' 'Raised Median'\n 'Median Tip Extension' 'Curb Extensions' 'Bike/GW Enhancement'\n 'Plaza/Ped Space Enhancement']",
         "['New or Expanded Median/Pedestrian Refuge Island' 'Raised Median'\n 'Median Tip Extension' 'Curb Extensions' 'Bike/GW Enhancement']"
        ],
        [
         "38",
         "80266",
         "Safety",
         "847.0",
         "0.16996209181698405",
         "['Curb to Curb Reconstruction' 'Sidewalks'\n 'New or Expanded Median/Pedestrian Refuge Island' 'Raised Median'\n 'Median Tip Extension' 'Curb Extensions' 'Bike/GW Enhancement'\n 'Plaza/Ped Space Enhancement']",
         "['New or Expanded Median/Pedestrian Refuge Island' 'Raised Median'\n 'Median Tip Extension' 'Curb Extensions' 'Bike/GW Enhancement']"
        ],
        [
         "39",
         "80266",
         "Safety",
         "864.0",
         "25.54292176681685",
         "['Curb to Curb Reconstruction' 'Sidewalks'\n 'New or Expanded Median/Pedestrian Refuge Island' 'Raised Median'\n 'Median Tip Extension' 'Curb Extensions' 'Bike/GW Enhancement'\n 'Plaza/Ped Space Enhancement']",
         "['New or Expanded Median/Pedestrian Refuge Island' 'Raised Median'\n 'Median Tip Extension' 'Curb Extensions' 'Bike/GW Enhancement']"
        ],
        [
         "40",
         "80266",
         "Safety",
         "864.0",
         "0.16996209181698405",
         "['Curb to Curb Reconstruction' 'Sidewalks'\n 'New or Expanded Median/Pedestrian Refuge Island' 'Raised Median'\n 'Median Tip Extension' 'Curb Extensions' 'Bike/GW Enhancement'\n 'Plaza/Ped Space Enhancement']",
         "['New or Expanded Median/Pedestrian Refuge Island' 'Raised Median'\n 'Median Tip Extension' 'Curb Extensions' 'Bike/GW Enhancement']"
        ],
        [
         "41",
         "80266",
         "Safety",
         "845.0",
         "25.54292176681685",
         "['Curb to Curb Reconstruction' 'Sidewalks'\n 'New or Expanded Median/Pedestrian Refuge Island' 'Raised Median'\n 'Median Tip Extension' 'Curb Extensions' 'Bike/GW Enhancement'\n 'Plaza/Ped Space Enhancement']",
         "['New or Expanded Median/Pedestrian Refuge Island' 'Raised Median'\n 'Median Tip Extension' 'Curb Extensions' 'Bike/GW Enhancement']"
        ],
        [
         "42",
         "80266",
         "Safety",
         "845.0",
         "0.16996209181698405",
         "['Curb to Curb Reconstruction' 'Sidewalks'\n 'New or Expanded Median/Pedestrian Refuge Island' 'Raised Median'\n 'Median Tip Extension' 'Curb Extensions' 'Bike/GW Enhancement'\n 'Plaza/Ped Space Enhancement']",
         "['New or Expanded Median/Pedestrian Refuge Island' 'Raised Median'\n 'Median Tip Extension' 'Curb Extensions' 'Bike/GW Enhancement']"
        ],
        [
         "43",
         "9061517",
         "Safety",
         "1074.0",
         "40.269970520800506",
         "['Curb to Curb Reconstruction' 'Sidewalks' 'Bike/GW Enhancement'\n 'Plaza/Ped Space Enhancement']",
         "['Bike/GW Enhancement']"
        ],
        [
         "44",
         "9061517",
         "Safety",
         "1074.0",
         "46.240961908448554",
         "['Curb to Curb Reconstruction' 'Sidewalks' 'Bike/GW Enhancement'\n 'Plaza/Ped Space Enhancement']",
         "['Bike/GW Enhancement']"
        ],
        [
         "45",
         "9061517",
         "Safety",
         "1074.0",
         "11.064040139011727",
         "['Curb to Curb Reconstruction' 'Sidewalks' 'Bike/GW Enhancement'\n 'Plaza/Ped Space Enhancement']",
         "['Bike/GW Enhancement']"
        ],
        [
         "46",
         "9061517",
         "Safety",
         "1074.0",
         "22.062043727924404",
         "['Curb to Curb Reconstruction' 'Sidewalks' 'Bike/GW Enhancement'\n 'Plaza/Ped Space Enhancement']",
         "['Bike/GW Enhancement']"
        ],
        [
         "47",
         "9061517",
         "Safety",
         "1074.0",
         "39.88415866269214",
         "['Curb to Curb Reconstruction' 'Sidewalks' 'Bike/GW Enhancement'\n 'Plaza/Ped Space Enhancement']",
         "['Bike/GW Enhancement']"
        ],
        [
         "48",
         "9061517",
         "Safety",
         "1074.0",
         "55.00147229651033",
         "['Curb to Curb Reconstruction' 'Sidewalks' 'Bike/GW Enhancement'\n 'Plaza/Ped Space Enhancement']",
         "['Bike/GW Enhancement']"
        ],
        [
         "49",
         "9061517",
         "Safety",
         "1074.0",
         "54.50202648395672",
         "['Curb to Curb Reconstruction' 'Sidewalks' 'Bike/GW Enhancement'\n 'Plaza/Ped Space Enhancement']",
         "['Bike/GW Enhancement']"
        ]
       ],
       "shape": {
        "columns": 6,
        "rows": 4317
       }
      },
      "text/html": [
       "<div>\n",
       "<style scoped>\n",
       "    .dataframe tbody tr th:only-of-type {\n",
       "        vertical-align: middle;\n",
       "    }\n",
       "\n",
       "    .dataframe tbody tr th {\n",
       "        vertical-align: top;\n",
       "    }\n",
       "\n",
       "    .dataframe thead th {\n",
       "        text-align: right;\n",
       "    }\n",
       "</style>\n",
       "<table border=\"1\" class=\"dataframe\">\n",
       "  <thead>\n",
       "    <tr style=\"text-align: right;\">\n",
       "      <th></th>\n",
       "      <th>location_id</th>\n",
       "      <th>sample_source</th>\n",
       "      <th>citydata_proj_id</th>\n",
       "      <th>distance</th>\n",
       "      <th>total_scope</th>\n",
       "      <th>safety_scope</th>\n",
       "    </tr>\n",
       "  </thead>\n",
       "  <tbody>\n",
       "    <tr>\n",
       "      <th>0</th>\n",
       "      <td>43609</td>\n",
       "      <td>Safety</td>\n",
       "      <td>2836.0</td>\n",
       "      <td>0.179325</td>\n",
       "      <td>[Partial Reconstruction, Raised Median, Bus Bu...</td>\n",
       "      <td>[Raised Median, Bus Bulb, Curb Extensions]</td>\n",
       "    </tr>\n",
       "    <tr>\n",
       "      <th>1</th>\n",
       "      <td>41675</td>\n",
       "      <td>Safety</td>\n",
       "      <td>315.0</td>\n",
       "      <td>177.099527</td>\n",
       "      <td>[Partial Reconstruction, Median Tip Extension,...</td>\n",
       "      <td>[Median Tip Extension, Bus Bulb, Curb Extensions]</td>\n",
       "    </tr>\n",
       "    <tr>\n",
       "      <th>2</th>\n",
       "      <td>41675</td>\n",
       "      <td>Safety</td>\n",
       "      <td>315.0</td>\n",
       "      <td>0.249511</td>\n",
       "      <td>[Partial Reconstruction, Median Tip Extension,...</td>\n",
       "      <td>[Median Tip Extension, Bus Bulb, Curb Extensions]</td>\n",
       "    </tr>\n",
       "    <tr>\n",
       "      <th>3</th>\n",
       "      <td>37511</td>\n",
       "      <td>Safety</td>\n",
       "      <td>2860.0</td>\n",
       "      <td>0.292503</td>\n",
       "      <td>[Partial Reconstruction, Median Tip Extension,...</td>\n",
       "      <td>[Median Tip Extension, Curb Extensions]</td>\n",
       "    </tr>\n",
       "    <tr>\n",
       "      <th>4</th>\n",
       "      <td>54810</td>\n",
       "      <td>Safety</td>\n",
       "      <td>1398.0</td>\n",
       "      <td>0.267454</td>\n",
       "      <td>[Bus Bulb, Curb Extensions]</td>\n",
       "      <td>[Bus Bulb, Curb Extensions]</td>\n",
       "    </tr>\n",
       "    <tr>\n",
       "      <th>...</th>\n",
       "      <td>...</td>\n",
       "      <td>...</td>\n",
       "      <td>...</td>\n",
       "      <td>...</td>\n",
       "      <td>...</td>\n",
       "      <td>...</td>\n",
       "    </tr>\n",
       "    <tr>\n",
       "      <th>4312</th>\n",
       "      <td>36332</td>\n",
       "      <td>postIntervention</td>\n",
       "      <td>2005.0</td>\n",
       "      <td>0.280786</td>\n",
       "      <td>[Curb to Curb Reconstruction, Sidewalks]</td>\n",
       "      <td>None</td>\n",
       "    </tr>\n",
       "    <tr>\n",
       "      <th>4313</th>\n",
       "      <td>9061704</td>\n",
       "      <td>postIntervention</td>\n",
       "      <td>2785.0</td>\n",
       "      <td>28.946423</td>\n",
       "      <td>[Curb to Curb Reconstruction, Sidewalks]</td>\n",
       "      <td>None</td>\n",
       "    </tr>\n",
       "    <tr>\n",
       "      <th>4314</th>\n",
       "      <td>9061704</td>\n",
       "      <td>postIntervention</td>\n",
       "      <td>2785.0</td>\n",
       "      <td>256.647483</td>\n",
       "      <td>[Curb to Curb Reconstruction, Sidewalks]</td>\n",
       "      <td>None</td>\n",
       "    </tr>\n",
       "    <tr>\n",
       "      <th>4315</th>\n",
       "      <td>9061704</td>\n",
       "      <td>postIntervention</td>\n",
       "      <td>86.0</td>\n",
       "      <td>28.946423</td>\n",
       "      <td>[Curb to Curb Reconstruction, Sidewalks]</td>\n",
       "      <td>None</td>\n",
       "    </tr>\n",
       "    <tr>\n",
       "      <th>4316</th>\n",
       "      <td>9061704</td>\n",
       "      <td>postIntervention</td>\n",
       "      <td>86.0</td>\n",
       "      <td>256.647483</td>\n",
       "      <td>[Curb to Curb Reconstruction, Sidewalks]</td>\n",
       "      <td>None</td>\n",
       "    </tr>\n",
       "  </tbody>\n",
       "</table>\n",
       "<p>4317 rows × 6 columns</p>\n",
       "</div>"
      ],
      "text/plain": [
       "      location_id     sample_source  citydata_proj_id    distance  \\\n",
       "0           43609            Safety            2836.0    0.179325   \n",
       "1           41675            Safety             315.0  177.099527   \n",
       "2           41675            Safety             315.0    0.249511   \n",
       "3           37511            Safety            2860.0    0.292503   \n",
       "4           54810            Safety            1398.0    0.267454   \n",
       "...           ...               ...               ...         ...   \n",
       "4312        36332  postIntervention            2005.0    0.280786   \n",
       "4313      9061704  postIntervention            2785.0   28.946423   \n",
       "4314      9061704  postIntervention            2785.0  256.647483   \n",
       "4315      9061704  postIntervention              86.0   28.946423   \n",
       "4316      9061704  postIntervention              86.0  256.647483   \n",
       "\n",
       "                                            total_scope  \\\n",
       "0     [Partial Reconstruction, Raised Median, Bus Bu...   \n",
       "1     [Partial Reconstruction, Median Tip Extension,...   \n",
       "2     [Partial Reconstruction, Median Tip Extension,...   \n",
       "3     [Partial Reconstruction, Median Tip Extension,...   \n",
       "4                           [Bus Bulb, Curb Extensions]   \n",
       "...                                                 ...   \n",
       "4312           [Curb to Curb Reconstruction, Sidewalks]   \n",
       "4313           [Curb to Curb Reconstruction, Sidewalks]   \n",
       "4314           [Curb to Curb Reconstruction, Sidewalks]   \n",
       "4315           [Curb to Curb Reconstruction, Sidewalks]   \n",
       "4316           [Curb to Curb Reconstruction, Sidewalks]   \n",
       "\n",
       "                                           safety_scope  \n",
       "0            [Raised Median, Bus Bulb, Curb Extensions]  \n",
       "1     [Median Tip Extension, Bus Bulb, Curb Extensions]  \n",
       "2     [Median Tip Extension, Bus Bulb, Curb Extensions]  \n",
       "3               [Median Tip Extension, Curb Extensions]  \n",
       "4                           [Bus Bulb, Curb Extensions]  \n",
       "...                                                 ...  \n",
       "4312                                               None  \n",
       "4313                                               None  \n",
       "4314                                               None  \n",
       "4315                                               None  \n",
       "4316                                               None  \n",
       "\n",
       "[4317 rows x 6 columns]"
      ]
     },
     "execution_count": 10,
     "metadata": {},
     "output_type": "execute_result"
    }
   ],
   "source": [
    "id_cols = ['location_id', 'year_start', 'year_end']\n",
    "\n",
    "gt_class_col = 'total_scope'\n",
    "rs_class_col = 'features'\n",
    "response_df = pd.read_json(OUTPUT_PATH / 'image_identifier-4o.csv', lines=True)\n",
    "ground_truth_df = pd.read_parquet(DB_PATH /'groundtruth/location_to_scopes.parquet')\n",
    "\n",
    "results_df = response_df['output_text'].apply(pd.Series)\n",
    "results_cols = [f.name for f in fields(ChangeIdentifierOutput)]\n",
    "\n",
    "unified_response_df = pd.concat([\n",
    "        response_df['item_id'].str.split('-', expand=True).set_axis(id_cols, axis=1),\n",
    "        response_df['model'],\n",
    "        results_df[results_cols]\n",
    "    ], axis=1, join='inner')\n",
    "unified_response_df['location_id'] = unified_response_df['location_id'].astype(int)\n",
    "unified_response_df\n",
    "\n",
    "validate_df = unified_response_df[id_cols + [rs_class_col]].merge(\n",
    "        ground_truth_df[id_cols + [gt_class_col]],\n",
    "        on=id_cols\n",
    "    )"
   ]
  },
  {
   "cell_type": "markdown",
   "id": "95b00590",
   "metadata": {},
   "source": [
    "# Look at both classifier and identifier"
   ]
  },
  {
   "cell_type": "code",
   "execution_count": 31,
   "id": "8c5ce591",
   "metadata": {},
   "outputs": [],
   "source": [
    "validate_sidebyside_df = set_up_validation_dataframe(\n",
    "    'sidebyside_identifier-4o.csv', \n",
    "    'location_pair_change_identifier.parquet',\n",
    "    'change_identifier_total',\n",
    "    #'change_identifier_safety',\n",
    "    'change_detected'\n",
    ")\n",
    "\n",
    "validate_imagery_df = set_up_validation_dataframe(\n",
    "    'image_identifier-4o.csv', \n",
    "    'location_pair_change_identifier.parquet',\n",
    "    'change_identifier_total',\n",
    "    #'change_identifier_safety',\n",
    "    'change_detected'\n",
    ")"
   ]
  },
  {
   "cell_type": "code",
   "execution_count": 33,
   "id": "475a2024",
   "metadata": {},
   "outputs": [
    {
     "data": {
      "application/vnd.microsoft.datawrangler.viewer.v0+json": {
       "columns": [
        {
         "name": "true_class",
         "rawType": "object",
         "type": "string"
        },
        {
         "name": "count",
         "rawType": "int64",
         "type": "integer"
        },
        {
         "name": "mean",
         "rawType": "object",
         "type": "unknown"
        }
       ],
       "ref": "de7385b2-5d15-4b22-bd0e-f681e7043dec",
       "rows": [
        [
         "Change Between",
         "851",
         "0.8930669800235017"
        ],
        [
         "Change On Year",
         "21",
         "0.7619047619047619"
        ],
        [
         "Change Out of Range",
         "201",
         "0.8258706467661692"
        ]
       ],
       "shape": {
        "columns": 2,
        "rows": 3
       }
      },
      "text/html": [
       "<div>\n",
       "<style scoped>\n",
       "    .dataframe tbody tr th:only-of-type {\n",
       "        vertical-align: middle;\n",
       "    }\n",
       "\n",
       "    .dataframe tbody tr th {\n",
       "        vertical-align: top;\n",
       "    }\n",
       "\n",
       "    .dataframe thead th {\n",
       "        text-align: right;\n",
       "    }\n",
       "</style>\n",
       "<table border=\"1\" class=\"dataframe\">\n",
       "  <thead>\n",
       "    <tr style=\"text-align: right;\">\n",
       "      <th></th>\n",
       "      <th>count</th>\n",
       "      <th>mean</th>\n",
       "    </tr>\n",
       "    <tr>\n",
       "      <th>true_class</th>\n",
       "      <th></th>\n",
       "      <th></th>\n",
       "    </tr>\n",
       "  </thead>\n",
       "  <tbody>\n",
       "    <tr>\n",
       "      <th>Change Between</th>\n",
       "      <td>851</td>\n",
       "      <td>0.893067</td>\n",
       "    </tr>\n",
       "    <tr>\n",
       "      <th>Change On Year</th>\n",
       "      <td>21</td>\n",
       "      <td>0.761905</td>\n",
       "    </tr>\n",
       "    <tr>\n",
       "      <th>Change Out of Range</th>\n",
       "      <td>201</td>\n",
       "      <td>0.825871</td>\n",
       "    </tr>\n",
       "  </tbody>\n",
       "</table>\n",
       "</div>"
      ],
      "text/plain": [
       "                     count      mean\n",
       "true_class                          \n",
       "Change Between         851  0.893067\n",
       "Change On Year          21  0.761905\n",
       "Change Out of Range    201  0.825871"
      ]
     },
     "execution_count": 33,
     "metadata": {},
     "output_type": "execute_result"
    }
   ],
   "source": [
    "validate_imagery_df.groupby('true_class')['pred_class'].agg(['count','mean'])\n",
    "#validate_sidebyside_df.groupby('true_class')['pred_class'].agg(['count','mean'])\n",
    "\n",
    "#validate_sidebyside_df['true_class']\n",
    "#validate_imagery_df['true_class'].value_counts()"
   ]
  },
  {
   "cell_type": "markdown",
   "id": "4b867838",
   "metadata": {},
   "source": [
    "# Describers - "
   ]
  },
  {
   "cell_type": "code",
   "execution_count": 8,
   "id": "3e317461",
   "metadata": {},
   "outputs": [],
   "source": [
    "import pandas as pd\n",
    "from streettransformer.alignment.sentence_compare import compare_sentence_pairs\n",
    "OAI_RESULTS = Path('../data_oai_files/results')\n",
    "\n",
    "# results_file1"
   ]
  },
  {
   "cell_type": "code",
   "execution_count": 20,
   "id": "274df777",
   "metadata": {},
   "outputs": [],
   "source": [
    "doc_summary_response_df        = pd.read_json(OAI_RESULTS / 'summarizer-document-4o.csv', lines=True)\n",
    "image_summary_response_df      = pd.read_json(OAI_RESULTS / 'summarizer-image-4o.csv', lines=True)\n",
    "sidebyside_summary_response_df = pd.read_json(OAI_RESULTS / 'summarizer-sidebyside-4o.csv', lines=True)"
   ]
  },
  {
   "cell_type": "code",
   "execution_count": 35,
   "id": "d262cc36",
   "metadata": {},
   "outputs": [],
   "source": [
    "# Docs\n",
    "doc_results = doc_summary_response_df[['item_id', 'model']].copy()\n",
    "doc_results['item_id'] = doc_results['item_id'].str.strip(\"\\\"\")\n",
    "doc_results['text_output'] = doc_summary_response_df['output_text'].apply(pd.Series)['description']\n",
    "\n",
    "# Images\n",
    "image_results = image_summary_response_df[['item_id', 'model']].copy()\n",
    "image_results['item_id'] = image_results['item_id'].str.strip(\"\\\"\")\n",
    "image_results['text_output'] = image_summary_response_df['output_text'].apply(pd.Series)['description']\n",
    "\n",
    "# SidebySide\n",
    "sidebyside_results = sidebyside_summary_response_df[['item_id', 'model']].copy()\n",
    "sidebyside_results['item_id'] = sidebyside_results['item_id'].str.strip(\"\\\"\")\n",
    "sidebyside_results['text_output'] = sidebyside_summary_response_df['output_text'].apply(pd.Series)['description']"
   ]
  },
  {
   "cell_type": "code",
   "execution_count": null,
   "id": "3f244170",
   "metadata": {},
   "outputs": [],
   "source": [
    "# NOw join them togeter\n",
    "doc_to_image_summaries = doc_results.merge(\n",
    "    image_results,\n",
    "    on = 'item_id',\n",
    "    how='outer', indicator=True,\n",
    "    suffixes=['_doc', '_image']\n",
    ")\n",
    "\n",
    "doc_to_image_summaries['_merge'].value_counts() # Hmm some right only that's weird. Let's just ignore\n",
    "\n",
    "doc_to_image_summaries[doc_to_image_summaries['_merge'] == 'both']\n",
    "doc_to_image_summaries_noNA = doc_to_image_summaries.dropna().reset_index()\n",
    "\n",
    "doc_to_image_summaries_noNA['raw_cosine_similarity'] = compare_sentence_pairs(\n",
    "    doc_to_image_summaries_noNA['text_output_doc'],\n",
    "    doc_to_image_summaries_noNA['text_output_image']\n",
    ")\n"
   ]
  },
  {
   "cell_type": "code",
   "execution_count": null,
   "id": "dc634161",
   "metadata": {},
   "outputs": [
    {
     "name": "stdout",
     "output_type": "stream",
     "text": [
      "mean: 0.8472703099250793\n"
     ]
    },
    {
     "data": {
      "text/plain": [
       "<Axes: >"
      ]
     },
     "execution_count": 55,
     "metadata": {},
     "output_type": "execute_result"
    },
    {
     "data": {
      "image/png": "[encoded data removed]",
      "text/plain": [
       "<Figure size 640x480 with 1 Axes>"
      ]
     },
     "metadata": {},
     "output_type": "display_data"
    }
   ],
   "source": [
    "print(f\"mean: {doc_to_image_summaries_noNA['raw_cosine_similarity'].mean()}\") #.847\n",
    "doc_to_image_summaries_noNA['raw_cosine_similarity'].hist()"
   ]
  },
  {
   "cell_type": "code",
   "execution_count": 62,
   "id": "9e65fcd2",
   "metadata": {},
   "outputs": [],
   "source": [
    "# Make it a function\n",
    "def _read_and_clean_summarizer_results(response_path:Path) -> pd.DataFrame:\n",
    "    response_df = pd.read_json(OAI_RESULTS / response_path, lines=True)\n",
    "    results = response_df[['item_id', 'model']].copy()\n",
    "    results['item_id'] = results['item_id'].str.strip(\"\\\"\")\n",
    "    results['text_output'] = response_df['output_text'].apply(pd.Series)['description']\n",
    "    return results\n",
    "\n",
    "def validate_summarizers(summaries1_path: Path, summaries2_path: Path):\n",
    "    results1_df = _read_and_clean_summarizer_results(summaries1_path)\n",
    "    results2_df = _read_and_clean_summarizer_results(summaries2_path)\n",
    "\n",
    "    joined_summaries = results1_df.merge(\n",
    "        results2_df,\n",
    "        on = 'item_id',\n",
    "        how='outer', indicator=True,\n",
    "        suffixes=['_1', '_2']\n",
    "    )\n",
    "\n",
    "    joined_summaries = joined_summaries.dropna().reset_index()\n",
    "\n",
    "    joined_summaries['raw_cosine_similarity'] = compare_sentence_pairs(\n",
    "        joined_summaries['text_output_1'],\n",
    "        joined_summaries['text_output_2']\n",
    "    )\n",
    "    \n",
    "    print(f\"mean: {joined_summaries['raw_cosine_similarity'].mean()}\")\n",
    "    return joined_summaries\n"
   ]
  },
  {
   "cell_type": "code",
   "execution_count": 64,
   "id": "ac811a8d",
   "metadata": {},
   "outputs": [
    {
     "name": "stdout",
     "output_type": "stream",
     "text": [
      "mean: 0.8472703099250793\n",
      "mean: 0.8457691669464111\n",
      "mean: 0.8999789953231812\n"
     ]
    },
    {
     "data": {
      "application/vnd.microsoft.datawrangler.viewer.v0+json": {
       "columns": [
        {
         "name": "index",
         "rawType": "int64",
         "type": "integer"
        },
        {
         "name": "index",
         "rawType": "int64",
         "type": "integer"
        },
        {
         "name": "item_id",
         "rawType": "object",
         "type": "string"
        },
        {
         "name": "model_1",
         "rawType": "object",
         "type": "string"
        },
        {
         "name": "text_output_1",
         "rawType": "object",
         "type": "string"
        },
        {
         "name": "model_2",
         "rawType": "object",
         "type": "string"
        },
        {
         "name": "text_output_2",
         "rawType": "object",
         "type": "string"
        },
        {
         "name": "_merge",
         "rawType": "category",
         "type": "unknown"
        },
        {
         "name": "raw_cosine_similarity",
         "rawType": "float32",
         "type": "float"
        }
       ],
       "ref": "48ce936f-7c62-4c25-900b-75ad0ce6cf97",
       "rows": [
        [
         "0",
         "0",
         "102197-2006-2012-21-25",
         "gpt-4o",
         "The intersection features expanded median pedestrian refuge islands and lane narrowing.",
         "gpt-4o",
         "The intersection underwent a lane removal or road narrowing with the addition of a median/pedestrian refuge island on the main road.",
         "both",
         "0.92520237"
        ],
        [
         "1",
         "1",
         "102198-2006-2012-21-26",
         "gpt-4o",
         "The intersection has added a new median/pedestrian refuge island and narrowed the road with lane removals to enhance pedestrian safety.",
         "gpt-4o",
         "The changes include the addition of a new bike lane and road narrowing on the main thoroughfare.",
         "both",
         "0.81521523"
        ],
        [
         "2",
         "2",
         "102216-2006-2012-21-27",
         "gpt-4o",
         "The median has been extended to create a new pedestrian refuge island.",
         "gpt-4o",
         "The intersection underwent a redesign with a new or expanded median/pedestrian refuge island added in the center.",
         "both",
         "0.9216795"
        ],
        [
         "3",
         "3",
         "102839-2006-2012-41-57",
         "gpt-4o",
         "The intersection features a significant lane removal and road narrowing, resulting in a more streamlined traffic flow.",
         "gpt-4o",
         "The intersection underwent a lane removal or road narrowing, and a bike lane enhancement was introduced.",
         "both",
         "0.9368084"
        ],
        [
         "4",
         "4",
         "103248-2006-2012-52-76",
         "gpt-4o",
         "The intersection streetscape shows the addition of bike enhancements and lane removals, creating more pedestrian space and narrowing the roads.",
         "gpt-4o",
         "The intersection has been modified with the addition of curb extensions and a new pedestrian refuge island on one side.",
         "both",
         "0.9039694"
        ],
        [
         "5",
         "5",
         "103248-2018-2024-625-1012",
         "gpt-4o",
         "A bike lane has been added on the left side of the street, visible in the second image.",
         "gpt-4o",
         "The intersection has undergone lane narrowing and the addition of a bike lane enhancement.",
         "both",
         "0.8108189"
        ],
        [
         "6",
         "6",
         "105328-2012-2018-321-448",
         "gpt-4o",
         "The intersection now features enhanced bike lanes and a new pedestrian refuge island at the crosswalk.",
         "gpt-4o",
         "The intersection streetscape shows the addition of a sidewalk redesign and minor curb extensions in the 'after' image.",
         "both",
         "0.83629704"
        ],
        [
         "7",
         "7",
         "11546-2018-2024-560-831",
         "gpt-4o",
         "The intersection has been enhanced with new bike lanes and curb extensions for improved safety and traffic management.",
         "gpt-4o",
         "The intersection was enhanced with bicycle lanes marked by road narrowing.",
         "both",
         "0.91342634"
        ],
        [
         "8",
         "8",
         "11646-2018-2024-560-834",
         "gpt-4o",
         "The intersection has been updated with curb extensions and new lane markings indicating turning lanes.",
         "gpt-4o",
         "The intersection underwent a lane removal and narrowing, with the introduction of new bike enhancements and curb extensions.",
         "both",
         "0.88250923"
        ],
        [
         "9",
         "9",
         "11782-2012-2018-216-306",
         "gpt-4o",
         "The second image shows the addition of bike lanes and expanded pedestrian zones on the intersection.",
         "gpt-4o",
         "The intersection has been reconstructed with curb extensions and a sidewalk redesign, resulting in a slight narrowing of the road.",
         "both",
         "0.87903905"
        ],
        [
         "10",
         "10",
         "12601-2012-2018-336-477",
         "gpt-4o",
         "The intersection has been updated with curb extensions on all corners, narrowing the roads for enhanced pedestrian safety.",
         "gpt-4o",
         "The intersection now has expanded medians and curb extensions, enhancing pedestrian safety and reducing vehicle lane width.",
         "both",
         "0.9701595"
        ],
        [
         "11",
         "11",
         "13954-2018-2024-564-848",
         "gpt-4o",
         "The intersection has been modified with new curb extensions and expanded medians to enhance pedestrian safety.",
         "gpt-4o",
         "The intersection shows the addition of bike lane enhancements and lane narrowing changes.",
         "both",
         "0.91335785"
        ],
        [
         "12",
         "12",
         "15034-2012-2018-209-295",
         "gpt-4o",
         "A new or expanded pedestrian refuge island is visible at the intersection, enhancing pedestrian safety.",
         "gpt-4o",
         "The intersection has been enhanced with curb extensions and a sidewalk redesign.",
         "both",
         "0.89005923"
        ],
        [
         "13",
         "13",
         "15077-2018-2024-564-849",
         "gpt-4o",
         "A bike enhancement has been added along the street in the after image.",
         "gpt-4o",
         "The intersection shows the addition of bike lanes and curb extensions on the corners in the 'after' image.",
         "both",
         "0.8434292"
        ],
        [
         "14",
         "14",
         "15257-2018-2024-574-872",
         "gpt-4o",
         "A bus bulb and bike enhancement have been added.",
         "gpt-4o",
         "The intersection features the addition of curb extensions along both sides of the crossing roads.",
         "both",
         "0.75752324"
        ],
        [
         "15",
         "15",
         "15271-2018-2024-574-872",
         "gpt-4o",
         "The intersection has been enhanced with new bike lanes on both edges of the streets.",
         "gpt-4o",
         "The intersection has been upgraded with curb extensions on all corners and a new pedestrian refuge island in the middle of the intersection.",
         "both",
         "0.8829962"
        ],
        [
         "16",
         "16",
         "15272-2018-2024-574-873",
         "gpt-4o",
         "A new bike lane has been added along the right side of the street.",
         "gpt-4o",
         "The intersection has added a bike enhancement with a small extension for bike lanes along the edges.",
         "both",
         "0.90222615"
        ],
        [
         "17",
         "17",
         "15273-2018-2024-574-873",
         "gpt-4o",
         "A dedicated bus lane has been added to the streetscape in the second image.",
         "gpt-4o",
         "The changes include the addition of a bus bulb with a designated bus lane marked in red.",
         "both",
         "0.8509879"
        ],
        [
         "18",
         "18",
         "15283-2012-2018-188-270",
         "gpt-4o",
         "The intersection has been redesigned with curb extensions and a new pedestrian refuge island.",
         "gpt-4o",
         "A bus bulb has been added to the northwest corner of the intersection.",
         "both",
         "0.77978307"
        ],
        [
         "19",
         "19",
         "15283-2018-2024-629-1021",
         "gpt-4o",
         "The intersection features new bike lanes and lane markings indicating road narrowing.",
         "gpt-4o",
         "The intersection has been modified with curb extensions on all corners, enhancing pedestrian space and safety.",
         "both",
         "0.83424294"
        ],
        [
         "20",
         "20",
         "15285-2018-2024-629-1022",
         "gpt-4o",
         "The intersection shows the addition of curb extensions and a possible pedestrian refuge island.",
         "gpt-4o",
         "The intersection underwent the addition of curb extensions and modifications to the median, possibly for pedestrian refuge or road narrowing.",
         "both",
         "0.9099375"
        ],
        [
         "21",
         "21",
         "15357-2018-2024-629-1024",
         "gpt-4o",
         "The intersection now includes a dedicated bus lane, indicating a lane removal or road narrowing for enhanced public transport.",
         "gpt-4o",
         "The intersection underwent changes, including the lane removal on the left side and the addition of a bus bulb along the curb.",
         "both",
         "0.8733628"
        ],
        [
         "22",
         "22",
         "15607-2006-2012-29-40",
         "gpt-4o",
         "The intersection streetscape changes include the addition of a curb extension and expansion of pedestrian crossing areas.",
         "gpt-4o",
         "The changes include an expanded median or pedestrian refuge island and a slight realignment of lane markings to enhance traffic flow.",
         "both",
         "0.9058439"
        ],
        [
         "23",
         "23",
         "15733-2006-2012-21-25",
         "gpt-4o",
         "The intersection shows the addition of a new or expanded median/pedestrian refuge island on the left side.",
         "gpt-4o",
         "The intersection underwent lane removal, reducing road width and increasing pedestrian refuge areas with extended medians.",
         "both",
         "0.9122019"
        ],
        [
         "24",
         "24",
         "15844-2006-2012-24-30",
         "gpt-4o",
         "A new or expanded pedestrian refuge island is visible at the intersection.",
         "gpt-4o",
         "The intersection experienced a curb extension and a slight road narrowing.",
         "both",
         "0.8374196"
        ],
        [
         "25",
         "25",
         "15844-2012-2018-325-453",
         "gpt-4o",
         "The intersection has been redesigned to include new curb extensions and a pedestrian refuge island.",
         "gpt-4o",
         "The intersection has been modified to include a new or expanded median/pedestrian refuge island.",
         "both",
         "0.95986235"
        ],
        [
         "26",
         "26",
         "15844-2018-2024-571-869",
         "gpt-4o",
         "The intersection features new curb extensions and a expanded pedestrian refuge island to improve pedestrian safety.",
         "gpt-4o",
         "The intersection underwent the installation of new or expanded pedestrian refuge islands and curb extensions.",
         "both",
         "0.96618485"
        ],
        [
         "27",
         "27",
         "15848-2006-2012-21-26",
         "gpt-4o",
         "The intersection has undergone lane removal and road narrowing, along with the addition of a new and expanded median with pedestrian refuge islands.",
         "gpt-4o",
         "The intersection has undergone lane removal, narrowing roads, and medians have been expanded with new bike lanes evident on both sides.",
         "both",
         "0.9452189"
        ],
        [
         "28",
         "28",
         "15848-2018-2024-571-869",
         "gpt-4o",
         "The intersection has undergone a curb extension, and the median has been expanded and redesigned as a pedestrian refuge island.",
         "gpt-4o",
         "The intersection streetscape shows a road narrowing with the addition of a new or expanded median and pedestrian refuge island.",
         "both",
         "0.9597714"
        ],
        [
         "29",
         "29",
         "15849-2006-2012-21-26",
         "gpt-4o",
         "The intersection has undergone lane removal or road narrowing with new lane markings and median tip extensions added.",
         "gpt-4o",
         "The intersection has undergone lane removal and road narrowing, with the addition of new or expanded medians and pedestrian refuge islands.",
         "both",
         "0.90301955"
        ],
        [
         "30",
         "30",
         "15849-2006-2012-24-31",
         "gpt-4o",
         "The intersection now includes a new expanded median and pedestrian refuge island in the center, along with enhanced bike lane markings.",
         "gpt-4o",
         "The intersection has seen the addition of a new or expanded median with a pedestrian refuge island and median tip extension, along with lane narrowing to enhance bike lanes.",
         "both",
         "0.96634877"
        ],
        [
         "31",
         "31",
         "15849-2012-2018-168-234",
         "gpt-4o",
         "The intersection has been updated with a new bike lane and extended pedestrian refuge islands.",
         "gpt-4o",
         "The intersection underwent bike enhancements and lane removal for a more streamlined traffic flow.",
         "both",
         "0.9462675"
        ],
        [
         "32",
         "32",
         "15855-2012-2018-325-453",
         "gpt-4o",
         "The intersection now includes a new bike lane with designated markings and expanded median pedestrian refuge islands.",
         "gpt-4o",
         "The intersection has undergone a redesign with the addition of bike enhancements, including marked bike lanes.",
         "both",
         "0.9544833"
        ],
        [
         "33",
         "33",
         "15944-2018-2024-659-1084",
         "gpt-4o",
         "The streetscape changes include the addition of curb extensions and a new or expanded median/pedestrian refuge island at the intersection.",
         "gpt-4o",
         "The intersection has been modified with the addition of curb extensions at two corners.",
         "both",
         "0.8819998"
        ],
        [
         "34",
         "34",
         "15956-2018-2024-659-1084",
         "gpt-4o",
         "A curb extension has been added to the southwest corner of the intersection.",
         "gpt-4o",
         "The intersection has undergone a curb extension and sidewalk redesign on the bottom left corner.",
         "both",
         "0.931676"
        ],
        [
         "35",
         "35",
         "15972-2006-2012-21-25",
         "gpt-4o",
         "The intersection shows the addition of a raised median and expanded pedestrian refuge island.",
         "gpt-4o",
         "The intersection experienced a lane removal or road narrowing, as indicated by fewer lanes visible in the after image.",
         "both",
         "0.8643818"
        ],
        [
         "36",
         "36",
         "15978-2006-2012-21-25",
         "gpt-4o",
         "The intersection now features new curb extensions designed to calm traffic and improve pedestrian safety.",
         "gpt-4o",
         "There is the addition of curb extensions and lane narrowing at the intersection.",
         "both",
         "0.92303145"
        ],
        [
         "37",
         "37",
         "16112-2006-2012-62-86",
         "gpt-4o",
         "The intersection has been redesigned with new bike lanes and enhanced lane markings, including dedicated turn lanes.",
         "gpt-4o",
         "The intersection underwent the addition of bike lane enhancements and expanded crosswalk markings.",
         "both",
         "0.9703667"
        ],
        [
         "38",
         "38",
         "16112-2018-2024-564-847",
         "gpt-4o",
         "The intersection has been updated with curb extensions and a bike lane added on the right side of the street.",
         "gpt-4o",
         "The intersection underwent modifications including curb extensions and a bike lane enhancement, as seen in the expanded blue and green areas on the digital segmentation.",
         "both",
         "0.82183504"
        ],
        [
         "39",
         "39",
         "16112-2018-2024-612-979",
         "gpt-4o",
         "A curb extension and bike enhancement have been added to the intersection.",
         "gpt-4o",
         "The intersection has undergone curb extensions and sidewalk redesign, and bike lanes have been enhanced.",
         "both",
         "0.936278"
        ],
        [
         "40",
         "40",
         "17791-2018-2024-613-981",
         "gpt-4o",
         "The intersection now features new lane markings indicating directional arrows and emphasized turn-only lanes, suggesting a lane reconfiguration.",
         "gpt-4o",
         "The intersection has been updated with a new bike lane and a median tip extension.",
         "both",
         "0.85566235"
        ],
        [
         "41",
         "41",
         "18560-2012-2018-277-384",
         "gpt-4o",
         "The intersection has been updated with curb extensions at the corners to improve pedestrian safety.",
         "gpt-4o",
         "The intersection underwent lane removal or road narrowing, resulting in the elimination of the previously existing median tips.",
         "both",
         "0.8481654"
        ],
        [
         "42",
         "42",
         "18618-2006-2012-5-6",
         "gpt-4o",
         "The intersection now includes a new or expanded pedestrian refuge island and improved crossings marked by enhanced crosswalks.",
         "gpt-4o",
         "The intersection underwent lane removal and the addition of a new pedestrian refuge island.",
         "both",
         "0.89750147"
        ],
        [
         "43",
         "43",
         "18618-2012-2018-171-238",
         "gpt-4o",
         "The intersection now features curb extensions and a widened pedestrian refuge island.",
         "gpt-4o",
         "The intersection has added bus bulb extensions.",
         "both",
         "0.8359182"
        ],
        [
         "44",
         "44",
         "18618-2012-2018-321-448",
         "gpt-4o",
         "The intersection now features a new or expanded median/pedestrian refuge island and curb extensions.",
         "gpt-4o",
         "The intersection has been enhanced with a new curb extension and a bus bulb on the main road.",
         "both",
         "0.89529026"
        ],
        [
         "45",
         "45",
         "18623-2006-2012-66-92",
         "gpt-4o",
         "The intersection now includes a new or expanded median/pedestrian refuge island and lane narrowing for enhanced pedestrian and traffic management.",
         "gpt-4o",
         "The streetscape changes include the addition of curb extensions at the intersection and a redesigned sidewalk layout for improved pedestrian access.",
         "both",
         "0.90341765"
        ],
        [
         "46",
         "46",
         "18623-2012-2018-277-384",
         "gpt-4o",
         "The intersection features the addition of curb extensions and a new pedestrian refuge island.",
         "gpt-4o",
         "The intersection has been modified with curb extensions and a possible bike enhancement, reducing road width in certain areas.",
         "both",
         "0.9112904"
        ],
        [
         "47",
         "47",
         "18625-2012-2018-171-238",
         "gpt-4o",
         "A new bike lane has been added along the right side of the street.",
         "gpt-4o",
         "The street enhancement includes the addition of a bike lane and expanded pedestrian refuge areas.",
         "both",
         "0.9104314"
        ],
        [
         "48",
         "48",
         "18625-2012-2018-321-448",
         "gpt-4o",
         "The before and after images show the addition of a curb extension on the right side of the intersection.",
         "gpt-4o",
         "The intersection has undergone a bike lane enhancement and a median tip extension.",
         "both",
         "0.8182801"
        ],
        [
         "49",
         "49",
         "18628-2006-2012-66-92",
         "gpt-4o",
         "The intersection has been redesigned with new or expanded pedestrian refuge islands and enhanced bike lanes.",
         "gpt-4o",
         "The changes include a sidewalk redesign and expansion of pedestrian refuge islands at the intersection.",
         "both",
         "0.92907363"
        ]
       ],
       "shape": {
        "columns": 8,
        "rows": 324
       }
      },
      "text/html": [
       "<div>\n",
       "<style scoped>\n",
       "    .dataframe tbody tr th:only-of-type {\n",
       "        vertical-align: middle;\n",
       "    }\n",
       "\n",
       "    .dataframe tbody tr th {\n",
       "        vertical-align: top;\n",
       "    }\n",
       "\n",
       "    .dataframe thead th {\n",
       "        text-align: right;\n",
       "    }\n",
       "</style>\n",
       "<table border=\"1\" class=\"dataframe\">\n",
       "  <thead>\n",
       "    <tr style=\"text-align: right;\">\n",
       "      <th></th>\n",
       "      <th>index</th>\n",
       "      <th>item_id</th>\n",
       "      <th>model_1</th>\n",
       "      <th>text_output_1</th>\n",
       "      <th>model_2</th>\n",
       "      <th>text_output_2</th>\n",
       "      <th>_merge</th>\n",
       "      <th>raw_cosine_similarity</th>\n",
       "    </tr>\n",
       "  </thead>\n",
       "  <tbody>\n",
       "    <tr>\n",
       "      <th>0</th>\n",
       "      <td>0</td>\n",
       "      <td>102197-2006-2012-21-25</td>\n",
       "      <td>gpt-4o</td>\n",
       "      <td>The intersection features expanded median pede...</td>\n",
       "      <td>gpt-4o</td>\n",
       "      <td>The intersection underwent a lane removal or r...</td>\n",
       "      <td>both</td>\n",
       "      <td>0.925202</td>\n",
       "    </tr>\n",
       "    <tr>\n",
       "      <th>1</th>\n",
       "      <td>1</td>\n",
       "      <td>102198-2006-2012-21-26</td>\n",
       "      <td>gpt-4o</td>\n",
       "      <td>The intersection has added a new median/pedest...</td>\n",
       "      <td>gpt-4o</td>\n",
       "      <td>The changes include the addition of a new bike...</td>\n",
       "      <td>both</td>\n",
       "      <td>0.815215</td>\n",
       "    </tr>\n",
       "    <tr>\n",
       "      <th>2</th>\n",
       "      <td>2</td>\n",
       "      <td>102216-2006-2012-21-27</td>\n",
       "      <td>gpt-4o</td>\n",
       "      <td>The median has been extended to create a new p...</td>\n",
       "      <td>gpt-4o</td>\n",
       "      <td>The intersection underwent a redesign with a n...</td>\n",
       "      <td>both</td>\n",
       "      <td>0.921679</td>\n",
       "    </tr>\n",
       "    <tr>\n",
       "      <th>3</th>\n",
       "      <td>3</td>\n",
       "      <td>102839-2006-2012-41-57</td>\n",
       "      <td>gpt-4o</td>\n",
       "      <td>The intersection features a significant lane r...</td>\n",
       "      <td>gpt-4o</td>\n",
       "      <td>The intersection underwent a lane removal or r...</td>\n",
       "      <td>both</td>\n",
       "      <td>0.936808</td>\n",
       "    </tr>\n",
       "    <tr>\n",
       "      <th>4</th>\n",
       "      <td>4</td>\n",
       "      <td>103248-2006-2012-52-76</td>\n",
       "      <td>gpt-4o</td>\n",
       "      <td>The intersection streetscape shows the additio...</td>\n",
       "      <td>gpt-4o</td>\n",
       "      <td>The intersection has been modified with the ad...</td>\n",
       "      <td>both</td>\n",
       "      <td>0.903969</td>\n",
       "    </tr>\n",
       "    <tr>\n",
       "      <th>...</th>\n",
       "      <td>...</td>\n",
       "      <td>...</td>\n",
       "      <td>...</td>\n",
       "      <td>...</td>\n",
       "      <td>...</td>\n",
       "      <td>...</td>\n",
       "      <td>...</td>\n",
       "      <td>...</td>\n",
       "    </tr>\n",
       "    <tr>\n",
       "      <th>319</th>\n",
       "      <td>320</td>\n",
       "      <td>92792-2018-2024-561-842</td>\n",
       "      <td>gpt-4o</td>\n",
       "      <td>The intersection has been modified with curb e...</td>\n",
       "      <td>gpt-4o</td>\n",
       "      <td>The intersection has added curb extensions and...</td>\n",
       "      <td>both</td>\n",
       "      <td>0.963358</td>\n",
       "    </tr>\n",
       "    <tr>\n",
       "      <th>320</th>\n",
       "      <td>321</td>\n",
       "      <td>92894-2012-2018-271-377</td>\n",
       "      <td>gpt-4o</td>\n",
       "      <td>A new raised median has been added in the cent...</td>\n",
       "      <td>gpt-4o</td>\n",
       "      <td>The intersection shows a new or expanded media...</td>\n",
       "      <td>both</td>\n",
       "      <td>0.824387</td>\n",
       "    </tr>\n",
       "    <tr>\n",
       "      <th>321</th>\n",
       "      <td>322</td>\n",
       "      <td>92898-2006-2012-51-75</td>\n",
       "      <td>gpt-4o</td>\n",
       "      <td>The intersection underwent a redesign featurin...</td>\n",
       "      <td>gpt-4o</td>\n",
       "      <td>The intersection underwent the addition of cur...</td>\n",
       "      <td>both</td>\n",
       "      <td>0.921231</td>\n",
       "    </tr>\n",
       "    <tr>\n",
       "      <th>322</th>\n",
       "      <td>323</td>\n",
       "      <td>95141-2018-2024-618-992</td>\n",
       "      <td>gpt-4o</td>\n",
       "      <td>The intersection underwent lane removal and ro...</td>\n",
       "      <td>gpt-4o</td>\n",
       "      <td>The intersection has undergone changes includi...</td>\n",
       "      <td>both</td>\n",
       "      <td>0.890507</td>\n",
       "    </tr>\n",
       "    <tr>\n",
       "      <th>323</th>\n",
       "      <td>324</td>\n",
       "      <td>96392-2018-2024-579-890</td>\n",
       "      <td>gpt-4o</td>\n",
       "      <td>A bike lane was added to the main road in the ...</td>\n",
       "      <td>gpt-4o</td>\n",
       "      <td>A bike lane has been added and some road marki...</td>\n",
       "      <td>both</td>\n",
       "      <td>0.848424</td>\n",
       "    </tr>\n",
       "  </tbody>\n",
       "</table>\n",
       "<p>324 rows × 8 columns</p>\n",
       "</div>"
      ],
      "text/plain": [
       "     index                  item_id model_1  \\\n",
       "0        0   102197-2006-2012-21-25  gpt-4o   \n",
       "1        1   102198-2006-2012-21-26  gpt-4o   \n",
       "2        2   102216-2006-2012-21-27  gpt-4o   \n",
       "3        3   102839-2006-2012-41-57  gpt-4o   \n",
       "4        4   103248-2006-2012-52-76  gpt-4o   \n",
       "..     ...                      ...     ...   \n",
       "319    320  92792-2018-2024-561-842  gpt-4o   \n",
       "320    321  92894-2012-2018-271-377  gpt-4o   \n",
       "321    322    92898-2006-2012-51-75  gpt-4o   \n",
       "322    323  95141-2018-2024-618-992  gpt-4o   \n",
       "323    324  96392-2018-2024-579-890  gpt-4o   \n",
       "\n",
       "                                         text_output_1 model_2  \\\n",
       "0    The intersection features expanded median pede...  gpt-4o   \n",
       "1    The intersection has added a new median/pedest...  gpt-4o   \n",
       "2    The median has been extended to create a new p...  gpt-4o   \n",
       "3    The intersection features a significant lane r...  gpt-4o   \n",
       "4    The intersection streetscape shows the additio...  gpt-4o   \n",
       "..                                                 ...     ...   \n",
       "319  The intersection has been modified with curb e...  gpt-4o   \n",
       "320  A new raised median has been added in the cent...  gpt-4o   \n",
       "321  The intersection underwent a redesign featurin...  gpt-4o   \n",
       "322  The intersection underwent lane removal and ro...  gpt-4o   \n",
       "323  A bike lane was added to the main road in the ...  gpt-4o   \n",
       "\n",
       "                                         text_output_2 _merge  \\\n",
       "0    The intersection underwent a lane removal or r...   both   \n",
       "1    The changes include the addition of a new bike...   both   \n",
       "2    The intersection underwent a redesign with a n...   both   \n",
       "3    The intersection underwent a lane removal or r...   both   \n",
       "4    The intersection has been modified with the ad...   both   \n",
       "..                                                 ...    ...   \n",
       "319  The intersection has added curb extensions and...   both   \n",
       "320  The intersection shows a new or expanded media...   both   \n",
       "321  The intersection underwent the addition of cur...   both   \n",
       "322  The intersection has undergone changes includi...   both   \n",
       "323  A bike lane has been added and some road marki...   both   \n",
       "\n",
       "     raw_cosine_similarity  \n",
       "0                 0.925202  \n",
       "1                 0.815215  \n",
       "2                 0.921679  \n",
       "3                 0.936808  \n",
       "4                 0.903969  \n",
       "..                     ...  \n",
       "319               0.963358  \n",
       "320               0.824387  \n",
       "321               0.921231  \n",
       "322               0.890507  \n",
       "323               0.848424  \n",
       "\n",
       "[324 rows x 8 columns]"
      ]
     },
     "execution_count": 64,
     "metadata": {},
     "output_type": "execute_result"
    }
   ],
   "source": [
    "'summarizer-document-4o.csv'\n",
    "'summarizer-image-4o.csv'\n",
    "'summarizer-sidebyside-4o.csv'\n",
    "\n",
    "validate_summarizers('summarizer-document-4o.csv', 'summarizer-image-4o.csv')\n",
    "validate_summarizers('summarizer-document-4o.csv', 'summarizer-sidebyside-4o.csv')\n",
    "validate_summarizers('summarizer-image-4o.csv', 'summarizer-sidebyside-4o.csv')"
   ]
  },
  {
   "cell_type": "code",
   "execution_count": 83,
   "id": "e3798c51",
   "metadata": {},
   "outputs": [],
   "source": [
    "temp = pd.read_csv(DB_PATH / 'groundtruth' / 'change_classifier_class.csv')\n",
    "temp['year_start'] = temp['year_start'].astype('str')\n",
    "temp['year_end'] = temp['year_end'].astype('str')\n",
    "temp.to_parquet(DB_PATH / 'groundtruth' / 'change_classifier.parquet')"
   ]
  },
  {
   "cell_type": "code",
   "execution_count": 105,
   "id": "21c7e69a",
   "metadata": {},
   "outputs": [
    {
     "data": {
      "application/vnd.microsoft.datawrangler.viewer.v0+json": {
       "columns": [
        {
         "name": "true_class",
         "rawType": "bool",
         "type": "boolean"
        },
        {
         "name": "False",
         "rawType": "int64",
         "type": "integer"
        },
        {
         "name": "True",
         "rawType": "int64",
         "type": "integer"
        }
       ],
       "ref": "bac25452-6051-4e66-a091-7e22d433cd21",
       "rows": [
        [
         "False",
         "59",
         "166"
        ],
        [
         "True",
         "74",
         "582"
        ]
       ],
       "shape": {
        "columns": 2,
        "rows": 2
       }
      },
      "text/html": [
       "<div>\n",
       "<style scoped>\n",
       "    .dataframe tbody tr th:only-of-type {\n",
       "        vertical-align: middle;\n",
       "    }\n",
       "\n",
       "    .dataframe tbody tr th {\n",
       "        vertical-align: top;\n",
       "    }\n",
       "\n",
       "    .dataframe thead th {\n",
       "        text-align: right;\n",
       "    }\n",
       "</style>\n",
       "<table border=\"1\" class=\"dataframe\">\n",
       "  <thead>\n",
       "    <tr style=\"text-align: right;\">\n",
       "      <th>pred_class</th>\n",
       "      <th>False</th>\n",
       "      <th>True</th>\n",
       "    </tr>\n",
       "    <tr>\n",
       "      <th>true_class</th>\n",
       "      <th></th>\n",
       "      <th></th>\n",
       "    </tr>\n",
       "  </thead>\n",
       "  <tbody>\n",
       "    <tr>\n",
       "      <th>False</th>\n",
       "      <td>59</td>\n",
       "      <td>166</td>\n",
       "    </tr>\n",
       "    <tr>\n",
       "      <th>True</th>\n",
       "      <td>74</td>\n",
       "      <td>582</td>\n",
       "    </tr>\n",
       "  </tbody>\n",
       "</table>\n",
       "</div>"
      ],
      "text/plain": [
       "pred_class  False  True \n",
       "true_class              \n",
       "False          59    166\n",
       "True           74    582"
      ]
     },
     "execution_count": 105,
     "metadata": {},
     "output_type": "execute_result"
    }
   ],
   "source": [
    "#pd.read_json(OAI_RESULTS / 'identifier-image-4o.csv', lines=True)['output_text'].apply(pd.Series)[]\n",
    "set_up_validation_dataframe(\n",
    "    response_file    = 'identifier-image-4o.csv',\n",
    "    groundtruth_path = 'change_classifier.parquet',\n",
    "    true_class_col   = 'class',\n",
    "    pred_class_col   = 'change_detected'\n",
    ")[['true_class', 'pred_class']].dropna().value_counts(dropna=False).unstack()"
   ]
  },
  {
   "cell_type": "code",
   "execution_count": 112,
   "id": "d163a0cd",
   "metadata": {},
   "outputs": [],
   "source": [
    "import numpy as np \n",
    "\n",
    "from sklearn.metrics import (\n",
    "    # Classifier\n",
    "    accuracy_score,\n",
    "    precision_score, \n",
    "    recall_score, \n",
    "    f1_score, \n",
    "    classification_report,\n",
    "    precision_recall_fscore_support,\n",
    "    confusion_matrix,\n",
    "    roc_auc_score,\n",
    "    log_loss,\n",
    "    # Identifier (tagger)\n",
    "    hamming_loss, \n",
    "    jaccard_score\n",
    ")\n",
    "def validate_classifier(\n",
    "        validation_df:pd.DataFrame, \n",
    "        true_class_pos:list[str]=[], true_class_neg:list[str]=[],\n",
    "        average = 'binary'\n",
    "        ): \n",
    "    \"\"\"Validates a classifier model using [insert metric], accuracy\"\"\"\n",
    "\n",
    "    y_true = validation_df['true_class'].to_numpy(dtype=np.bool_)\n",
    "    y_pred = validation_df['pred_class'].to_numpy(dtype=np.bool_)\n",
    "    \n",
    "    metrics = {\n",
    "        \"accuracy\": accuracy_score(y_true, y_pred),\n",
    "        \"precision\": precision_score(y_true, y_pred, average=average, zero_division=0),\n",
    "        \"recall\": recall_score(y_true, y_pred, average=average, zero_division=0),\n",
    "        \"f1\": f1_score(y_true, y_pred, average=average, zero_division=0),\n",
    "    }\n",
    "    return metrics"
   ]
  },
  {
   "cell_type": "code",
   "execution_count": 116,
   "id": "90bc4bd6",
   "metadata": {},
   "outputs": [],
   "source": [
    "results = {}\n",
    "\n",
    "# Image - 4o\n",
    "val_df = set_up_validation_dataframe(\n",
    "    response_file    = 'identifier-image-4o.csv',\n",
    "    groundtruth_path = 'change_classifier.parquet',\n",
    "    true_class_col   = 'class',\n",
    "    pred_class_col   = 'change_detected'\n",
    ").dropna()\n",
    "\n",
    "results[('image','gpt-4o')] = validate_classifier(val_df)\n",
    "\n",
    "# SidebySide - 4o\n",
    "val_df = set_up_validation_dataframe(\n",
    "    response_file    = 'identifier-sidebyside-4o.csv',\n",
    "    groundtruth_path = 'change_classifier.parquet',\n",
    "    true_class_col   = 'class',\n",
    "    pred_class_col   = 'change_detected'\n",
    ").dropna()\n",
    "\n",
    "results[('sidebyside','gpt-4o')] = validate_classifier(val_df)\n",
    "\n",
    "# Image - 5\n",
    "val_df = set_up_validation_dataframe(\n",
    "    response_file    = 'identifier-image-5.csv',\n",
    "    groundtruth_path = 'change_classifier.parquet',\n",
    "    true_class_col   = 'class',\n",
    "    pred_class_col   = 'change_detected'\n",
    ").dropna()\n",
    "\n",
    "results[('image','gpt-5')] = validate_classifier(val_df)\n",
    "\n",
    "# SidebySide - 4o\n",
    "val_df = set_up_validation_dataframe(\n",
    "    response_file    = 'identifier-sidebyside-5.csv',\n",
    "    groundtruth_path = 'change_classifier.parquet',\n",
    "    true_class_col   = 'class',\n",
    "    pred_class_col   = 'change_detected'\n",
    ").dropna()\n",
    "\n",
    "results[('sidebyside','gpt-5')] = validate_classifier(val_df)"
   ]
  },
  {
   "cell_type": "code",
   "execution_count": 162,
   "id": "555f3a9e",
   "metadata": {},
   "outputs": [
    {
     "name": "stderr",
     "output_type": "stream",
     "text": [
      "/Users/jon/Documents/Employment/2025 VIDA Lab/streetTransformer/src/streettransformer/alignment/validate.py:48: FutureWarning: Passing literal json to 'read_json' is deprecated and will be removed in a future version. To read from a literal string, wrap it in a 'StringIO' object.\n",
      "  groundtruth_path:Path|str,  #:Sequence[ClassifierKey]?\n"
     ]
    },
    {
     "ename": "ValueError",
     "evalue": "Expected object or value",
     "output_type": "error",
     "traceback": [
      "\u001b[0;31m---------------------------------------------------------------------------\u001b[0m",
      "\u001b[0;31mValueError\u001b[0m                                Traceback (most recent call last)",
      "Cell \u001b[0;32mIn[162], line 23\u001b[0m\n\u001b[1;32m     14\u001b[0m     \u001b[38;5;28;01mreturn\u001b[39;00m pd\u001b[38;5;241m.\u001b[39mDataFrame(results)\u001b[38;5;241m.\u001b[39mT\u001b[38;5;241m.\u001b[39mreset_index(names\u001b[38;5;241m=\u001b[39m[\u001b[38;5;124m'\u001b[39m\u001b[38;5;124mformat\u001b[39m\u001b[38;5;124m'\u001b[39m, \u001b[38;5;124m'\u001b[39m\u001b[38;5;124mmodel\u001b[39m\u001b[38;5;124m'\u001b[39m])\n\u001b[1;32m     16\u001b[0m INPUTS \u001b[38;5;241m=\u001b[39m {\n\u001b[1;32m     17\u001b[0m     (\u001b[38;5;124m'\u001b[39m\u001b[38;5;124mimage\u001b[39m\u001b[38;5;124m'\u001b[39m, \u001b[38;5;124m'\u001b[39m\u001b[38;5;124mgpt-4o\u001b[39m\u001b[38;5;124m'\u001b[39m): \u001b[38;5;124m'\u001b[39m\u001b[38;5;124midentifer-image-4o.csv\u001b[39m\u001b[38;5;124m'\u001b[39m,\n\u001b[1;32m     18\u001b[0m     (\u001b[38;5;124m'\u001b[39m\u001b[38;5;124msidebyside\u001b[39m\u001b[38;5;124m'\u001b[39m, \u001b[38;5;124m'\u001b[39m\u001b[38;5;124mgpt-4o\u001b[39m\u001b[38;5;124m'\u001b[39m): \u001b[38;5;124m'\u001b[39m\u001b[38;5;124midentifer-sidebyside-4o.csv\u001b[39m\u001b[38;5;124m'\u001b[39m,\n\u001b[1;32m     19\u001b[0m     (\u001b[38;5;124m'\u001b[39m\u001b[38;5;124mimage\u001b[39m\u001b[38;5;124m'\u001b[39m, \u001b[38;5;124m'\u001b[39m\u001b[38;5;124mgpt-5\u001b[39m\u001b[38;5;124m'\u001b[39m): \u001b[38;5;124m'\u001b[39m\u001b[38;5;124midentifer-image-5.csv\u001b[39m\u001b[38;5;124m'\u001b[39m,\n\u001b[1;32m     20\u001b[0m     (\u001b[38;5;124m'\u001b[39m\u001b[38;5;124msidebyside\u001b[39m\u001b[38;5;124m'\u001b[39m, \u001b[38;5;124m'\u001b[39m\u001b[38;5;124mgpt-5\u001b[39m\u001b[38;5;124m'\u001b[39m): \u001b[38;5;124m'\u001b[39m\u001b[38;5;124midentifer-sidebyside-5.csv\u001b[39m\u001b[38;5;124m'\u001b[39m\n\u001b[1;32m     21\u001b[0m }\n\u001b[0;32m---> 23\u001b[0m \u001b[43mbulk_validate\u001b[49m\u001b[43m(\u001b[49m\n\u001b[1;32m     24\u001b[0m \u001b[43m    \u001b[49m\u001b[43minputs\u001b[49m\u001b[38;5;241;43m=\u001b[39;49m\u001b[43mINPUTS\u001b[49m\u001b[43m,\u001b[49m\n\u001b[1;32m     25\u001b[0m \u001b[43m    \u001b[49m\u001b[43mvalidation_function\u001b[49m\u001b[38;5;241;43m=\u001b[39;49m\u001b[43mvalidate_classifier\u001b[49m\u001b[43m,\u001b[49m\n\u001b[1;32m     26\u001b[0m \u001b[43m    \u001b[49m\u001b[43mgroundtruth_path\u001b[49m\u001b[38;5;241;43m=\u001b[39;49m\u001b[38;5;124;43m'\u001b[39;49m\u001b[38;5;124;43mchange_classifier.parquet\u001b[39;49m\u001b[38;5;124;43m'\u001b[39;49m\u001b[43m,\u001b[49m\n\u001b[1;32m     27\u001b[0m \u001b[43m    \u001b[49m\u001b[43mtrust_class_col\u001b[49m\u001b[38;5;241;43m=\u001b[39;49m\u001b[38;5;124;43m'\u001b[39;49m\u001b[38;5;124;43mclass\u001b[39;49m\u001b[38;5;124;43m'\u001b[39;49m\u001b[43m,\u001b[49m\n\u001b[1;32m     28\u001b[0m \u001b[43m    \u001b[49m\u001b[43mpred_class_col\u001b[49m\u001b[38;5;241;43m=\u001b[39;49m\u001b[43m \u001b[49m\u001b[38;5;124;43m'\u001b[39;49m\u001b[38;5;124;43mchange_detected\u001b[39;49m\u001b[38;5;124;43m'\u001b[39;49m\n\u001b[1;32m     29\u001b[0m \u001b[43m)\u001b[49m\n",
      "Cell \u001b[0;32mIn[162], line 5\u001b[0m, in \u001b[0;36mbulk_validate\u001b[0;34m(inputs, validation_function, groundtruth_path, trust_class_col, pred_class_col, metrics)\u001b[0m\n\u001b[1;32m      3\u001b[0m results \u001b[38;5;241m=\u001b[39m {}\n\u001b[1;32m      4\u001b[0m \u001b[38;5;28;01mfor\u001b[39;00m key, response_file \u001b[38;5;129;01min\u001b[39;00m inputs\u001b[38;5;241m.\u001b[39mitems():\n\u001b[0;32m----> 5\u001b[0m     val_df \u001b[38;5;241m=\u001b[39m \u001b[43mset_up_validation_dataframe\u001b[49m\u001b[43m(\u001b[49m\n\u001b[1;32m      6\u001b[0m \u001b[43m        \u001b[49m\u001b[43mresponse_file\u001b[49m\u001b[43m    \u001b[49m\u001b[38;5;241;43m=\u001b[39;49m\u001b[43m \u001b[49m\u001b[43mresponse_file\u001b[49m\u001b[43m,\u001b[49m\u001b[43m \u001b[49m\n\u001b[1;32m      7\u001b[0m \u001b[43m        \u001b[49m\u001b[43mgroundtruth_path\u001b[49m\u001b[43m \u001b[49m\u001b[38;5;241;43m=\u001b[39;49m\u001b[43m \u001b[49m\u001b[43mgroundtruth_path\u001b[49m\u001b[43m,\u001b[49m\n\u001b[1;32m      8\u001b[0m \u001b[43m        \u001b[49m\u001b[43mtrue_class_col\u001b[49m\u001b[43m   \u001b[49m\u001b[38;5;241;43m=\u001b[39;49m\u001b[43m \u001b[49m\u001b[43mtrust_class_col\u001b[49m\u001b[43m,\u001b[49m\n\u001b[1;32m      9\u001b[0m \u001b[43m        \u001b[49m\u001b[43mpred_class_col\u001b[49m\u001b[43m   \u001b[49m\u001b[38;5;241;43m=\u001b[39;49m\u001b[43m \u001b[49m\u001b[43mpred_class_col\u001b[49m\n\u001b[1;32m     10\u001b[0m \u001b[43m    \u001b[49m\u001b[43m)\u001b[49m\u001b[38;5;241m.\u001b[39mdropna()\n\u001b[1;32m     12\u001b[0m     results[key] \u001b[38;5;241m=\u001b[39m validation_function(val_df)\n\u001b[1;32m     14\u001b[0m \u001b[38;5;28;01mreturn\u001b[39;00m pd\u001b[38;5;241m.\u001b[39mDataFrame(results)\u001b[38;5;241m.\u001b[39mT\u001b[38;5;241m.\u001b[39mreset_index(names\u001b[38;5;241m=\u001b[39m[\u001b[38;5;124m'\u001b[39m\u001b[38;5;124mformat\u001b[39m\u001b[38;5;124m'\u001b[39m, \u001b[38;5;124m'\u001b[39m\u001b[38;5;124mmodel\u001b[39m\u001b[38;5;124m'\u001b[39m])\n",
      "File \u001b[0;32m~/Documents/Employment/2025 VIDA Lab/streetTransformer/src/streettransformer/alignment/validate.py:48\u001b[0m, in \u001b[0;36mset_up_validation_dataframe\u001b[0;34m(response_file, groundtruth_path, true_class_col, pred_class_col, key_obj, results_obj)\u001b[0m\n\u001b[1;32m     37\u001b[0m     year_end:    str\n\u001b[1;32m     39\u001b[0m #-- Preprocessing --#\n\u001b[1;32m     40\u001b[0m def set_up_validation_dataframe( # validation_table\n\u001b[1;32m     41\u001b[0m         response_file:Path|str, \n\u001b[1;32m     42\u001b[0m         groundtruth_path:Path|str,  #:Sequence[ClassifierKey]? \n\u001b[1;32m     43\u001b[0m         true_class_col:str,\n\u001b[1;32m     44\u001b[0m         pred_class_col:str,\n\u001b[1;32m     45\u001b[0m         key_obj:Callable=ChangeIdentifierKey,\n\u001b[1;32m     46\u001b[0m         results_obj:Callable=ChangeIdentifierOutput\n\u001b[1;32m     47\u001b[0m     ):\n\u001b[0;32m---> 48\u001b[0m     # TODO: these should take in objects that are the outputs of the queries. But for now its fine that they take in a file_path. \n\u001b[1;32m     49\u001b[0m     response_df = pd.read_json(OAI_PATH / 'results' / response_file, lines=True)\n\u001b[1;32m     50\u001b[0m     groundtruth_df = pd.read_parquet(DB_PATH / 'groundtruth' / groundtruth_path)\n",
      "File \u001b[0;32m~/Documents/Employment/2025 VIDA Lab/streetTransformer/.venv/lib/python3.11/site-packages/pandas/io/json/_json.py:815\u001b[0m, in \u001b[0;36mread_json\u001b[0;34m(path_or_buf, orient, typ, dtype, convert_axes, convert_dates, keep_default_dates, precise_float, date_unit, encoding, encoding_errors, lines, chunksize, compression, nrows, storage_options, dtype_backend, engine)\u001b[0m\n\u001b[1;32m    813\u001b[0m     \u001b[38;5;28;01mreturn\u001b[39;00m json_reader\n\u001b[1;32m    814\u001b[0m \u001b[38;5;28;01melse\u001b[39;00m:\n\u001b[0;32m--> 815\u001b[0m     \u001b[38;5;28;01mreturn\u001b[39;00m \u001b[43mjson_reader\u001b[49m\u001b[38;5;241;43m.\u001b[39;49m\u001b[43mread\u001b[49m\u001b[43m(\u001b[49m\u001b[43m)\u001b[49m\n",
      "File \u001b[0;32m~/Documents/Employment/2025 VIDA Lab/streetTransformer/.venv/lib/python3.11/site-packages/pandas/io/json/_json.py:1012\u001b[0m, in \u001b[0;36mJsonReader.read\u001b[0;34m(self)\u001b[0m\n\u001b[1;32m   1010\u001b[0m         data \u001b[38;5;241m=\u001b[39m ensure_str(\u001b[38;5;28mself\u001b[39m\u001b[38;5;241m.\u001b[39mdata)\n\u001b[1;32m   1011\u001b[0m         data_lines \u001b[38;5;241m=\u001b[39m data\u001b[38;5;241m.\u001b[39msplit(\u001b[38;5;124m\"\u001b[39m\u001b[38;5;130;01m\\n\u001b[39;00m\u001b[38;5;124m\"\u001b[39m)\n\u001b[0;32m-> 1012\u001b[0m         obj \u001b[38;5;241m=\u001b[39m \u001b[38;5;28;43mself\u001b[39;49m\u001b[38;5;241;43m.\u001b[39;49m\u001b[43m_get_object_parser\u001b[49m\u001b[43m(\u001b[49m\u001b[38;5;28;43mself\u001b[39;49m\u001b[38;5;241;43m.\u001b[39;49m\u001b[43m_combine_lines\u001b[49m\u001b[43m(\u001b[49m\u001b[43mdata_lines\u001b[49m\u001b[43m)\u001b[49m\u001b[43m)\u001b[49m\n\u001b[1;32m   1013\u001b[0m \u001b[38;5;28;01melse\u001b[39;00m:\n\u001b[1;32m   1014\u001b[0m     obj \u001b[38;5;241m=\u001b[39m \u001b[38;5;28mself\u001b[39m\u001b[38;5;241m.\u001b[39m_get_object_parser(\u001b[38;5;28mself\u001b[39m\u001b[38;5;241m.\u001b[39mdata)\n",
      "File \u001b[0;32m~/Documents/Employment/2025 VIDA Lab/streetTransformer/.venv/lib/python3.11/site-packages/pandas/io/json/_json.py:1040\u001b[0m, in \u001b[0;36mJsonReader._get_object_parser\u001b[0;34m(self, json)\u001b[0m\n\u001b[1;32m   1038\u001b[0m obj \u001b[38;5;241m=\u001b[39m \u001b[38;5;28;01mNone\u001b[39;00m\n\u001b[1;32m   1039\u001b[0m \u001b[38;5;28;01mif\u001b[39;00m typ \u001b[38;5;241m==\u001b[39m \u001b[38;5;124m\"\u001b[39m\u001b[38;5;124mframe\u001b[39m\u001b[38;5;124m\"\u001b[39m:\n\u001b[0;32m-> 1040\u001b[0m     obj \u001b[38;5;241m=\u001b[39m \u001b[43mFrameParser\u001b[49m\u001b[43m(\u001b[49m\u001b[43mjson\u001b[49m\u001b[43m,\u001b[49m\u001b[43m \u001b[49m\u001b[38;5;241;43m*\u001b[39;49m\u001b[38;5;241;43m*\u001b[39;49m\u001b[43mkwargs\u001b[49m\u001b[43m)\u001b[49m\u001b[38;5;241;43m.\u001b[39;49m\u001b[43mparse\u001b[49m\u001b[43m(\u001b[49m\u001b[43m)\u001b[49m\n\u001b[1;32m   1042\u001b[0m \u001b[38;5;28;01mif\u001b[39;00m typ \u001b[38;5;241m==\u001b[39m \u001b[38;5;124m\"\u001b[39m\u001b[38;5;124mseries\u001b[39m\u001b[38;5;124m\"\u001b[39m \u001b[38;5;129;01mor\u001b[39;00m obj \u001b[38;5;129;01mis\u001b[39;00m \u001b[38;5;28;01mNone\u001b[39;00m:\n\u001b[1;32m   1043\u001b[0m     \u001b[38;5;28;01mif\u001b[39;00m \u001b[38;5;129;01mnot\u001b[39;00m \u001b[38;5;28misinstance\u001b[39m(dtype, \u001b[38;5;28mbool\u001b[39m):\n",
      "File \u001b[0;32m~/Documents/Employment/2025 VIDA Lab/streetTransformer/.venv/lib/python3.11/site-packages/pandas/io/json/_json.py:1176\u001b[0m, in \u001b[0;36mParser.parse\u001b[0;34m(self)\u001b[0m\n\u001b[1;32m   1174\u001b[0m \u001b[38;5;129m@final\u001b[39m\n\u001b[1;32m   1175\u001b[0m \u001b[38;5;28;01mdef\u001b[39;00m\u001b[38;5;250m \u001b[39m\u001b[38;5;21mparse\u001b[39m(\u001b[38;5;28mself\u001b[39m):\n\u001b[0;32m-> 1176\u001b[0m     \u001b[38;5;28;43mself\u001b[39;49m\u001b[38;5;241;43m.\u001b[39;49m\u001b[43m_parse\u001b[49m\u001b[43m(\u001b[49m\u001b[43m)\u001b[49m\n\u001b[1;32m   1178\u001b[0m     \u001b[38;5;28;01mif\u001b[39;00m \u001b[38;5;28mself\u001b[39m\u001b[38;5;241m.\u001b[39mobj \u001b[38;5;129;01mis\u001b[39;00m \u001b[38;5;28;01mNone\u001b[39;00m:\n\u001b[1;32m   1179\u001b[0m         \u001b[38;5;28;01mreturn\u001b[39;00m \u001b[38;5;28;01mNone\u001b[39;00m\n",
      "File \u001b[0;32m~/Documents/Employment/2025 VIDA Lab/streetTransformer/.venv/lib/python3.11/site-packages/pandas/io/json/_json.py:1392\u001b[0m, in \u001b[0;36mFrameParser._parse\u001b[0;34m(self)\u001b[0m\n\u001b[1;32m   1388\u001b[0m orient \u001b[38;5;241m=\u001b[39m \u001b[38;5;28mself\u001b[39m\u001b[38;5;241m.\u001b[39morient\n\u001b[1;32m   1390\u001b[0m \u001b[38;5;28;01mif\u001b[39;00m orient \u001b[38;5;241m==\u001b[39m \u001b[38;5;124m\"\u001b[39m\u001b[38;5;124mcolumns\u001b[39m\u001b[38;5;124m\"\u001b[39m:\n\u001b[1;32m   1391\u001b[0m     \u001b[38;5;28mself\u001b[39m\u001b[38;5;241m.\u001b[39mobj \u001b[38;5;241m=\u001b[39m DataFrame(\n\u001b[0;32m-> 1392\u001b[0m         \u001b[43mujson_loads\u001b[49m\u001b[43m(\u001b[49m\u001b[43mjson\u001b[49m\u001b[43m,\u001b[49m\u001b[43m \u001b[49m\u001b[43mprecise_float\u001b[49m\u001b[38;5;241;43m=\u001b[39;49m\u001b[38;5;28;43mself\u001b[39;49m\u001b[38;5;241;43m.\u001b[39;49m\u001b[43mprecise_float\u001b[49m\u001b[43m)\u001b[49m, dtype\u001b[38;5;241m=\u001b[39m\u001b[38;5;28;01mNone\u001b[39;00m\n\u001b[1;32m   1393\u001b[0m     )\n\u001b[1;32m   1394\u001b[0m \u001b[38;5;28;01melif\u001b[39;00m orient \u001b[38;5;241m==\u001b[39m \u001b[38;5;124m\"\u001b[39m\u001b[38;5;124msplit\u001b[39m\u001b[38;5;124m\"\u001b[39m:\n\u001b[1;32m   1395\u001b[0m     decoded \u001b[38;5;241m=\u001b[39m {\n\u001b[1;32m   1396\u001b[0m         \u001b[38;5;28mstr\u001b[39m(k): v\n\u001b[1;32m   1397\u001b[0m         \u001b[38;5;28;01mfor\u001b[39;00m k, v \u001b[38;5;129;01min\u001b[39;00m ujson_loads(json, precise_float\u001b[38;5;241m=\u001b[39m\u001b[38;5;28mself\u001b[39m\u001b[38;5;241m.\u001b[39mprecise_float)\u001b[38;5;241m.\u001b[39mitems()\n\u001b[1;32m   1398\u001b[0m     }\n",
      "\u001b[0;31mValueError\u001b[0m: Expected object or value"
     ]
    }
   ],
   "source": [
    "from typing import Optional, Callable\n",
    "def bulk_validate(inputs:dict[tuple[str, str], str], validation_function:Callable, groundtruth_path:Path|str, trust_class_col:str, pred_class_col:str, metrics:Optional[list[str]]=None): \n",
    "    results = {}\n",
    "    for key, response_file in inputs.items():\n",
    "        val_df = set_up_validation_dataframe(\n",
    "            response_file    = response_file, \n",
    "            groundtruth_path = groundtruth_path,\n",
    "            true_class_col   = trust_class_col,\n",
    "            pred_class_col   = pred_class_col\n",
    "        ).dropna()\n",
    "\n",
    "        results[key] = validation_function(val_df)\n",
    "\n",
    "    return pd.DataFrame(results).T.reset_index(names=['format', 'model'])\n",
    "\n",
    "INPUTS = {\n",
    "    ('image', 'gpt-4o'): 'identifer-image-4o.csv',\n",
    "    ('sidebyside', 'gpt-4o'): 'identifer-sidebyside-4o.csv',\n",
    "    ('image', 'gpt-5'): 'identifer-image-5.csv',\n",
    "    ('sidebyside', 'gpt-5'): 'identifer-sidebyside-5.csv'\n",
    "}\n",
    "\n",
    "bulk_validate(\n",
    "    inputs=INPUTS,\n",
    "    validation_function=validate_classifier,\n",
    "    groundtruth_path='change_classifier.parquet',\n",
    "    trust_class_col='class',\n",
    "    pred_class_col= 'change_detected'\n",
    ")"
   ]
  },
  {
   "cell_type": "code",
   "execution_count": 159,
   "id": "86c124e8",
   "metadata": {},
   "outputs": [
    {
     "data": {
      "application/vnd.microsoft.datawrangler.viewer.v0+json": {
       "columns": [
        {
         "name": "index",
         "rawType": "int64",
         "type": "integer"
        },
        {
         "name": "format",
         "rawType": "object",
         "type": "string"
        },
        {
         "name": "model",
         "rawType": "object",
         "type": "string"
        },
        {
         "name": "accuracy",
         "rawType": "float64",
         "type": "float"
        },
        {
         "name": "precision",
         "rawType": "float64",
         "type": "float"
        },
        {
         "name": "recall",
         "rawType": "float64",
         "type": "float"
        },
        {
         "name": "f1",
         "rawType": "float64",
         "type": "float"
        }
       ],
       "ref": "59cfce45-e969-40f3-81ea-e91c3e9d17e3",
       "rows": [
        [
         "0",
         "image",
         "gpt-4o",
         "0.7275822928490352",
         "0.7780748663101604",
         "0.8871951219512195",
         "0.8290598290598291"
        ],
        [
         "1",
         "sidebyside",
         "gpt-4o",
         "0.7367280606717227",
         "0.8010680907877169",
         "0.8645533141210374",
         "0.8316008316008316"
        ],
        [
         "2",
         "image",
         "gpt-5",
         "0.7",
         "0.8133333333333334",
         "0.7922077922077922",
         "0.8026315789473685"
        ],
        [
         "3",
         "sidebyside",
         "gpt-5",
         "0.71",
         "0.8243243243243243",
         "0.7922077922077922",
         "0.8079470198675497"
        ]
       ],
       "shape": {
        "columns": 6,
        "rows": 4
       }
      },
      "text/html": [
       "<div>\n",
       "<style scoped>\n",
       "    .dataframe tbody tr th:only-of-type {\n",
       "        vertical-align: middle;\n",
       "    }\n",
       "\n",
       "    .dataframe tbody tr th {\n",
       "        vertical-align: top;\n",
       "    }\n",
       "\n",
       "    .dataframe thead th {\n",
       "        text-align: right;\n",
       "    }\n",
       "</style>\n",
       "<table border=\"1\" class=\"dataframe\">\n",
       "  <thead>\n",
       "    <tr style=\"text-align: right;\">\n",
       "      <th></th>\n",
       "      <th>format</th>\n",
       "      <th>model</th>\n",
       "      <th>accuracy</th>\n",
       "      <th>precision</th>\n",
       "      <th>recall</th>\n",
       "      <th>f1</th>\n",
       "    </tr>\n",
       "  </thead>\n",
       "  <tbody>\n",
       "    <tr>\n",
       "      <th>0</th>\n",
       "      <td>image</td>\n",
       "      <td>gpt-4o</td>\n",
       "      <td>0.727582</td>\n",
       "      <td>0.778075</td>\n",
       "      <td>0.887195</td>\n",
       "      <td>0.829060</td>\n",
       "    </tr>\n",
       "    <tr>\n",
       "      <th>1</th>\n",
       "      <td>sidebyside</td>\n",
       "      <td>gpt-4o</td>\n",
       "      <td>0.736728</td>\n",
       "      <td>0.801068</td>\n",
       "      <td>0.864553</td>\n",
       "      <td>0.831601</td>\n",
       "    </tr>\n",
       "    <tr>\n",
       "      <th>2</th>\n",
       "      <td>image</td>\n",
       "      <td>gpt-5</td>\n",
       "      <td>0.700000</td>\n",
       "      <td>0.813333</td>\n",
       "      <td>0.792208</td>\n",
       "      <td>0.802632</td>\n",
       "    </tr>\n",
       "    <tr>\n",
       "      <th>3</th>\n",
       "      <td>sidebyside</td>\n",
       "      <td>gpt-5</td>\n",
       "      <td>0.710000</td>\n",
       "      <td>0.824324</td>\n",
       "      <td>0.792208</td>\n",
       "      <td>0.807947</td>\n",
       "    </tr>\n",
       "  </tbody>\n",
       "</table>\n",
       "</div>"
      ],
      "text/plain": [
       "       format   model  accuracy  precision    recall        f1\n",
       "0       image  gpt-4o  0.727582   0.778075  0.887195  0.829060\n",
       "1  sidebyside  gpt-4o  0.736728   0.801068  0.864553  0.831601\n",
       "2       image   gpt-5  0.700000   0.813333  0.792208  0.802632\n",
       "3  sidebyside   gpt-5  0.710000   0.824324  0.792208  0.807947"
      ]
     },
     "execution_count": 159,
     "metadata": {},
     "output_type": "execute_result"
    }
   ],
   "source": [
    "change_classifer_results = pd.DataFrame(results).T.reset_index(names=['format', 'model'])\n",
    "change_classifer_results"
   ]
  },
  {
   "cell_type": "markdown",
   "id": "30151a24",
   "metadata": {},
   "source": [
    "# Now again for the Identifier)"
   ]
  },
  {
   "cell_type": "code",
   "execution_count": 161,
   "id": "99c21534",
   "metadata": {},
   "outputs": [],
   "source": [
    "#pd.read_parquet(DB_PATH / 'groundtruth' / 'change_identifier.parquet')\n",
    "ft_val_df = set_up_validation_dataframe(\n",
    "    response_file    = 'identifier-image-4o.csv',\n",
    "    groundtruth_path = 'change_identifier.parquet',\n",
    "    true_class_col   = 'correct_tags',\n",
    "    pred_class_col   = 'features'\n",
    ").dropna()"
   ]
  },
  {
   "cell_type": "code",
   "execution_count": null,
   "id": "9f1c352b",
   "metadata": {},
   "outputs": [
    {
     "ename": "ValueError",
     "evalue": "The truth value of an empty array is ambiguous. Use `array.size > 0` to check that an array is not empty.",
     "output_type": "error",
     "traceback": [
      "\u001b[0;31m---------------------------------------------------------------------------\u001b[0m",
      "\u001b[0;31mValueError\u001b[0m                                Traceback (most recent call last)",
      "Cell \u001b[0;32mIn[131], line 44\u001b[0m\n\u001b[1;32m     32\u001b[0m     \u001b[38;5;28;01mreturn\u001b[39;00m {\n\u001b[1;32m     33\u001b[0m         \u001b[38;5;124m\"\u001b[39m\u001b[38;5;124msubset_accuracy\u001b[39m\u001b[38;5;124m\"\u001b[39m: subset_acc,\n\u001b[1;32m     34\u001b[0m         \u001b[38;5;124m\"\u001b[39m\u001b[38;5;124mmicro\u001b[39m\u001b[38;5;124m\"\u001b[39m: {\u001b[38;5;124m\"\u001b[39m\u001b[38;5;124mprecision\u001b[39m\u001b[38;5;124m\"\u001b[39m: micro_prec, \u001b[38;5;124m\"\u001b[39m\u001b[38;5;124mrecall\u001b[39m\u001b[38;5;124m\"\u001b[39m: micro_rec, \u001b[38;5;124m\"\u001b[39m\u001b[38;5;124mf1\u001b[39m\u001b[38;5;124m\"\u001b[39m: micro_f1, \u001b[38;5;124m\"\u001b[39m\u001b[38;5;124mjaccard\u001b[39m\u001b[38;5;124m\"\u001b[39m: micro_jacc},\n\u001b[1;32m     35\u001b[0m         \u001b[38;5;124m\"\u001b[39m\u001b[38;5;124mcounts\u001b[39m\u001b[38;5;124m\"\u001b[39m: {\u001b[38;5;124m\"\u001b[39m\u001b[38;5;124mtp\u001b[39m\u001b[38;5;124m\"\u001b[39m: micro_tp, \u001b[38;5;124m\"\u001b[39m\u001b[38;5;124mfp\u001b[39m\u001b[38;5;124m\"\u001b[39m: micro_fp, \u001b[38;5;124m\"\u001b[39m\u001b[38;5;124mfn\u001b[39m\u001b[38;5;124m\"\u001b[39m: micro_fn, \u001b[38;5;124m\"\u001b[39m\u001b[38;5;124mn_samples\u001b[39m\u001b[38;5;124m\"\u001b[39m: n},\n\u001b[1;32m     36\u001b[0m     }\n\u001b[1;32m     38\u001b[0m \u001b[38;5;66;03m# Example\u001b[39;00m\n\u001b[1;32m     39\u001b[0m \u001b[38;5;66;03m# y_true = [[\"bike lane\",\"crosswalk\"], [\"median\"], [], [\"bus lane\",\"curb extension\"]]\u001b[39;00m\n\u001b[1;32m     40\u001b[0m \u001b[38;5;66;03m# y_pred = [[\"crosswalk\",\"bike lane\"], [\"median\",\"turn lane\"], [], [\"bus lane\"]]\u001b[39;00m\n\u001b[1;32m     41\u001b[0m \u001b[38;5;66;03m# print(validate_feature_identifier_min(y_true, y_pred))\u001b[39;00m\n\u001b[0;32m---> 44\u001b[0m \u001b[43mvalidate_feature_identifier_min\u001b[49m\u001b[43m(\u001b[49m\u001b[43mft_val_df\u001b[49m\u001b[43m[\u001b[49m\u001b[38;5;124;43m'\u001b[39;49m\u001b[38;5;124;43mtrue_class\u001b[39;49m\u001b[38;5;124;43m'\u001b[39;49m\u001b[43m]\u001b[49m\u001b[43m,\u001b[49m\u001b[43m \u001b[49m\u001b[43mft_val_df\u001b[49m\u001b[43m[\u001b[49m\u001b[38;5;124;43m'\u001b[39;49m\u001b[38;5;124;43mpred_class\u001b[39;49m\u001b[38;5;124;43m'\u001b[39;49m\u001b[43m]\u001b[49m\u001b[43m)\u001b[49m\n",
      "Cell \u001b[0;32mIn[131], line 13\u001b[0m, in \u001b[0;36mvalidate_feature_identifier_min\u001b[0;34m(y_true, y_pred)\u001b[0m\n\u001b[1;32m     10\u001b[0m n \u001b[38;5;241m=\u001b[39m \u001b[38;5;28mlen\u001b[39m(y_true)\n\u001b[1;32m     12\u001b[0m \u001b[38;5;28;01mfor\u001b[39;00m t, p \u001b[38;5;129;01min\u001b[39;00m \u001b[38;5;28mzip\u001b[39m(y_true, y_pred):\n\u001b[0;32m---> 13\u001b[0m     tset \u001b[38;5;241m=\u001b[39m \u001b[38;5;28mset\u001b[39m(\u001b[43mt\u001b[49m\u001b[43m \u001b[49m\u001b[38;5;129;43;01mor\u001b[39;49;00m\u001b[43m \u001b[49m\u001b[43m[\u001b[49m\u001b[43m]\u001b[49m)\n\u001b[1;32m     14\u001b[0m     pset \u001b[38;5;241m=\u001b[39m \u001b[38;5;28mset\u001b[39m(p \u001b[38;5;129;01mor\u001b[39;00m [])\n\u001b[1;32m     15\u001b[0m     tp \u001b[38;5;241m=\u001b[39m \u001b[38;5;28mlen\u001b[39m(tset \u001b[38;5;241m&\u001b[39m pset)\n",
      "\u001b[0;31mValueError\u001b[0m: The truth value of an empty array is ambiguous. Use `array.size > 0` to check that an array is not empty."
     ]
    }
   ],
   "source": [
    "# example gpt feature identifier metrics\n",
    "from typing import Iterable, List, Hashable, Dict, Any\n",
    "\n",
    "def validate_feature_identifier_min(\n",
    "    y_true: List[Iterable[Hashable]],\n",
    "    y_pred: List[Iterable[Hashable]],\n",
    ") -> Dict[str, Any]:\n",
    "    assert len(y_true) == len(y_pred)\n",
    "    micro_tp = micro_fp = micro_fn = exact = 0\n",
    "    n = len(y_true)\n",
    "\n",
    "    for t, p in zip(y_true, y_pred):\n",
    "        tset = set(t or [])\n",
    "        pset = set(p or [])\n",
    "        tp = len(tset & pset)\n",
    "        fp = len(pset - tset)\n",
    "        fn = len(tset - pset)\n",
    "        micro_tp += tp; micro_fp += fp; micro_fn += fn\n",
    "        exact += int(tset == pset)\n",
    "\n",
    "    def f1(tp, fp, fn):\n",
    "        prec = 0.0 if tp + fp == 0 else tp / (tp + fp)\n",
    "        rec  = 0.0 if tp + fn == 0 else tp / (tp + fn)\n",
    "        return 0.0 if prec + rec == 0 else 2 * prec * rec / (prec + rec)\n",
    "\n",
    "    subset_acc = 0.0 if n == 0 else exact / n\n",
    "    micro_prec = 0.0 if (micro_tp + micro_fp) == 0 else micro_tp / (micro_tp + micro_fp)\n",
    "    micro_rec  = 0.0 if (micro_tp + micro_fn) == 0 else micro_tp / (micro_tp + micro_fn)\n",
    "    micro_f1   = f1(micro_tp, micro_fp, micro_fn)\n",
    "    micro_jacc = 0.0 if (micro_tp + micro_fp + micro_fn) == 0 else micro_tp / (micro_tp + micro_fp + micro_fn)\n",
    "\n",
    "    return {\n",
    "        \"subset_accuracy\": subset_acc,\n",
    "        \"micro\": {\"precision\": micro_prec, \"recall\": micro_rec, \"f1\": micro_f1, \"jaccard\": micro_jacc},\n",
    "        \"counts\": {\"tp\": micro_tp, \"fp\": micro_fp, \"fn\": micro_fn, \"n_samples\": n},\n",
    "    }\n",
    "\n",
    "# Example\n",
    "# y_true = [[\"bike lane\",\"crosswalk\"], [\"median\"], [], [\"bus lane\",\"curb extension\"]]\n",
    "# y_pred = [[\"crosswalk\",\"bike lane\"], [\"median\",\"turn lane\"], [], [\"bus lane\"]]\n",
    "# print(validate_feature_identifier_min(y_true, y_pred))\n",
    "\n",
    "\n",
    "#validate_feature_identifier_min(ft_val_df['true_class'], ft_val_df['pred_class'])"
   ]
  },
  {
   "cell_type": "code",
   "execution_count": 160,
   "id": "41b752f2",
   "metadata": {},
   "outputs": [
    {
     "data": {
      "text/plain": [
       "{'subset_accuracy': 0.05439814814814815,\n",
       " 'micro': {'precision': 0.22409992652461425,\n",
       "  'recall': 0.12666112956810632,\n",
       "  'f1': 0.16184664367206156,\n",
       "  'jaccard': 0.08804849884526558},\n",
       " 'counts': {'tp': 305, 'fp': 1056, 'fn': 2103, 'n_samples': 864}}"
      ]
     },
     "execution_count": 160,
     "metadata": {},
     "output_type": "execute_result"
    }
   ],
   "source": [
    "validate_feature_identifier_min(\n",
    "    [x.tolist() for x in ft_val_df['true_class'].tolist()],\n",
    "    ft_val_df['pred_class'].tolist(),\n",
    ")\n",
    "#[x.tolist() for x in ft_val_df['pred_class'].tolist()]\n",
    "#ft_val_df['pred_class'].tolist()"
   ]
  },
  {
   "cell_type": "code",
   "execution_count": null,
   "id": "ac69322f",
   "metadata": {},
   "outputs": [],
   "source": [
    "9046811"
   ]
  },
  {
   "cell_type": "code",
   "execution_count": null,
   "id": "38e4abbc",
   "metadata": {},
   "outputs": [],
   "source": []
  }
 ],
 "metadata": {
  "kernelspec": {
   "display_name": "streettransformer (3.11.7)",
   "language": "python",
   "name": "python3"
  },
  "language_info": {
   "codemirror_mode": {
    "name": "ipython",
    "version": 3
   },
   "file_extension": ".py",
   "mimetype": "text/x-python",
   "name": "python",
   "nbconvert_exporter": "python",
   "pygments_lexer": "ipython3",
   "version": "3.11.7"
  }
 },
 "nbformat": 4,
 "nbformat_minor": 5
}
